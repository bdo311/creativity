{
 "cells": [
  {
   "cell_type": "markdown",
   "metadata": {},
   "source": [
    "# Reduce list of authors"
   ]
  },
  {
   "cell_type": "code",
   "execution_count": 1,
   "metadata": {
    "collapsed": true
   },
   "outputs": [],
   "source": [
    "import numpy as np\n",
    "import cPickle as pickle\n",
    "import pandas as pd\n",
    "import collections\n",
    "import glob\n",
    "import seaborn as sns\n",
    "\n",
    "%matplotlib inline"
   ]
  },
  {
   "cell_type": "code",
   "execution_count": 2,
   "metadata": {
    "collapsed": true
   },
   "outputs": [],
   "source": [
    "author_to_pmids = pickle.load(open(\"../data/pubmed_author_to_pmids.pkl\", 'r'))"
   ]
  },
  {
   "cell_type": "code",
   "execution_count": 9,
   "metadata": {
    "collapsed": true
   },
   "outputs": [],
   "source": [
    "all_authors = set(author_to_pmids.keys())"
   ]
  },
  {
   "cell_type": "code",
   "execution_count": 14,
   "metadata": {
    "collapsed": false
   },
   "outputs": [],
   "source": [
    "authors_to_initial = {}\n",
    "all_authors_initial = set()\n",
    "for au in all_authors:\n",
    "    try:\n",
    "        firstname = au.split(',')[1].split(' ')\n",
    "        initials = ' '.join([x[0] for x in firstname])\n",
    "        newname = ','.join([au.split(',')[0], initials])\n",
    "        all_authors_initial.add(newname)\n",
    "        \n",
    "        authors_to_initial[au] = newname\n",
    "    except:\n",
    "        continue"
   ]
  },
  {
   "cell_type": "code",
   "execution_count": 15,
   "metadata": {
    "collapsed": false
   },
   "outputs": [
    {
     "data": {
      "text/plain": [
       "8158637"
      ]
     },
     "execution_count": 15,
     "metadata": {},
     "output_type": "execute_result"
    }
   ],
   "source": [
    "len(all_authors_initial)"
   ]
  },
  {
   "cell_type": "code",
   "execution_count": 17,
   "metadata": {
    "collapsed": false
   },
   "outputs": [
    {
     "data": {
      "text/plain": [
       "['Babine,A M',\n",
       " 'Naumann-Bartsch,N',\n",
       " 'Rempas,S P',\n",
       " 'Vrtis,J',\n",
       " 'Ongkorahadjo,A',\n",
       " 'Collen,E B',\n",
       " 'Moo,I',\n",
       " u'Domonkosov\\xe1,A',\n",
       " 'Escalona,L',\n",
       " 'Carballo-Costa,L',\n",
       " 'DERGANC,M',\n",
       " 'Henricks Holtz,S',\n",
       " 'DERGANC,K',\n",
       " 'G Nicolau,B',\n",
       " 'Vrtis,V',\n",
       " 'DERGANC,F',\n",
       " 'Vrtis,R',\n",
       " 'Lustgarten,B P',\n",
       " 'Haiyong,Z',\n",
       " 'SCHNEIDER-REINKENS,A']"
      ]
     },
     "execution_count": 17,
     "metadata": {},
     "output_type": "execute_result"
    }
   ],
   "source": [
    "list(all_authors_initial)[:20]"
   ]
  },
  {
   "cell_type": "code",
   "execution_count": 18,
   "metadata": {
    "collapsed": true
   },
   "outputs": [],
   "source": [
    "lastname_to_count = collections.defaultdict(lambda: 0)\n",
    "for au in all_authors_initial:\n",
    "    lastname_to_count[au.split(',')[0]] += 1"
   ]
  },
  {
   "cell_type": "code",
   "execution_count": 24,
   "metadata": {
    "collapsed": false
   },
   "outputs": [],
   "source": [
    "unique_author_to_pmids = {}\n",
    "for au in all_authors:\n",
    "    if lastname_to_count[au.split(',')[0]] == 1:\n",
    "        try:\n",
    "            pmids = author_to_pmids.get(au, [])\n",
    "            pmids.extend(unique_author_to_pmids.get(authors_to_initial[au], []))\n",
    "            unique_author_to_pmids[au] = pmids\n",
    "        except:\n",
    "            continue"
   ]
  },
  {
   "cell_type": "code",
   "execution_count": 25,
   "metadata": {
    "collapsed": false
   },
   "outputs": [
    {
     "data": {
      "text/plain": [
       "1926890"
      ]
     },
     "execution_count": 25,
     "metadata": {},
     "output_type": "execute_result"
    }
   ],
   "source": [
    "len(unique_author_to_pmids)"
   ]
  },
  {
   "cell_type": "code",
   "execution_count": 26,
   "metadata": {
    "collapsed": false
   },
   "outputs": [
    {
     "data": {
      "text/plain": [
       "['Naumann-Bartsch,N',\n",
       " 'Ben-Tekaya,Houchaima',\n",
       " 'MARKOVIC-GIAJA,L',\n",
       " 'Kapravelos,N',\n",
       " 'G Ennas,Maria',\n",
       " u'Domonkosov\\xe1,A',\n",
       " u'S\\xe1nchez Beorlegui,Jes\\xfas',\n",
       " 'Davidow Hirshbein,Laura',\n",
       " \"Monforte d'Arminio,Antonella\",\n",
       " 'Henricks Holtz,S',\n",
       " 'Kaltunas,Jennifer',\n",
       " 'Ringdal Pedersen,Eva',\n",
       " 'PAWLOWSKA-BYCHOWSKA,I',\n",
       " \"Puoris'haag,Mehron\",\n",
       " 'Navui,S A',\n",
       " 'Bello-Novoa,Betsy',\n",
       " 'Hronowsky,Xiaoping',\n",
       " 'SCHNEIDER-REINKENS,A',\n",
       " 'Grueiro-Noche,G']"
      ]
     },
     "execution_count": 26,
     "metadata": {},
     "output_type": "execute_result"
    }
   ],
   "source": [
    "unique_author_to_pmids.keys()[1:20]"
   ]
  },
  {
   "cell_type": "code",
   "execution_count": 46,
   "metadata": {
    "collapsed": true
   },
   "outputs": [],
   "source": [
    "num_papers = []\n",
    "for au in unique_author_to_pmids:\n",
    "    num_papers.append(len(set(unique_author_to_pmids[au])))\n",
    "\n",
    "num_papers = np.array(num_papers)\n",
    "np.sum(num_papers > 2)"
   ]
  },
  {
   "cell_type": "code",
   "execution_count": 44,
   "metadata": {
    "collapsed": true
   },
   "outputs": [],
   "source": [
    "unique_author_to_pmids_3 = {}\n",
    "for au in unique_author_to_pmids:\n",
    "    papers = unique_author_to_pmids[au]\n",
    "    if len(set(papers)) > 2: unique_author_to_pmids_3[au] = list(set(papers))"
   ]
  },
  {
   "cell_type": "code",
   "execution_count": 62,
   "metadata": {
    "collapsed": false
   },
   "outputs": [
    {
     "data": {
      "text/plain": [
       "[(15507210, 3, 6),\n",
       " (17084704, 1, 7),\n",
       " (18454158, 3, 7),\n",
       " (19883123, 2, 7),\n",
       " (15878843, 3, 5)]"
      ]
     },
     "execution_count": 62,
     "metadata": {},
     "output_type": "execute_result"
    }
   ],
   "source": [
    "unique_author_to_pmids_3[\"Boykevisch,Sean\"]"
   ]
  },
  {
   "cell_type": "code",
   "execution_count": 52,
   "metadata": {
    "collapsed": true
   },
   "outputs": [],
   "source": [
    "pickle.dump(unique_author_to_pmids_3, open(\"../data/unique_author_to_pmids_3.pkl\", 'w'))"
   ]
  },
  {
   "cell_type": "code",
   "execution_count": 71,
   "metadata": {
    "collapsed": false
   },
   "outputs": [
    {
     "name": "stdout",
     "output_type": "stream",
     "text": [
      "../data/pubmed_statistics/pubmed_statistics_1100.pkl\n",
      "../data/pubmed_statistics/pubmed_statistics_2000.pkl\n",
      "../data/pubmed_statistics/pubmed_statistics_500.pkl\n",
      "../data/pubmed_statistics/pubmed_statistics_2800.pkl\n",
      "../data/pubmed_statistics/pubmed_statistics_2400.pkl\n",
      "../data/pubmed_statistics/pubmed_statistics_2900.pkl\n",
      "../data/pubmed_statistics/pubmed_statistics_1500.pkl\n",
      "../data/pubmed_statistics/pubmed_statistics_1700.pkl\n",
      "../data/pubmed_statistics/pubmed_statistics_700.pkl\n",
      "../data/pubmed_statistics/pubmed_statistics_2300.pkl\n",
      "../data/pubmed_statistics/pubmed_statistics_300.pkl\n",
      "../data/pubmed_statistics/pubmed_statistics_400.pkl\n",
      "../data/pubmed_statistics/pubmed_statistics_2100.pkl\n",
      "../data/pubmed_statistics/pubmed_statistics_200.pkl\n",
      "../data/pubmed_statistics/pubmed_statistics_2500.pkl\n",
      "../data/pubmed_statistics/pubmed_statistics_600.pkl\n",
      "../data/pubmed_statistics/pubmed_statistics_1400.pkl\n",
      "../data/pubmed_statistics/pubmed_statistics_1300.pkl\n",
      "../data/pubmed_statistics/pubmed_statistics_1200.pkl\n",
      "../data/pubmed_statistics/pubmed_statistics_1000.pkl\n",
      "../data/pubmed_statistics/pubmed_statistics_800.pkl\n",
      "../data/pubmed_statistics/pubmed_statistics_1800.pkl\n",
      "../data/pubmed_statistics/pubmed_statistics_1600.pkl\n",
      "../data/pubmed_statistics/pubmed_statistics_2600.pkl\n",
      "../data/pubmed_statistics/pubmed_statistics_2200.pkl\n",
      "../data/pubmed_statistics/pubmed_statistics_900.pkl\n",
      "../data/pubmed_statistics/pubmed_statistics_1900.pkl\n",
      "../data/pubmed_statistics/pubmed_statistics_100.pkl\n",
      "../data/pubmed_statistics/pubmed_statistics_2700.pkl\n"
     ]
    }
   ],
   "source": [
    "# Get PMID to year data for all papers\n",
    "pmid_to_yr = {}\n",
    "ctr = 0\n",
    "for fn in glob.glob(\"../data/pubmed_statistics/pubmed_statistics*.pkl\"):\n",
    "    print fn\n",
    "\n",
    "    data = pickle.load(open(fn, 'r'))\n",
    "    for rec in data:\n",
    "        try:\n",
    "            pmid_to_yr[rec] = data[rec][1]   \n",
    "        except:\n",
    "            continue"
   ]
  },
  {
   "cell_type": "code",
   "execution_count": 90,
   "metadata": {
    "collapsed": true
   },
   "outputs": [],
   "source": [
    "pickle.dump(pmid_to_yr, open(\"../data/pmid_to_yr.pkl\", 'w'))"
   ]
  },
  {
   "cell_type": "code",
   "execution_count": 5,
   "metadata": {
    "collapsed": false
   },
   "outputs": [],
   "source": [
    "# If running analysis again, open these 3 files\n",
    "pmid_to_yr = pickle.load(open(\"../data/pmid_to_yr.pkl\", 'r'))\n",
    "unique_author_to_pmids_3 = pickle.load(open(\"../data/unique_author_to_pmids_3.pkl\", 'r'))\n",
    "case_reports = set(pickle.load(open(\"../data/case_report_pmids.pkl\", 'r')))"
   ]
  },
  {
   "cell_type": "code",
   "execution_count": 19,
   "metadata": {
    "collapsed": false
   },
   "outputs": [],
   "source": [
    "unique_author_to_pmids_3_yr = {}\n",
    "for au in unique_author_to_pmids_3:\n",
    "    papers = unique_author_to_pmids_3[au]\n",
    "    papers_with_yrs = []\n",
    "    for paper in papers:\n",
    "        try:\n",
    "            if paper[0] in case_reports: continue  # remove papers that are case reports\n",
    "            paper = list(paper)\n",
    "            paper.append(pmid_to_yr[paper[0]])\n",
    "            \n",
    "            if paper[-1] >= 2014: continue  # to mimic the Current Bio dataset\n",
    "            papers_with_yrs.append(paper)\n",
    "\n",
    "        except:\n",
    "            continue\n",
    "    if len(papers_with_yrs) == 0: continue  # if all of an author's papers were case reports, we get rid of the author\n",
    "        \n",
    "    sorted_papers = sorted(papers_with_yrs, key=lambda x: x[-1])\n",
    "    if sorted_papers[0][-1] > 2000 or sorted_papers[0][-1] < 1996: continue  # first paper between 1996 and 2000\n",
    "\n",
    "    ctr_last = 0\n",
    "    for paper in sorted_papers[:4]:\n",
    "        if paper[1] == paper[2]: ctr_last += 1\n",
    "    if ctr_last >= 2: continue  # at least 2 of first 4 pubs were last author\n",
    "\n",
    "    unique_author_to_pmids_3_yr[au] = sorted_papers"
   ]
  },
  {
   "cell_type": "code",
   "execution_count": 21,
   "metadata": {
    "collapsed": false
   },
   "outputs": [
    {
     "data": {
      "text/plain": [
       "35753"
      ]
     },
     "execution_count": 21,
     "metadata": {},
     "output_type": "execute_result"
    }
   ],
   "source": [
    "len(unique_author_to_pmids_3_yr.keys())"
   ]
  },
  {
   "cell_type": "code",
   "execution_count": 9,
   "metadata": {
    "collapsed": false
   },
   "outputs": [
    {
     "data": {
      "text/plain": [
       "[[9097232, 2, 6, 1996],\n",
       " [9541408, 7, 10, 1998],\n",
       " [10424761, 2, 3, 1999],\n",
       " [10950852, 3, 5, 2000],\n",
       " [10714603, 1, 3, 2000],\n",
       " [10647910, 1, 4, 2000],\n",
       " [11442279, 1, 4, 2001],\n",
       " [12042666, 2, 9, 2002],\n",
       " [15037607, 1, 10, 2004],\n",
       " [15630080, 3, 4, 2005]]"
      ]
     },
     "execution_count": 9,
     "metadata": {},
     "output_type": "execute_result"
    }
   ],
   "source": [
    "unique_author_to_pmids_3_yr[\"Galijatovic,Alema\"]"
   ]
  },
  {
   "cell_type": "code",
   "execution_count": 23,
   "metadata": {
    "collapsed": true
   },
   "outputs": [],
   "source": [
    "# figuring out PI status\n",
    "pi_history = {}\n",
    "pi_years = []\n",
    "for au in unique_author_to_pmids_3_yr:\n",
    "    ctr_last = 0\n",
    "    papers = unique_author_to_pmids_3_yr[au]\n",
    "    pi = 0\n",
    "    start = papers[0][-1]\n",
    "    for paper in papers:\n",
    "        if paper[1] == paper[2]: ctr_last += 1\n",
    "        if ctr_last == 2:\n",
    "            pi = paper[-1]  # take the date of the second last author paper\n",
    "    years = pi - start if pi != 0 else 0\n",
    "    \n",
    "    # remove PIs with less than 3 last author papers\n",
    "    if ctr_last < 3: \n",
    "        pi = 0\n",
    "        years = 0\n",
    "\n",
    "    pi_history[au] = (pi, start, years)\n",
    "    \n",
    "    if years != 0: pi_years.append(years)"
   ]
  },
  {
   "cell_type": "code",
   "execution_count": 24,
   "metadata": {
    "collapsed": false
   },
   "outputs": [
    {
     "data": {
      "text/plain": [
       "2916"
      ]
     },
     "execution_count": 24,
     "metadata": {},
     "output_type": "execute_result"
    }
   ],
   "source": [
    "len(pi_years)"
   ]
  },
  {
   "cell_type": "code",
   "execution_count": 25,
   "metadata": {
    "collapsed": false
   },
   "outputs": [
    {
     "data": {
      "text/plain": [
       "<matplotlib.axes._subplots.AxesSubplot at 0x2b05a7a45c90>"
      ]
     },
     "execution_count": 25,
     "metadata": {},
     "output_type": "execute_result"
    },
    {
     "data": {
      "image/png": "[encoded data removed]",
      "text/plain": [
       "<matplotlib.figure.Figure at 0x2b05c3a70a90>"
      ]
     },
     "metadata": {},
     "output_type": "display_data"
    }
   ],
   "source": [
    "sns.distplot(pi_years, kde=False, bins=range(20))"
   ]
  }
 ],
 "metadata": {
  "anaconda-cloud": {},
  "kernelspec": {
   "display_name": "Python [default]",
   "language": "python",
   "name": "python2"
  },
  "language_info": {
   "codemirror_mode": {
    "name": "ipython",
    "version": 2
   },
   "file_extension": ".py",
   "mimetype": "text/x-python",
   "name": "python",
   "nbconvert_exporter": "python",
   "pygments_lexer": "ipython2",
   "version": "2.7.12"
  }
 },
 "nbformat": 4,
 "nbformat_minor": 2
}
