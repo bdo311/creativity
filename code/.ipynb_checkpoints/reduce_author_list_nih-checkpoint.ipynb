{
 "cells": [
  {
   "cell_type": "markdown",
   "metadata": {},
   "source": [
    "# Reduce author list (NIH paper data)"
   ]
  },
  {
   "cell_type": "code",
   "execution_count": 87,
   "metadata": {
    "collapsed": true
   },
   "outputs": [],
   "source": [
    "import numpy as np\n",
    "import cPickle as pickle\n",
    "import pandas as pd\n",
    "import collections\n",
    "import glob\n",
    "import seaborn as sns\n",
    "import os\n",
    "\n",
    "%matplotlib inline"
   ]
  },
  {
   "cell_type": "markdown",
   "metadata": {},
   "source": [
    "Pull in data that was processed previously in download_nih_data.ipynb"
   ]
  },
  {
   "cell_type": "code",
   "execution_count": 2,
   "metadata": {
    "collapsed": true
   },
   "outputs": [],
   "source": [
    "(author_to_pmids, authors_sorted, journal_to_num) = pickle.load(open(\"../data/nih_paper_info.pkl\", 'r'))"
   ]
  },
  {
   "cell_type": "markdown",
   "metadata": {},
   "source": [
    "Get a mapping of all author names to their initialed versions"
   ]
  },
  {
   "cell_type": "code",
   "execution_count": 104,
   "metadata": {
    "collapsed": false
   },
   "outputs": [
    {
     "data": {
      "text/plain": [
       "1289530"
      ]
     },
     "execution_count": 104,
     "metadata": {},
     "output_type": "execute_result"
    }
   ],
   "source": [
    "authors_to_initial = {}\n",
    "all_authors_initial = set()\n",
    "for au in authors_sorted:\n",
    "    try:\n",
    "        firstname = au.split(', ')[1].split(' ')\n",
    "        initials = ' '.join([x[0] for x in firstname])\n",
    "        newname = ', '.join([au.split(', ')[0], initials])\n",
    "        all_authors_initial.add(newname)\n",
    "        \n",
    "        authors_to_initial[au] = newname\n",
    "    except:\n",
    "        continue\n",
    "\n",
    "len(all_authors_initial)"
   ]
  },
  {
   "cell_type": "markdown",
   "metadata": {},
   "source": [
    "For unique authors, get a listing of author to papers that are not case reports.\n",
    "\n",
    "Here we only take authors for whom there is only one author for that particular last name. For these authors, we are confident that there is only author with that last name, so we merge the list of papers that map to the initialed and uninitialed version of that name (in case there are papers from both before and after 2002)."
   ]
  },
  {
   "cell_type": "code",
   "execution_count": 91,
   "metadata": {
    "collapsed": true
   },
   "outputs": [],
   "source": [
    "case_reports = set(pickle.load(open(\"../data/case_report_pmids.pkl\", 'r')))\n",
    "\n",
    "lastname_to_count = collections.defaultdict(lambda: 0)\n",
    "for au in all_authors_initial:\n",
    "    lastname_to_count[au.split(', ')[0]] += 1"
   ]
  },
  {
   "cell_type": "code",
   "execution_count": 92,
   "metadata": {
    "collapsed": false
   },
   "outputs": [],
   "source": [
    "unique_author_to_pmids = {}\n",
    "for au in authors_sorted:\n",
    "    if lastname_to_count[au.split(', ')[0]] == 1:\n",
    "        try:\n",
    "            pmids = list(author_to_pmids.get(au, []))\n",
    "            pmids.extend(unique_author_to_pmids.get(authors_to_initial[au], []))\n",
    "            \n",
    "            # remove papers that are case reports\n",
    "            pmids_no_case_reports = []\n",
    "            for paper in pmids:\n",
    "                if paper[0] not in case_reports:\n",
    "                    pmids_no_case_reports.append(paper)\n",
    "            unique_author_to_pmids[au] = pmids_no_case_reports\n",
    "            \n",
    "        except:\n",
    "            continue"
   ]
  },
  {
   "cell_type": "code",
   "execution_count": 93,
   "metadata": {
    "collapsed": false
   },
   "outputs": [
    {
     "data": {
      "text/plain": [
       "299479"
      ]
     },
     "execution_count": 93,
     "metadata": {},
     "output_type": "execute_result"
    }
   ],
   "source": [
    "len(unique_author_to_pmids)"
   ]
  },
  {
   "cell_type": "markdown",
   "metadata": {},
   "source": [
    "We then take only the authors with >3 papers."
   ]
  },
  {
   "cell_type": "code",
   "execution_count": 94,
   "metadata": {
    "collapsed": true
   },
   "outputs": [],
   "source": [
    "num_papers = []\n",
    "for au in unique_author_to_pmids:\n",
    "    num_papers.append(len(set(unique_author_to_pmids[au])))\n",
    "\n",
    "num_papers = np.array(num_papers)\n",
    "np.sum(num_papers > 2)"
   ]
  },
  {
   "cell_type": "code",
   "execution_count": 103,
   "metadata": {
    "collapsed": false
   },
   "outputs": [
    {
     "data": {
      "text/plain": [
       "['Gerberry, David J',\n",
       " 'Cheun, J E',\n",
       " 'Harakall, S A',\n",
       " 'Jelalian, Elissa',\n",
       " 'Dolegowska, Barbara',\n",
       " 'Mutapcic, Lejla',\n",
       " 'BeLue, Rhonda',\n",
       " 'Caniggia, I',\n",
       " 'Rouquette-Jazdanian, Alexandre K',\n",
       " 'Lo Turco, J J']"
      ]
     },
     "execution_count": 103,
     "metadata": {},
     "output_type": "execute_result"
    }
   ],
   "source": [
    "unique_author_to_pmids_3 = {}\n",
    "for au in unique_author_to_pmids:\n",
    "    papers = unique_author_to_pmids[au]\n",
    "    if len(set(papers)) > 2: unique_author_to_pmids_3[au] = list(set(papers))\n",
    "\n",
    "unique_author_to_pmids_3.keys()[:10]"
   ]
  },
  {
   "cell_type": "code",
   "execution_count": 99,
   "metadata": {
    "collapsed": false
   },
   "outputs": [
    {
     "data": {
      "text/plain": [
       "[(21537115, 1, 2, 2011), (25462707, 1, 5, 2014), (20539095, 1, 2, 2010)]"
      ]
     },
     "execution_count": 99,
     "metadata": {},
     "output_type": "execute_result"
    }
   ],
   "source": [
    "unique_author_to_pmids_3[\"Gerberry, David J\"]"
   ]
  },
  {
   "cell_type": "markdown",
   "metadata": {},
   "source": [
    "We restrict our set of authors based on the following criteria:\n",
    "- their first paper must be between 1998 and 2002, inclusive\n",
    "- at most 1 of their first 4 papers can be last author "
   ]
  },
  {
   "cell_type": "code",
   "execution_count": 100,
   "metadata": {
    "collapsed": false
   },
   "outputs": [
    {
     "data": {
      "text/plain": [
       "12041"
      ]
     },
     "execution_count": 100,
     "metadata": {},
     "output_type": "execute_result"
    }
   ],
   "source": [
    "unique_author_to_pmids_3_yr = {}\n",
    "for au in unique_author_to_pmids_3:\n",
    "\n",
    "    sorted_papers = sorted(unique_author_to_pmids_3[au], key=lambda x: x[-1])\n",
    "    if sorted_papers[0][-1] > 2002 or sorted_papers[0][-1] < 1998: continue  # first paper between 1996 and 2000\n",
    "    ctr_last = 0\n",
    "    for paper in sorted_papers[:4]:\n",
    "        if paper[1] == paper[2]: ctr_last += 1\n",
    "    if ctr_last >= 2: continue  # at least 2 of first 4 pubs were last author\n",
    "    \n",
    "    unique_author_to_pmids_3_yr[au] = sorted_papers\n",
    "\n",
    "len(unique_author_to_pmids_3_yr.keys())"
   ]
  },
  {
   "cell_type": "markdown",
   "metadata": {},
   "source": [
    "We first restricted our list of PIs to those that had at least 3 last-author publications. To determine when they became a PI, we used the date of their second last-author publication. "
   ]
  },
  {
   "cell_type": "code",
   "execution_count": 101,
   "metadata": {
    "collapsed": false
   },
   "outputs": [
    {
     "data": {
      "text/plain": [
       "983"
      ]
     },
     "execution_count": 101,
     "metadata": {},
     "output_type": "execute_result"
    }
   ],
   "source": [
    "# figuring out PI status\n",
    "pi_history = {}\n",
    "pi_years = []\n",
    "for au in unique_author_to_pmids_3_yr:\n",
    "    ctr_last = 0\n",
    "    papers = unique_author_to_pmids_3_yr[au]\n",
    "    pi = 0\n",
    "    start = papers[0][-1]\n",
    "    for paper in papers:\n",
    "        if paper[1] == paper[2]: ctr_last += 1\n",
    "        if ctr_last == 2: pi = paper[-1]  # take the date of the 2nd last author paper\n",
    "    years = pi - start if pi != 0 else 0\n",
    "    \n",
    "    # remove PIs with less than 3 last author papers\n",
    "    if ctr_last < 3: \n",
    "        pi = 0\n",
    "        years = 0\n",
    "\n",
    "    pi_history[au] = (pi, start, years)\n",
    "    if years != 0: pi_years.append(years)\n",
    "\n",
    "len(pi_years)"
   ]
  },
  {
   "cell_type": "code",
   "execution_count": 102,
   "metadata": {
    "collapsed": false
   },
   "outputs": [
    {
     "data": {
      "text/plain": [
       "<matplotlib.axes._subplots.AxesSubplot at 0x2b6701893e50>"
      ]
     },
     "execution_count": 102,
     "metadata": {},
     "output_type": "execute_result"
    },
    {
     "data": {
      "image/png": "[encoded data removed]",
      "text/plain": [
       "<matplotlib.figure.Figure at 0x2b6701893990>"
      ]
     },
     "metadata": {},
     "output_type": "display_data"
    }
   ],
   "source": [
    "sns.distplot(pi_years, kde=False, bins = range(20))"
   ]
  }
 ],
 "metadata": {
  "anaconda-cloud": {},
  "kernelspec": {
   "display_name": "Python [default]",
   "language": "python",
   "name": "python2"
  },
  "language_info": {
   "codemirror_mode": {
    "name": "ipython",
    "version": 2
   },
   "file_extension": ".py",
   "mimetype": "text/x-python",
   "name": "python",
   "nbconvert_exporter": "python",
   "pygments_lexer": "ipython2",
   "version": "2.7.12"
  }
 },
 "nbformat": 4,
 "nbformat_minor": 2
}
