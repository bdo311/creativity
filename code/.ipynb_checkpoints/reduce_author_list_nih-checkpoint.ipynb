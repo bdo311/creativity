{
 "cells": [
  {
   "cell_type": "markdown",
   "metadata": {},
   "source": [
    "# Reduce author list (NIH paper data)"
   ]
  },
  {
   "cell_type": "code",
   "execution_count": 1,
   "metadata": {
    "collapsed": true
   },
   "outputs": [],
   "source": [
    "import numpy as np\n",
    "import cPickle as pickle\n",
    "import pandas as pd\n",
    "import collections\n",
    "import glob\n",
    "import seaborn as sns\n",
    "import os\n",
    "import re\n",
    "\n",
    "%matplotlib inline"
   ]
  },
  {
   "cell_type": "markdown",
   "metadata": {},
   "source": [
    "Pull in data that was processed previously in download_nih_data.ipynb"
   ]
  },
  {
   "cell_type": "code",
   "execution_count": 2,
   "metadata": {
    "collapsed": true
   },
   "outputs": [],
   "source": [
    "(author_to_pmids, authors_sorted, journal_to_num) = pickle.load(open(\"../data/nih_paper_info.pkl\", 'r'))"
   ]
  },
  {
   "cell_type": "markdown",
   "metadata": {},
   "source": [
    "## Fixing names"
   ]
  },
  {
   "cell_type": "markdown",
   "metadata": {},
   "source": [
    "Lots of middle initials appear at the beginning of names"
   ]
  },
  {
   "cell_type": "code",
   "execution_count": 182,
   "metadata": {
    "collapsed": false
   },
   "outputs": [],
   "source": [
    "middle_initial_first = set()\n",
    "for au in authors_sorted:\n",
    "    if len(au.split(' ')[0]) == 1:\n",
    "        middle_initial_first.add(au)"
   ]
  },
  {
   "cell_type": "code",
   "execution_count": 183,
   "metadata": {
    "collapsed": false
   },
   "outputs": [],
   "source": [
    "fix_mi_dict = {}\n",
    "for au in middle_initial_first:\n",
    "    au_split = au.split(' ')\n",
    "    \n",
    "    if ',' not in au:   # Disregard organization names\n",
    "        continue\n",
    "    if not re.search('[a-z]', au.split(',')[0]):  # Last names are just initials (e.g. Remant KC))\n",
    "        continue\n",
    "    if not re.match('[A-Z]', au):  # All names must begin with uppercase\n",
    "        continue\n",
    "        \n",
    "    if au_split[0] == 'O':  # Irish names: O Connell --> O'Connell\n",
    "        au_new = au.replace(\"O \", \"O'\")\n",
    "        fix_mi_dict[au] = au_new\n",
    "    else: \n",
    "        while len(au_split[0]) == 1 and au_split[0] >= 'A' and au_split[0] <= 'Z':  # move all initials to end\n",
    "            au_split_new = au_split[1:]\n",
    "            au_split_new.append(au_split[0])\n",
    "            au_new = ' '.join(au_split_new)\n",
    "            if au_new[0] == \" \": au_new = au_new[1:]\n",
    "            \n",
    "            au_split = au_new.split(' ')\n",
    "\n",
    "        fix_mi_dict[au] = au_new\n",
    "\n",
    "#fix_mi_dict"
   ]
  },
  {
   "cell_type": "code",
   "execution_count": 184,
   "metadata": {
    "collapsed": false
   },
   "outputs": [
    {
     "data": {
      "text/plain": [
       "2053069"
      ]
     },
     "execution_count": 184,
     "metadata": {},
     "output_type": "execute_result"
    }
   ],
   "source": [
    "for au in fix_mi_dict:\n",
    "    new_au = fix_mi_dict[au]\n",
    "    \n",
    "    new_pmids = list(author_to_pmids.get(new_au, []))\n",
    "    old_pmids = list(author_to_pmids[au])\n",
    "    new_pmids.extend(old_pmids)\n",
    "    author_to_pmids[new_au] = set(new_pmids)\n",
    "    del author_to_pmids[au]\n",
    "    \n",
    "authors_sorted = sorted(author_to_pmids.keys())\n",
    "len(authors_sorted)"
   ]
  },
  {
   "cell_type": "markdown",
   "metadata": {},
   "source": [
    "Get a mapping of all author names to their initialed versions"
   ]
  },
  {
   "cell_type": "markdown",
   "metadata": {},
   "source": [
    "## Follow the steps set out in 2014 Current Bio paper"
   ]
  },
  {
   "cell_type": "code",
   "execution_count": 86,
   "metadata": {
    "collapsed": false
   },
   "outputs": [
    {
     "data": {
      "text/plain": [
       "1289070"
      ]
     },
     "execution_count": 86,
     "metadata": {},
     "output_type": "execute_result"
    }
   ],
   "source": [
    "authors_to_initial = {}\n",
    "all_authors_initial = set()\n",
    "for au in authors_sorted:\n",
    "    try:\n",
    "        firstname = au.split(', ')[1].split(' ')\n",
    "        initials = ' '.join([x[0] for x in firstname])\n",
    "        newname = ', '.join([au.split(', ')[0], initials])\n",
    "        all_authors_initial.add(newname)\n",
    "        \n",
    "        authors_to_initial[au] = newname\n",
    "    except:\n",
    "        continue\n",
    "\n",
    "len(all_authors_initial)"
   ]
  },
  {
   "cell_type": "markdown",
   "metadata": {},
   "source": [
    "For unique authors, get a listing of author to papers that are not case reports.\n",
    "\n",
    "Here we only take authors for whom there is only one author for that particular last name. For these authors, we are confident that there is only author with that last name, so we merge the list of papers that map to the initialed and uninitialed version of that name (in case there are papers from both before and after 2002)."
   ]
  },
  {
   "cell_type": "code",
   "execution_count": 87,
   "metadata": {
    "collapsed": true
   },
   "outputs": [],
   "source": [
    "case_reports = set(pickle.load(open(\"../data/case_report_pmids.pkl\", 'r')))\n",
    "\n",
    "lastname_to_count = collections.defaultdict(lambda: 0)\n",
    "for au in all_authors_initial:\n",
    "    lastname_to_count[au.split(', ')[0]] += 1"
   ]
  },
  {
   "cell_type": "code",
   "execution_count": 88,
   "metadata": {
    "collapsed": false
   },
   "outputs": [],
   "source": [
    "unique_author_to_pmids = {}\n",
    "for au in authors_sorted:\n",
    "    if lastname_to_count[au.split(', ')[0]] == 1:\n",
    "        try:\n",
    "            pmids = list(author_to_pmids.get(au, []))\n",
    "            pmids.extend(unique_author_to_pmids.get(authors_to_initial[au], []))\n",
    "            \n",
    "            # remove papers that are case reports\n",
    "            pmids_no_case_reports = []\n",
    "            for paper in pmids:\n",
    "                if paper[0] not in case_reports:\n",
    "                    pmids_no_case_reports.append(paper)\n",
    "            unique_author_to_pmids[au] = pmids_no_case_reports\n",
    "            \n",
    "        except:\n",
    "            continue"
   ]
  },
  {
   "cell_type": "code",
   "execution_count": 89,
   "metadata": {
    "collapsed": false
   },
   "outputs": [
    {
     "data": {
      "text/plain": [
       "298963"
      ]
     },
     "execution_count": 89,
     "metadata": {},
     "output_type": "execute_result"
    }
   ],
   "source": [
    "len(unique_author_to_pmids)"
   ]
  },
  {
   "cell_type": "markdown",
   "metadata": {},
   "source": [
    "We then take only the authors with >3 papers."
   ]
  },
  {
   "cell_type": "code",
   "execution_count": 90,
   "metadata": {
    "collapsed": false
   },
   "outputs": [
    {
     "data": {
      "text/plain": [
       "85110"
      ]
     },
     "execution_count": 90,
     "metadata": {},
     "output_type": "execute_result"
    }
   ],
   "source": [
    "num_papers = []\n",
    "for au in unique_author_to_pmids:\n",
    "    num_papers.append(len(set(unique_author_to_pmids[au])))\n",
    "\n",
    "num_papers = np.array(num_papers)\n",
    "np.sum(num_papers > 2)"
   ]
  },
  {
   "cell_type": "code",
   "execution_count": 91,
   "metadata": {
    "collapsed": false
   },
   "outputs": [
    {
     "data": {
      "text/plain": [
       "['Gerberry, David J',\n",
       " 'Cheun, J E',\n",
       " 'Harakall, S A',\n",
       " 'Jelalian, Elissa',\n",
       " 'Dolegowska, Barbara',\n",
       " 'Mutapcic, Lejla',\n",
       " 'BeLue, Rhonda',\n",
       " 'Caniggia, I',\n",
       " 'Rouquette-Jazdanian, Alexandre K',\n",
       " 'Lo Turco, J J']"
      ]
     },
     "execution_count": 91,
     "metadata": {},
     "output_type": "execute_result"
    }
   ],
   "source": [
    "unique_author_to_pmids_3 = {}\n",
    "for au in unique_author_to_pmids:\n",
    "    papers = unique_author_to_pmids[au]\n",
    "    if len(set(papers)) > 2: unique_author_to_pmids_3[au] = list(set(papers))\n",
    "\n",
    "unique_author_to_pmids_3.keys()[:10]"
   ]
  },
  {
   "cell_type": "code",
   "execution_count": 92,
   "metadata": {
    "collapsed": false
   },
   "outputs": [
    {
     "data": {
      "text/plain": [
       "[(21537115, 1, 2, 2011), (25462707, 1, 5, 2014), (20539095, 1, 2, 2010)]"
      ]
     },
     "execution_count": 92,
     "metadata": {},
     "output_type": "execute_result"
    }
   ],
   "source": [
    "unique_author_to_pmids_3[\"Gerberry, David J\"]"
   ]
  },
  {
   "cell_type": "markdown",
   "metadata": {},
   "source": [
    "We restrict our set of authors based on the following criteria:\n",
    "- their first paper must be between 1998 and 2002, inclusive\n",
    "- at most 1 of their first 4 papers can be last author "
   ]
  },
  {
   "cell_type": "code",
   "execution_count": 93,
   "metadata": {
    "collapsed": false
   },
   "outputs": [
    {
     "data": {
      "text/plain": [
       "12042"
      ]
     },
     "execution_count": 93,
     "metadata": {},
     "output_type": "execute_result"
    }
   ],
   "source": [
    "unique_author_to_pmids_3_yr = {}\n",
    "for au in unique_author_to_pmids_3:\n",
    "\n",
    "    sorted_papers = sorted(unique_author_to_pmids_3[au], key=lambda x: x[-1])\n",
    "    if sorted_papers[0][-1] > 2002 or sorted_papers[0][-1] < 1998: continue  # first paper between 1996 and 2000\n",
    "    ctr_last = 0\n",
    "    for paper in sorted_papers[:4]:\n",
    "        if paper[1] == paper[2]: ctr_last += 1\n",
    "    if ctr_last >= 2: continue  # at least 2 of first 4 pubs were last author\n",
    "    \n",
    "    unique_author_to_pmids_3_yr[au] = sorted_papers\n",
    "\n",
    "len(unique_author_to_pmids_3_yr.keys())"
   ]
  },
  {
   "cell_type": "markdown",
   "metadata": {},
   "source": [
    "We first restricted our list of PIs to those that had at least 3 last-author publications. To determine when they became a PI, we used the date of their second last-author publication. "
   ]
  },
  {
   "cell_type": "code",
   "execution_count": 94,
   "metadata": {
    "collapsed": false
   },
   "outputs": [
    {
     "data": {
      "text/plain": [
       "983"
      ]
     },
     "execution_count": 94,
     "metadata": {},
     "output_type": "execute_result"
    }
   ],
   "source": [
    "# figuring out PI status\n",
    "pi_history = {}\n",
    "pi_years = []\n",
    "for au in unique_author_to_pmids_3_yr:\n",
    "    ctr_last = 0\n",
    "    papers = unique_author_to_pmids_3_yr[au]\n",
    "    pi = 0\n",
    "    start = papers[0][-1]\n",
    "    for paper in papers:\n",
    "        if paper[1] == paper[2]: ctr_last += 1\n",
    "        if ctr_last == 2: pi = paper[-1]  # take the date of the 2nd last author paper\n",
    "    years = pi - start if pi != 0 else 0\n",
    "    \n",
    "    # remove PIs with less than 3 last author papers\n",
    "    if ctr_last < 3: \n",
    "        pi = 0\n",
    "        years = 0\n",
    "\n",
    "    pi_history[au] = (pi, start, years)\n",
    "    if years != 0: pi_years.append(years)\n",
    "\n",
    "len(pi_years)"
   ]
  },
  {
   "cell_type": "code",
   "execution_count": 95,
   "metadata": {
    "collapsed": false
   },
   "outputs": [
    {
     "data": {
      "text/plain": [
       "<matplotlib.axes._subplots.AxesSubplot at 0x7f4adff00a90>"
      ]
     },
     "execution_count": 95,
     "metadata": {},
     "output_type": "execute_result"
    },
    {
     "data": {
      "image/png": "[encoded data removed]",
      "text/plain": [
       "<matplotlib.figure.Figure at 0x7f4a9f824190>"
      ]
     },
     "metadata": {},
     "output_type": "display_data"
    }
   ],
   "source": [
    "sns.distplot(pi_years, kde=False, bins = range(20))"
   ]
  },
  {
   "cell_type": "markdown",
   "metadata": {},
   "source": [
    "## Finding clusters of names"
   ]
  },
  {
   "cell_type": "code",
   "execution_count": 134,
   "metadata": {
    "collapsed": false
   },
   "outputs": [],
   "source": [
    "hierarchy = collections.defaultdict(lambda: collections.defaultdict(lambda: set()))\n",
    "study_groups = set()\n",
    "for au in authors_sorted:\n",
    "    if collections.Counter(au)[','] != 1: \n",
    "        study_groups.add(au)  # weird naming\n",
    "        continue\n",
    "    au_split = au.split(', ')\n",
    "    try:\n",
    "        ln, fn = au_split[0], au_split[1]\n",
    "        hierarchy[ln][fn[0]].add(au)\n",
    "    except:  # collaborations\n",
    "        study_groups.add(au)"
   ]
  },
  {
   "cell_type": "code",
   "execution_count": 131,
   "metadata": {
    "collapsed": false
   },
   "outputs": [
    {
     "data": {
      "text/plain": [
       "{'': defaultdict(<function __main__.<lambda>>,\n",
       "             {'f': {', for the Colon Cancer Family Registry'}}),\n",
       " 'Brignole-Baudouin': defaultdict(<function __main__.<lambda>>,\n",
       "             {'F': {'Brignole-Baudouin, Francoise'}}),\n",
       " 'Connerty': defaultdict(<function __main__.<lambda>>, {'M': {'Connerty, M'}}),\n",
       " 'Derikx': defaultdict(<function __main__.<lambda>>,\n",
       "             {'L': {'Derikx, Loes C'}, 'M': {'Derikx, Monique H M'}}),\n",
       " 'Dubensky Jr': defaultdict(<function __main__.<lambda>>,\n",
       "             {'T': {'Dubensky Jr, T W',\n",
       "               'Dubensky Jr, Thomas',\n",
       "               'Dubensky Jr, Thomas W'}}),\n",
       " 'Erdur': defaultdict(<function __main__.<lambda>>,\n",
       "             {'L': {'Erdur, Laurence'}}),\n",
       " 'Feijo': defaultdict(<function __main__.<lambda>>,\n",
       "             {'J': {'Feijo, Jose A'}, 'L': {'Feijo, Larissa'}}),\n",
       " 'Grigsby-Toussaint': defaultdict(<function __main__.<lambda>>,\n",
       "             {'D': {'Grigsby-Toussaint, Diana',\n",
       "               'Grigsby-Toussaint, Diana S'}}),\n",
       " 'Prohovnik': defaultdict(<function __main__.<lambda>>,\n",
       "             {'I': {'Prohovnik, I', 'Prohovnik, Isak'}}),\n",
       " 'Villalon': defaultdict(<function __main__.<lambda>>,\n",
       "             {'C': {'Villalon, C'},\n",
       "              'D': {'Villalon, D K', 'Villalon, Debbie K'},\n",
       "              'E': {'Villalon, E'},\n",
       "              'J': {'Villalon, Julio'},\n",
       "              'K': {'Villalon, Karen L'},\n",
       "              'M': {'Villalon, M',\n",
       "               'Villalon, M J',\n",
       "               'Villalon, Manuel',\n",
       "               'Villalon, Mark L'},\n",
       "              'N': {'Villalon, Nicholas'},\n",
       "              'P': {'Villalon, P'}})}"
      ]
     },
     "execution_count": 131,
     "metadata": {},
     "output_type": "execute_result"
    }
   ],
   "source": [
    "dict(hierarchy.items()[:10])"
   ]
  },
  {
   "cell_type": "code",
   "execution_count": 159,
   "metadata": {
    "collapsed": true
   },
   "outputs": [],
   "source": [
    "def clean(name):\n",
    "    return ' '.join(name.split())\n",
    "\n",
    "def matching(name1, name2):\n",
    "    n1 = clean(name1).split(' ')\n",
    "    n2 = clean(name2).split(' ')\n",
    "    \n",
    "    if len(n1) < len(n2):  \n",
    "        # name1 is a simplification of name2\n",
    "        for i in range(len(n1)):\n",
    "            #if len(n1[i]) > 1 and len(n2[i]) == 1: return False  # \"Jack\" and \"J C\" -- we allow this\n",
    "            if len(n1[i]) > 1 and len(n2[i]) > 1 and n1[i] != n2[i]: return False  # \"Jack\" and \"John C\" \n",
    "            elif len(n1[i]) == 1 and n1[i] != n2[i][0] : return False  # \"J K\" and \"J J L\" or \"J K\" and \"J Kris\"\n",
    "        return True\n",
    "    \n",
    "    elif len(n1) == len(n2):  # name1 and name2 have same # initials\n",
    "        for i in range(len(n1)):\n",
    "            if n1[i][0] != n2[i][0]: return False  # \"John J\" and \"John K\"\n",
    "            elif len(n1[i]) > 1 and len(n2[i]) > 1 and n1[i] != n2[i]: return False  # \"John Jack\" and \"John James\"\n",
    "        return True\n",
    "    \n",
    "    else:\n",
    "        return matching(name2, name1)"
   ]
  },
  {
   "cell_type": "code",
   "execution_count": 222,
   "metadata": {
    "collapsed": false
   },
   "outputs": [
    {
     "name": "stdout",
     "output_type": "stream",
     "text": [
      "True\n",
      "True\n",
      "True\n",
      "True\n",
      "True\n",
      "False\n",
      "False\n"
     ]
    }
   ],
   "source": [
    "print matching(\"J W\", \"Jack\")  # True\n",
    "print matching(\"Jack W\", \"Jack\")  # True\n",
    "print matching(\"Jack Will\", \"Jack Will\")  # True\n",
    "print matching(\"J Will\", \"Jack Will\")  # True\n",
    "print matching(\"Jack W\", \"J\")  # True\n",
    "print matching(\"Jack W\", \"John W\")  # False\n",
    "print matching(\"J S W\", \"J W S\")  # False"
   ]
  },
  {
   "cell_type": "code",
   "execution_count": 160,
   "metadata": {
    "collapsed": false
   },
   "outputs": [],
   "source": [
    "def pairwise_matching(name_list):\n",
    "    for i in range(len(name_list)):\n",
    "        for j in range(i+1, len(name_list)):\n",
    "            if not matching(name_list[i], name_list[j]):\n",
    "                return False\n",
    "    return True\n",
    "\n",
    "def get_name_sets(name_sets):\n",
    "    first_names = [au.split(', ')[1] for au in name_sets]\n",
    "\n",
    "    name_clusters = set()\n",
    "    names_added = set()\n",
    "    for i in range(len(first_names)):\n",
    "        matching_i = set([first_names[i]])  # all names that match with each name\n",
    "        for j in range(len(first_names)):\n",
    "            if matching(first_names[i], first_names[j]):\n",
    "                matching_i.add(first_names[j])\n",
    "        \n",
    "        # only keep those sets that are internally consistent\n",
    "        # also, all names must belong to a single set or the whole thing gets thrown out        \n",
    "        if pairwise_matching(list(matching_i)): \n",
    "            if frozenset(matching_i) not in name_clusters:\n",
    "                for name in matching_i:\n",
    "                    if name in names_added: return set()\n",
    "                    names_added.add(name)\n",
    "                name_clusters.add(frozenset(matching_i))  \n",
    "\n",
    "    return name_clusters"
   ]
  },
  {
   "cell_type": "code",
   "execution_count": 173,
   "metadata": {
    "collapsed": false
   },
   "outputs": [
    {
     "name": "stdout",
     "output_type": "stream",
     "text": [
      "0\n",
      "30000\n",
      "60000\n",
      "90000\n",
      "120000\n",
      "150000\n",
      "180000\n",
      "210000\n",
      "240000\n",
      "270000\n",
      "300000\n",
      "330000\n",
      "360000\n",
      "390000\n",
      "420000\n"
     ]
    }
   ],
   "source": [
    "author_to_cluster_name = {}\n",
    "cluster_author_to_pmids = {}\n",
    "ctr = 0\n",
    "for ln in hierarchy:\n",
    "    if ctr % 30000 == 0: print ctr\n",
    "    ctr += 1\n",
    "    \n",
    "    for fn in hierarchy[ln]:\n",
    "        try:\n",
    "            clusters = get_name_sets(hierarchy[ln][fn])\n",
    "            if not clusters: continue\n",
    "\n",
    "            # make new author to pmid mapping with cluster names\n",
    "            for cluster in clusters:\n",
    "                cluster_name = ln + ', ' + max(cluster, key=len)\n",
    "                cluster_pmids = list(author_to_pmids[cluster_name])\n",
    "                for name in cluster:\n",
    "                    fullname = ln + ', ' + name\n",
    "                    author_to_cluster_name[fullname] = clean(cluster_name)\n",
    "                    cluster_pmids.extend(list(author_to_pmids[fullname]))\n",
    "                cluster_author_to_pmids[clean(cluster_name)] = list(set(cluster_pmids))\n",
    "        except:\n",
    "            print ln, fn"
   ]
  },
  {
   "cell_type": "code",
   "execution_count": 174,
   "metadata": {
    "collapsed": false
   },
   "outputs": [
    {
     "data": {
      "text/plain": [
       "802360"
      ]
     },
     "execution_count": 174,
     "metadata": {},
     "output_type": "execute_result"
    }
   ],
   "source": [
    "len(cluster_author_to_pmids)"
   ]
  },
  {
   "cell_type": "code",
   "execution_count": 175,
   "metadata": {
    "collapsed": true
   },
   "outputs": [],
   "source": [
    "pickle.dump((cluster_author_to_pmids, author_to_cluster_name), open(\"../data/nih_author_cluster_names.pkl\", 'w'))"
   ]
  },
  {
   "cell_type": "code",
   "execution_count": 176,
   "metadata": {
    "collapsed": true
   },
   "outputs": [],
   "source": [
    "case_reports = set(pickle.load(open(\"../data/case_report_pmids.pkl\", 'r')))\n",
    "cluster_author_to_pmids_nocase = {}\n",
    "for au in cluster_author_to_pmids:\n",
    "    pmids = list(cluster_author_to_pmids.get(au, []))\n",
    "\n",
    "    # remove papers that are case reports\n",
    "    pmids_no_case_reports = []\n",
    "    for paper in pmids:\n",
    "        if paper[0] not in case_reports:\n",
    "            pmids_no_case_reports.append(paper)\n",
    "    cluster_author_to_pmids_nocase[au] = pmids_no_case_reports"
   ]
  },
  {
   "cell_type": "code",
   "execution_count": 177,
   "metadata": {
    "collapsed": false
   },
   "outputs": [
    {
     "data": {
      "text/plain": [
       "307337"
      ]
     },
     "execution_count": 177,
     "metadata": {},
     "output_type": "execute_result"
    }
   ],
   "source": [
    "cluster_author_to_pmids_3 = {}\n",
    "for au in cluster_author_to_pmids_nocase:\n",
    "    papers = cluster_author_to_pmids_nocase[au]\n",
    "    if len(set(papers)) > 2: cluster_author_to_pmids_3[au] = list(set(papers))\n",
    "\n",
    "len(cluster_author_to_pmids_3)"
   ]
  },
  {
   "cell_type": "code",
   "execution_count": 194,
   "metadata": {
    "collapsed": false
   },
   "outputs": [
    {
     "data": {
      "text/plain": [
       "38354"
      ]
     },
     "execution_count": 194,
     "metadata": {},
     "output_type": "execute_result"
    }
   ],
   "source": [
    "cluster_author_to_pmids_3_yr = {}\n",
    "for au in cluster_author_to_pmids_3:\n",
    "\n",
    "    sorted_papers = sorted(cluster_author_to_pmids_3[au], key=lambda x: x[-1])\n",
    "    if sorted_papers[0][-1] > 2002 or sorted_papers[0][-1] < 1998: continue  # first paper between 1996 and 2000\n",
    "    ctr_last = 0\n",
    "    for paper in sorted_papers[:4]:\n",
    "        if paper[1] == paper[2]: ctr_last += 1\n",
    "    if ctr_last >= 2: continue  # at least 2 of first 4 pubs were last author\n",
    "    \n",
    "    cluster_author_to_pmids_3_yr[au] = sorted_papers\n",
    "\n",
    "len(cluster_author_to_pmids_3_yr.keys())"
   ]
  },
  {
   "cell_type": "code",
   "execution_count": 195,
   "metadata": {
    "collapsed": false
   },
   "outputs": [
    {
     "data": {
      "text/plain": [
       "4500"
      ]
     },
     "execution_count": 195,
     "metadata": {},
     "output_type": "execute_result"
    }
   ],
   "source": [
    "# figuring out PI status\n",
    "pi_history = {}\n",
    "pi_years = []\n",
    "for au in cluster_author_to_pmids_3_yr:\n",
    "    ctr_last = 0\n",
    "    papers = cluster_author_to_pmids_3_yr[au]\n",
    "    pi = 0\n",
    "    start = papers[0][-1]\n",
    "    for paper in papers:\n",
    "        if paper[1] == paper[2]: ctr_last += 1\n",
    "        if ctr_last == 2: pi = paper[-1]  # take the date of the 2nd last author paper\n",
    "    years = pi - start if pi != 0 else 0\n",
    "    \n",
    "    # remove PIs with less than 3 last author papers\n",
    "    if ctr_last < 3: \n",
    "        pi = 0\n",
    "        years = 0\n",
    "\n",
    "    pi_history[au] = (pi, start, years)\n",
    "    if years != 0: pi_years.append(years)\n",
    "\n",
    "len(pi_years)"
   ]
  },
  {
   "cell_type": "code",
   "execution_count": 198,
   "metadata": {
    "collapsed": false
   },
   "outputs": [
    {
     "data": {
      "text/plain": [
       "(0, 20)"
      ]
     },
     "execution_count": 198,
     "metadata": {},
     "output_type": "execute_result"
    },
    {
     "data": {
      "image/png": "[encoded data removed]",
      "text/plain": [
       "<matplotlib.figure.Figure at 0x2b7331faf610>"
      ]
     },
     "metadata": {},
     "output_type": "display_data"
    }
   ],
   "source": [
    "sns.distplot(pi_years, kde=True, bins=range(20))\n",
    "sns.plt.xlim([0,20])"
   ]
  },
  {
   "cell_type": "markdown",
   "metadata": {},
   "source": [
    "## Look at yearly PI trends over time\n",
    "\n",
    "Assume the max time to PI is 17 years"
   ]
  },
  {
   "cell_type": "code",
   "execution_count": 191,
   "metadata": {
    "collapsed": true
   },
   "outputs": [],
   "source": [
    "def pi_history_by_year(yr):\n",
    "    cluster_author_to_pmids_3_yr = {}\n",
    "    for au in cluster_author_to_pmids_3:\n",
    "        sorted_papers = sorted(cluster_author_to_pmids_3[au], key=lambda x: x[-1])\n",
    "        if sorted_papers[0][-1] > yr or sorted_papers[0][-1] < yr: continue  # first paper between 1996 and 2000\n",
    "        ctr_last = 0\n",
    "        for paper in sorted_papers[:4]:\n",
    "            if paper[1] == paper[2]: ctr_last += 1\n",
    "        if ctr_last >= 2: continue  # at least 2 of first 4 pubs were last author\n",
    "\n",
    "        cluster_author_to_pmids_3_yr[au] = sorted_papers\n",
    "\n",
    "    # figuring out PI status\n",
    "    pi_history = {}\n",
    "    pi_years = []\n",
    "    for au in cluster_author_to_pmids_3_yr:\n",
    "        ctr_last = 0\n",
    "        papers = cluster_author_to_pmids_3_yr[au]\n",
    "        pi = 0\n",
    "        start = papers[0][-1]\n",
    "        for paper in papers:\n",
    "            if paper[-1] > yr + 17: continue\n",
    "            if paper[1] == paper[2]: ctr_last += 1\n",
    "            if ctr_last == 2: pi = paper[-1]  # take the date of the 2nd last author paper\n",
    "                \n",
    "        years = pi - start if pi != 0 else 0\n",
    "\n",
    "        # remove PIs with less than 3 last author papers\n",
    "        if ctr_last < 3: \n",
    "            pi = 0\n",
    "            years = 0\n",
    "\n",
    "        pi_history[au] = (pi, start, years)\n",
    "        if years != 0: pi_years.append(years)\n",
    "\n",
    "    return len(cluster_author_to_pmids_3_yr.keys()), len(pi_years), pi_years"
   ]
  },
  {
   "cell_type": "code",
   "execution_count": 214,
   "metadata": {
    "collapsed": false
   },
   "outputs": [],
   "source": [
    "all_pi_history = [pi_history_by_year(yr) for yr in range(1990, 2016)]"
   ]
  },
  {
   "cell_type": "code",
   "execution_count": 218,
   "metadata": {
    "collapsed": false
   },
   "outputs": [],
   "source": [
    "pct_pi = [float(x[1])/x[0] for x in all_pi_history] \n",
    "students = [x[0] for x in all_pi_history] \n",
    "pis = [x[1] for x in all_pi_history]"
   ]
  },
  {
   "cell_type": "code",
   "execution_count": 227,
   "metadata": {
    "collapsed": false
   },
   "outputs": [
    {
     "data": {
      "text/plain": [
       "<matplotlib.axes._subplots.AxesSubplot at 0x2b7330626510>"
      ]
     },
     "execution_count": 227,
     "metadata": {},
     "output_type": "execute_result"
    },
    {
     "data": {
      "image/png": "[encoded data removed]",
      "text/plain": [
       "<matplotlib.figure.Figure at 0x2b734677c0d0>"
      ]
     },
     "metadata": {},
     "output_type": "display_data"
    }
   ],
   "source": [
    "sns.barplot(range(1990,2003), pct_pi[:13], hue=None)"
   ]
  },
  {
   "cell_type": "code",
   "execution_count": 220,
   "metadata": {
    "collapsed": false
   },
   "outputs": [
    {
     "data": {
      "text/plain": [
       "<matplotlib.axes._subplots.AxesSubplot at 0x2b7341e58e10>"
      ]
     },
     "execution_count": 220,
     "metadata": {},
     "output_type": "execute_result"
    },
    {
     "data": {
      "image/png": "[encoded data removed]",
      "text/plain": [
       "<matplotlib.figure.Figure at 0x2b73425464d0>"
      ]
     },
     "metadata": {},
     "output_type": "display_data"
    }
   ],
   "source": [
    "sns.barplot(range(1990,2016), students, hue=None)"
   ]
  },
  {
   "cell_type": "code",
   "execution_count": 228,
   "metadata": {
    "collapsed": false
   },
   "outputs": [
    {
     "data": {
      "text/plain": [
       "<matplotlib.axes._subplots.AxesSubplot at 0x2b7344c44310>"
      ]
     },
     "execution_count": 228,
     "metadata": {},
     "output_type": "execute_result"
    },
    {
     "data": {
      "image/png": "[encoded data removed]",
      "text/plain": [
       "<matplotlib.figure.Figure at 0x2b734702ff90>"
      ]
     },
     "metadata": {},
     "output_type": "display_data"
    }
   ],
   "source": [
    "sns.barplot(range(1990,2016), pis, hue=None)"
   ]
  },
  {
   "cell_type": "code",
   "execution_count": 224,
   "metadata": {
    "collapsed": false
   },
   "outputs": [
    {
     "name": "stdout",
     "output_type": "stream",
     "text": [
      "[10.0, 11.0, 10.0, 11.0, 12.0, 12.0, 11.0, 11.0, 11.0, 10.0, 10.0, 9.0, 9.0, nan, 7.0, 7.0, 6.0, 6.0, 5.0, 5.0, 4.0, 3.0, 2.0, 2.0, 1.0, nan]\n"
     ]
    },
    {
     "name": "stderr",
     "output_type": "stream",
     "text": [
      "/home/btd17/miniconda2/lib/python2.7/site-packages/numpy/core/_methods.py:59: RuntimeWarning: Mean of empty slice.\n",
      "  warnings.warn(\"Mean of empty slice.\", RuntimeWarning)\n",
      "/home/btd17/miniconda2/lib/python2.7/site-packages/numpy/core/_methods.py:70: RuntimeWarning: invalid value encountered in double_scalars\n",
      "  ret = ret.dtype.type(ret / rcount)\n"
     ]
    }
   ],
   "source": [
    "medians = [np.median(x[-1]) for x in all_pi_history]\n",
    "print medians"
   ]
  }
 ],
 "metadata": {
  "anaconda-cloud": {},
  "kernelspec": {
   "display_name": "Python [default]",
   "language": "python",
   "name": "python2"
  },
  "language_info": {
   "codemirror_mode": {
    "name": "ipython",
    "version": 2
   },
   "file_extension": ".py",
   "mimetype": "text/x-python",
   "name": "python",
   "nbconvert_exporter": "python",
   "pygments_lexer": "ipython2",
   "version": "2.7.12"
  }
 },
 "nbformat": 4,
 "nbformat_minor": 2
}
