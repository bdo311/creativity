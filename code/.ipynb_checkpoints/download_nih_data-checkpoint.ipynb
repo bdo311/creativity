{
 "cells": [
  {
   "cell_type": "markdown",
   "metadata": {},
   "source": [
    "# Download NIH data\n",
    "\n",
    "This might be a nicer and tighter dataset"
   ]
  },
  {
   "cell_type": "code",
   "execution_count": 1,
   "metadata": {
    "collapsed": false
   },
   "outputs": [],
   "source": [
    "import seaborn as sns\n",
    "import numpy as np\n",
    "%matplotlib inline"
   ]
  },
  {
   "cell_type": "code",
   "execution_count": 2,
   "metadata": {
    "collapsed": false
   },
   "outputs": [],
   "source": [
    "from pprint import pprint\n",
    "import sys\n",
    "import cPickle as pickle\n",
    "import glob\n",
    "import os\n",
    "import pandas as pd\n",
    "import collections"
   ]
  },
  {
   "cell_type": "code",
   "execution_count": null,
   "metadata": {
    "collapsed": false
   },
   "outputs": [],
   "source": [
    "! os.system(\"mkdir ../data/nih_papers\")\n",
    "! os.system(\"mkdir ../data/nih_grants\")\n",
    "! os.system(\"mkdir ../data/nih_papers_to_grant_links\")"
   ]
  },
  {
   "cell_type": "code",
   "execution_count": 3,
   "metadata": {
    "collapsed": false
   },
   "outputs": [],
   "source": [
    "currdir = os.getcwd()"
   ]
  },
  {
   "cell_type": "code",
   "execution_count": 11,
   "metadata": {
    "collapsed": false
   },
   "outputs": [],
   "source": [
    "currdir = os.getcwd()\n",
    "os.chdir(\"../data/nih_papers\")\n",
    "\n",
    "for yr in range(1980,2017):\n",
    "    os.system(\"wget https://exporter.nih.gov/CSVs/final/RePORTER_PUB_C_{}.zip\".format(yr))\n",
    "    os.system(\"unzip RePORTER_PUB_C_{}.zip\".format(yr))\n",
    "    os.system(\"rm -f RePORTER_PUB_C_{}.zip\".format(yr))"
   ]
  },
  {
   "cell_type": "code",
   "execution_count": 12,
   "metadata": {
    "collapsed": false
   },
   "outputs": [
    {
     "name": "stdout",
     "output_type": "stream",
     "text": [
      "1972743\r\n"
     ]
    }
   ],
   "source": [
    "! cat * | wc -l"
   ]
  },
  {
   "cell_type": "code",
   "execution_count": 13,
   "metadata": {
    "collapsed": true
   },
   "outputs": [],
   "source": [
    "os.chdir(currdir)\n",
    "os.chdir(\"../data/nih_grants\")\n",
    "\n",
    "for yr in range(1980,2017):\n",
    "    os.system(\"wget https://exporter.nih.gov/CSVs/final/RePORTER_PRJ_C_FY{}.zip\".format(yr))\n",
    "    os.system(\"unzip RePORTER_PRJ_C_FY{}.zip\".format(yr))\n",
    "    os.system(\"rm -f RePORTER_PRJ_C_FY{}.zip\".format(yr))"
   ]
  },
  {
   "cell_type": "code",
   "execution_count": 14,
   "metadata": {
    "collapsed": true
   },
   "outputs": [],
   "source": [
    "os.chdir(currdir)\n",
    "os.chdir(\"../data/nih_papers_to_grant_links\")\n",
    "\n",
    "for yr in range(1980,2017):\n",
    "    os.system(\"wget https://exporter.nih.gov/CSVs/final/RePORTER_PUBLNK_C_{}.zip\".format(yr))\n",
    "    os.system(\"unzip RePORTER_PUBLNK_C_{}.zip\".format(yr))\n",
    "    os.system(\"rm -f RePORTER_PUBLNK_C_{}.zip\".format(yr))"
   ]
  },
  {
   "cell_type": "markdown",
   "metadata": {},
   "source": [
    "## Quick analysis of data"
   ]
  },
  {
   "cell_type": "code",
   "execution_count": 4,
   "metadata": {
    "collapsed": true
   },
   "outputs": [],
   "source": [
    "import csv\n",
    "import collections\n",
    "csv.register_dialect(\"textdialect\", delimiter=',')"
   ]
  },
  {
   "cell_type": "code",
   "execution_count": 5,
   "metadata": {
    "collapsed": true
   },
   "outputs": [],
   "source": [
    "journal_to_num = collections.defaultdict(lambda: 0)\n",
    "author_to_pmids = collections.defaultdict(lambda: set())"
   ]
  },
  {
   "cell_type": "code",
   "execution_count": 6,
   "metadata": {
    "collapsed": false
   },
   "outputs": [
    {
     "name": "stdout",
     "output_type": "stream",
     "text": [
      "RePORTER_PUB_C_2000.csv\n",
      "RePORTER_PUB_C_1990.csv\n",
      "RePORTER_PUB_C_1992.csv\n",
      "RePORTER_PUB_C_1986.csv\n",
      "RePORTER_PUB_C_2007.csv\n",
      "RePORTER_PUB_C_1994.csv\n",
      "RePORTER_PUB_C_2012.csv\n",
      "RePORTER_PUB_C_1993.csv\n",
      "RePORTER_PUB_C_2006.csv\n",
      "RePORTER_PUB_C_1983.csv\n",
      "RePORTER_PUB_C_1984.csv\n",
      "RePORTER_PUB_C_1987.csv\n",
      "RePORTER_PUB_C_1998.csv\n",
      "RePORTER_PUB_C_2004.csv\n",
      "RePORTER_PUB_C_1991.csv\n",
      "RePORTER_PUB_C_2005.csv\n",
      "RePORTER_PUB_C_2008.csv\n",
      "RePORTER_PUB_C_1999.csv\n",
      "RePORTER_PUB_C_2009.csv\n",
      "RePORTER_PUB_C_2011.csv\n",
      "RePORTER_PUB_C_1982.csv\n",
      "RePORTER_PUB_C_1981.csv\n",
      "RePORTER_PUB_C_2010.csv\n",
      "RePORTER_PUB_C_1989.csv\n",
      "RePORTER_PUB_C_1985.csv\n",
      "RePORTER_PUB_C_1997.csv\n",
      "RePORTER_PUB_C_1995.csv\n",
      "RePORTER_PUB_C_2014.csv\n",
      "RePORTER_PUB_C_1988.csv\n",
      "RePORTER_PUB_C_1996.csv\n",
      "RePORTER_PUB_C_2016.csv\n",
      "RePORTER_PUB_C_2003.csv\n",
      "RePORTER_PUB_C_2015.csv\n",
      "RePORTER_PUB_C_1980.csv\n",
      "RePORTER_PUB_C_2001.csv\n",
      "RePORTER_PUB_C_2002.csv\n",
      "RePORTER_PUB_C_2013.csv\n"
     ]
    }
   ],
   "source": [
    "os.chdir(currdir)\n",
    "os.chdir(\"../data/nih_papers\")\n",
    "\n",
    "for fn in glob.glob(\"*.csv\"):\n",
    "    print fn\n",
    "    df = pd.read_csv(fn)\n",
    "\n",
    "    for index, row in df.iterrows():\n",
    "        try:\n",
    "            authors = row[\"AUTHOR_LIST\"].split('; ')\n",
    "            journal = row[\"JOURNAL_TITLE\"]\n",
    "            pmid = int(row[\"PMID\"])\n",
    "            yr = int(row[\"PUB_YEAR\"])\n",
    "            for i in range(len(authors)):\n",
    "                author_to_pmids[authors[i]].add((pmid,i+1,len(authors),yr))\n",
    "            journal_to_num[journal] += 1\n",
    "        except:\n",
    "            continue"
   ]
  },
  {
   "cell_type": "code",
   "execution_count": 7,
   "metadata": {
    "collapsed": false
   },
   "outputs": [
    {
     "data": {
      "text/plain": [
       "2196738"
      ]
     },
     "execution_count": 7,
     "metadata": {},
     "output_type": "execute_result"
    }
   ],
   "source": [
    "len(author_to_pmids)"
   ]
  },
  {
   "cell_type": "code",
   "execution_count": 8,
   "metadata": {
    "collapsed": false
   },
   "outputs": [
    {
     "data": {
      "text/plain": [
       "20702"
      ]
     },
     "execution_count": 8,
     "metadata": {},
     "output_type": "execute_result"
    }
   ],
   "source": [
    "len(journal_to_num)"
   ]
  },
  {
   "cell_type": "code",
   "execution_count": 9,
   "metadata": {
    "collapsed": true
   },
   "outputs": [],
   "source": [
    "authors_sorted = sorted(author_to_pmids.keys())"
   ]
  },
  {
   "cell_type": "code",
   "execution_count": 10,
   "metadata": {
    "collapsed": false
   },
   "outputs": [
    {
     "data": {
      "text/plain": [
       "['Aamodt, Kristie',\n",
       " 'Aamodt, R',\n",
       " 'Aamodt, R L',\n",
       " 'Aamodt, Roger',\n",
       " 'Aamodt, S M',\n",
       " 'Aamodt, Whitley',\n",
       " 'Aamouche, A',\n",
       " 'Aan Het Rot, Marije',\n",
       " 'Aandahl, Einar M',\n",
       " 'Aandahl, Einar Martin',\n",
       " 'Aandal, Gunhild',\n",
       " 'Aanei, Ioana L',\n",
       " 'Aanensen, D M',\n",
       " 'Aanensen, David M',\n",
       " 'Aanensen, Karen E',\n",
       " 'Aanenson, Jill W',\n",
       " 'Aanonsen, L',\n",
       " 'Aanonsen, L M',\n",
       " 'Aanpreung, P',\n",
       " 'Aanstad, Pia',\n",
       " 'Aanstoos, Megan E',\n",
       " 'Aanstoot, H J',\n",
       " 'Aanstoot, Henk-Jan',\n",
       " 'Aanyu, Hellen T',\n",
       " 'Aanyu-Tukamuhebwa, Hellen',\n",
       " 'Aapro, M S',\n",
       " 'Aapro, Matti S',\n",
       " 'Aarabi, Ardalan',\n",
       " 'Aarabi, Bizhan',\n",
       " 'Aarabi, Shahram',\n",
       " 'Aaraj, R',\n",
       " 'Aaran, R K',\n",
       " 'Aarattuthodiyil, Suja',\n",
       " 'Aarbakke, J',\n",
       " 'Aarbiou, Jamil',\n",
       " 'Aarbodem, York',\n",
       " 'Aardalen, K',\n",
       " 'Aardalen, Kimberly',\n",
       " 'Aarde, S M',\n",
       " 'Aarde, Shawn M',\n",
       " 'Aardema, Jorie',\n",
       " 'Aardema, M',\n",
       " 'Aardema, Marilyn J',\n",
       " 'Aardema, Matthew L',\n",
       " 'Aarden, L A',\n",
       " 'Aare, Sudhakar',\n",
       " 'Aarem, Jeanette',\n",
       " 'Aarestad, S',\n",
       " 'Aarestrup, Frank M',\n",
       " 'Aarethun, K']"
      ]
     },
     "execution_count": 10,
     "metadata": {},
     "output_type": "execute_result"
    }
   ],
   "source": [
    "authors_sorted[1000:1050]"
   ]
  },
  {
   "cell_type": "code",
   "execution_count": 11,
   "metadata": {
    "collapsed": false
   },
   "outputs": [
    {
     "data": {
      "text/plain": [
       "{(12242151, 3, 6, 2002),\n",
       " (12631349, 6, 12, 2003),\n",
       " (15353804, 1, 9, 2004),\n",
       " (16987815, 5, 6, 2006),\n",
       " (17052454, 1, 9, 2006),\n",
       " (17284038, 4, 5, 2007),\n",
       " (18094406, 2, 2, 2007),\n",
       " (18223655, 2, 22, 2008),\n",
       " (18603134, 4, 4, 2008),\n",
       " (18603135, 4, 4, 2008),\n",
       " (18948948, 11, 11, 2008),\n",
       " (20562877, 4, 4, 2010),\n",
       " (20660316, 9, 9, 2010),\n",
       " (21070973, 5, 5, 2010),\n",
       " (21075307, 8, 8, 2010),\n",
       " (21168768, 6, 6, 2010),\n",
       " (21325897, 2, 2, 2011),\n",
       " (21978892, 1, 2, 2011),\n",
       " (22184389, 1, 1, 2012),\n",
       " (22622039, 11, 11, 2012),\n",
       " (22634637, 5, 5, 2012),\n",
       " (22681883, 1, 1, 2012),\n",
       " (22914623, 16, 17, 2012),\n",
       " (22999885, 8, 8, 2012),\n",
       " (23404709, 4, 4, 2013),\n",
       " (23416398, 1, 1, 2013),\n",
       " (23588072, 1, 1, 2013),\n",
       " (23618872, 7, 8, 2013),\n",
       " (23649360, 1, 1, 2013),\n",
       " (23801563, 3, 3, 2011),\n",
       " (23890007, 7, 7, 2013),\n",
       " (23974116, 6, 7, 2013),\n",
       " (24317490, 8, 9, 2014),\n",
       " (24352880, 9, 9, 2014),\n",
       " (24358963, 5, 5, 2014),\n",
       " (24601557, 1, 2, 2014),\n",
       " (24743147, 13, 13, 2014),\n",
       " (24974285, 4, 4, 2014),\n",
       " (25420104, 6, 6, 2014),\n",
       " (25512523, 19, 39, 2014),\n",
       " (25624485, 10, 10, 2015),\n",
       " (25640178, 9, 11, 2015),\n",
       " (25684204, 12, 12, 2015),\n",
       " (25815636, 2, 3, 2015),\n",
       " (26015568, 5, 6, 2015),\n",
       " (26059977, 3, 4, 2015),\n",
       " (26151238, 7, 7, 2015),\n",
       " (26308379, 6, 8, 2015),\n",
       " (26811485, 5, 6, 2016),\n",
       " (27159560, 11, 11, 2016),\n",
       " (27547919, 7, 7, 2016),\n",
       " (27617850, 5, 5, 2016)}"
      ]
     },
     "execution_count": 11,
     "metadata": {},
     "output_type": "execute_result"
    }
   ],
   "source": [
    "author_to_pmids[\"Walensky, Loren D\"]"
   ]
  },
  {
   "cell_type": "code",
   "execution_count": null,
   "metadata": {
    "collapsed": false
   },
   "outputs": [],
   "source": [
    "os.chdir(currdir)\n",
    "pickle.dump((dict(author_to_pmids), authors_sorted, dict(journal_to_num)), open(\"../data/nih_paper_info.pkl\", 'w'))"
   ]
  }
 ],
 "metadata": {
  "anaconda-cloud": {},
  "kernelspec": {
   "display_name": "Python [default]",
   "language": "python",
   "name": "python2"
  },
  "language_info": {
   "codemirror_mode": {
    "name": "ipython",
    "version": 2
   },
   "file_extension": ".py",
   "mimetype": "text/x-python",
   "name": "python",
   "nbconvert_exporter": "python",
   "pygments_lexer": "ipython2",
   "version": "2.7.12"
  }
 },
 "nbformat": 4,
 "nbformat_minor": 2
}
