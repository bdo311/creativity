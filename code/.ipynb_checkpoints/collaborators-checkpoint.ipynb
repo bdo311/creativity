{
 "cells": [
  {
   "cell_type": "code",
   "execution_count": null,
   "metadata": {
    "collapsed": true
   },
   "outputs": [],
   "source": [
    "import numpy as np\n",
    "import pandas as pd\n",
    "import seaborn as sns\n",
    "from Bio import Entrez\n",
    "from pprint import pprint\n",
    "import collections\n",
    "import re\n",
    "\n",
    "Entrez.email = 'bdo311@gmail.com'\n",
    "%matplotlib inline"
   ]
  },
  {
   "cell_type": "code",
   "execution_count": 7,
   "metadata": {
    "collapsed": true
   },
   "outputs": [],
   "source": [
    "# Code to take only the relevant fields from the PubMed XML summary\n",
    "# from https://github.com/bdo311/creativity/blob/master/code/download_data.ipynb\n",
    "\n",
    "def simplify(info):\n",
    "    record = {}\n",
    "    article = info['MedlineCitation']['Article']\n",
    "\n",
    "    record[\"pmid\"] = int(info['MedlineCitation']['PMID'])\n",
    "    record[\"title\"] = article['ArticleTitle']\n",
    "    try: record[\"journal\"] = article['Journal']['Title']\n",
    "    except: record[\"journal\"] = \"\"\n",
    "    try: record[\"jabbr\"] = article['Journal']['ISOAbbreviation']\n",
    "    except: record[\"jabbr\"] = \"\"\n",
    "    #record[\"year\"] = article['Journal']['JournalIssue']['PubDate']['Year']\n",
    "    record[\"yr\"] = dict(info['PubmedData']['History'][0])['Year']\n",
    "    record[\"mo\"] = dict(info['PubmedData']['History'][0])['Month']\n",
    "    #record[\"type\"] = article[\"PublicationTypeList\"]\n",
    "\n",
    "    record[\"keywords\"] = info['MedlineCitation']['KeywordList']\n",
    "    try:\n",
    "        record[\"authors\"] = []\n",
    "        for au in article[\"AuthorList\"]:\n",
    "            record[\"authors\"].append([au[\"LastName\"], au[\"ForeName\"], au[\"Initials\"], au[\"AffiliationInfo\"]])\n",
    "    except: pass\n",
    "    return record\n",
    "\n",
    "def get_paper_info(pmids):\n",
    "    handle = Entrez.efetch(db=\"pubmed\", id=','.join(pmids), retmode=\"xml\")\n",
    "    records = Entrez.read(handle)['PubmedArticle']\n",
    "    return [simplify(record) for record in records]"
   ]
  },
  {
   "cell_type": "code",
   "execution_count": 342,
   "metadata": {
    "collapsed": false
   },
   "outputs": [
    {
     "name": "stdout",
     "output_type": "stream",
     "text": [
      "Number of papers: 185\n"
     ]
    }
   ],
   "source": [
    "# Testing on a single author\n",
    "\n",
    "pi_name = \"Chang, Howard Y\"  # must be in \"Last, First\" format or \"Last Initials\" format\n",
    "handle = Entrez.esearch(db=\"pubmed\", term=\"{}[au]\".format(pi_name), retmode=\"xml\", retmax=10000)\n",
    "pmids = Entrez.read(handle)['IdList']\n",
    "print \"Number of papers:\", len(pmids)\n",
    "\n",
    "papers = get_paper_info(pmids)"
   ]
  },
  {
   "cell_type": "code",
   "execution_count": 343,
   "metadata": {
    "collapsed": false
   },
   "outputs": [],
   "source": [
    "# make a dictionary of co-authors to their papers\n",
    "\n",
    "author_to_papers = collections.defaultdict(lambda: [])  # (pmid, pos, total_au, yr)\n",
    "paper_to_authors = {}\n",
    "for paper in papers:\n",
    "    pmid = paper['pmid']\n",
    "    num_auth = len(paper[\"authors\"])\n",
    "    if num_auth == 0 or paper['yr'] == \"\": continue\n",
    "\n",
    "    author_list = []\n",
    "    for i in range(len(paper[\"authors\"])):\n",
    "        a = paper[\"authors\"][i]\n",
    "        au_name = ', '.join([a[0], a[2]])\n",
    "        author_to_papers[au_name].append((pmid, i+1, num_auth, int(paper['yr'])))\n",
    "        author_list.append(au_name)\n",
    "        \n",
    "    paper_to_authors[pmid] = author_list"
   ]
  },
  {
   "cell_type": "code",
   "execution_count": 279,
   "metadata": {
    "collapsed": false
   },
   "outputs": [
    {
     "name": "stdout",
     "output_type": "stream",
     "text": [
      "Chang, HY\n",
      "2006\n"
     ]
    }
   ],
   "source": [
    "# match PI name to the corresponding name in list of authors\n",
    "# first, find matching last name\n",
    "# if there are multiple people with that last name, take the one with the greatest # of papers\n",
    "\n",
    "possible_pi_matches = []\n",
    "pi_last_name = pi_name.split(' ')[0].replace(',', '')\n",
    "for au in author_to_papers:\n",
    "    if re.match(pi_last_name, au):\n",
    "        possible_pi_matches.append(au)\n",
    "        \n",
    "if len(possible_pi_matches) == 1:\n",
    "    pi_match = possible_pi_matches[0]\n",
    "else:\n",
    "    pi_match = max(possible_pi_matches, key=lambda x: len(author_to_papers[x]))\n",
    "    \n",
    "print pi_match\n",
    "\n",
    "# I only care about after the person has become a PI\n",
    "# from reduce_author_list_nih.ipynb\n",
    "# get the year they became a PI\n",
    "\n",
    "ctr_last = 0\n",
    "pi_start_yr = 0\n",
    "papers = sorted(author_to_papers[pi_match], key=lambda x: x[3])\n",
    "for paper in papers:\n",
    "    if paper[1] == paper[2]: ctr_last += 1  # position = last author\n",
    "    if ctr_last == 2: pi_start_yr = paper[-1]  # take the date of the 2nd last author paper\n",
    "print pi_start_yr"
   ]
  },
  {
   "cell_type": "code",
   "execution_count": 372,
   "metadata": {
    "collapsed": false
   },
   "outputs": [
    {
     "data": {
      "text/html": [
       "<div>\n",
       "<table border=\"1\" class=\"dataframe\">\n",
       "  <thead>\n",
       "    <tr style=\"text-align: right;\">\n",
       "      <th></th>\n",
       "      <th>position</th>\n",
       "      <th>start</th>\n",
       "      <th>end</th>\n",
       "      <th>num_yrs</th>\n",
       "      <th>num_papers</th>\n",
       "      <th>num_first</th>\n",
       "      <th>num_12</th>\n",
       "      <th>num_with_pi</th>\n",
       "      <th>median_pos</th>\n",
       "    </tr>\n",
       "    <tr>\n",
       "      <th>name</th>\n",
       "      <th></th>\n",
       "      <th></th>\n",
       "      <th></th>\n",
       "      <th></th>\n",
       "      <th></th>\n",
       "      <th></th>\n",
       "      <th></th>\n",
       "      <th></th>\n",
       "      <th></th>\n",
       "    </tr>\n",
       "  </thead>\n",
       "  <tbody>\n",
       "    <tr>\n",
       "      <th>Bonneau, R</th>\n",
       "      <td>collab</td>\n",
       "      <td>2015</td>\n",
       "      <td>2016</td>\n",
       "      <td>2</td>\n",
       "      <td>2</td>\n",
       "      <td>0</td>\n",
       "      <td>0</td>\n",
       "      <td>0</td>\n",
       "      <td>0.860390</td>\n",
       "    </tr>\n",
       "    <tr>\n",
       "      <th>Webster, DE</th>\n",
       "      <td>student</td>\n",
       "      <td>2008</td>\n",
       "      <td>2014</td>\n",
       "      <td>7</td>\n",
       "      <td>6</td>\n",
       "      <td>0</td>\n",
       "      <td>3</td>\n",
       "      <td>1</td>\n",
       "      <td>0.299107</td>\n",
       "    </tr>\n",
       "    <tr>\n",
       "      <th>Huang, W</th>\n",
       "      <td>student</td>\n",
       "      <td>2015</td>\n",
       "      <td>2016</td>\n",
       "      <td>2</td>\n",
       "      <td>2</td>\n",
       "      <td>2</td>\n",
       "      <td>2</td>\n",
       "      <td>0</td>\n",
       "      <td>0.046537</td>\n",
       "    </tr>\n",
       "    <tr>\n",
       "      <th>Hung, T</th>\n",
       "      <td>student</td>\n",
       "      <td>2008</td>\n",
       "      <td>2016</td>\n",
       "      <td>9</td>\n",
       "      <td>5</td>\n",
       "      <td>3</td>\n",
       "      <td>3</td>\n",
       "      <td>4</td>\n",
       "      <td>0.214286</td>\n",
       "    </tr>\n",
       "    <tr>\n",
       "      <th>Brugmann, SA</th>\n",
       "      <td>student</td>\n",
       "      <td>2007</td>\n",
       "      <td>2008</td>\n",
       "      <td>2</td>\n",
       "      <td>2</td>\n",
       "      <td>0</td>\n",
       "      <td>0</td>\n",
       "      <td>2</td>\n",
       "      <td>0.454545</td>\n",
       "    </tr>\n",
       "  </tbody>\n",
       "</table>\n",
       "</div>"
      ],
      "text/plain": [
       "             position  start   end  num_yrs  num_papers  num_first  num_12  \\\n",
       "name                                                                         \n",
       "Bonneau, R     collab   2015  2016        2           2          0       0   \n",
       "Webster, DE   student   2008  2014        7           6          0       3   \n",
       "Huang, W      student   2015  2016        2           2          2       2   \n",
       "Hung, T       student   2008  2016        9           5          3       3   \n",
       "Brugmann, SA  student   2007  2008        2           2          0       0   \n",
       "\n",
       "              num_with_pi  median_pos  \n",
       "name                                   \n",
       "Bonneau, R              0    0.860390  \n",
       "Webster, DE             1    0.299107  \n",
       "Huang, W                0    0.046537  \n",
       "Hung, T                 4    0.214286  \n",
       "Brugmann, SA            2    0.454545  "
      ]
     },
     "execution_count": 372,
     "metadata": {},
     "output_type": "execute_result"
    }
   ],
   "source": [
    "# Assumptions: \n",
    "# collaborators have a median position at >75% of the author list\n",
    "# most people will have at least 2 papers\n",
    "\n",
    "au_to_info_list = []\n",
    "for au in author_to_papers:\n",
    "    if au == pi_match: continue\n",
    "    papers = author_to_papers[au]\n",
    "    if len(papers) < 2: continue\n",
    "    \n",
    "    # get median position on paper\n",
    "    median_pos = np.median([float(x[1])/x[2] for x in papers])  # pos divided by total authors\n",
    "    \n",
    "    # first and last paper published, an estimate of time in lab\n",
    "    start_yr = min([x[3] for x in papers])\n",
    "    end_yr = max([x[3] for x in papers])\n",
    "    num_yrs = end_yr-start_yr+1\n",
    "    \n",
    "    # get number of first author papers\n",
    "    # PROBLEM: with co-authors this doesnt work well\n",
    "    num_first = [x[1] for x in papers].count(1)\n",
    "    num_12 = num_first + [x[1] for x in papers].count(2)\n",
    "    \n",
    "    # get the number of papers that the student published with PI as last author\n",
    "    num_with_pi = 0\n",
    "    for paper in papers:\n",
    "        if paper_to_authors[paper[0]][-1] == pi_match: num_with_pi += 1\n",
    "            \n",
    "    # put into data structure\n",
    "    if median_pos < 0.75:\n",
    "        au_to_info_list.append([au, 'student', start_yr, end_yr, num_yrs, \\\n",
    "                                len(papers), num_first, num_12, num_with_pi, median_pos])\n",
    "    else:\n",
    "        au_to_info_list.append([au, 'collab', start_yr, end_yr, num_yrs, \\\n",
    "                                len(papers), num_first, num_12, num_with_pi, median_pos])\n",
    "\n",
    "# make data frame\n",
    "au_to_info = pd.DataFrame.from_records(au_to_info_list, \\\n",
    "                                       columns=[\"name\", \"position\", \"start\", \"end\", \"num_yrs\",\\\n",
    "                                                \"num_papers\", \"num_first\", \"num_12\", \"num_with_pi\", \"median_pos\"],\n",
    "                                      index=\"name\")\n",
    "au_to_info.head()"
   ]
  },
  {
   "cell_type": "code",
   "execution_count": 373,
   "metadata": {
    "collapsed": false
   },
   "outputs": [
    {
     "data": {
      "text/html": [
       "<div>\n",
       "<table border=\"1\" class=\"dataframe\">\n",
       "  <thead>\n",
       "    <tr style=\"text-align: right;\">\n",
       "      <th></th>\n",
       "      <th>position</th>\n",
       "      <th>start</th>\n",
       "      <th>end</th>\n",
       "      <th>num_yrs</th>\n",
       "      <th>num_papers</th>\n",
       "      <th>num_first</th>\n",
       "      <th>num_12</th>\n",
       "      <th>num_with_pi</th>\n",
       "      <th>median_pos</th>\n",
       "    </tr>\n",
       "    <tr>\n",
       "      <th>name</th>\n",
       "      <th></th>\n",
       "      <th></th>\n",
       "      <th></th>\n",
       "      <th></th>\n",
       "      <th></th>\n",
       "      <th></th>\n",
       "      <th></th>\n",
       "      <th></th>\n",
       "      <th></th>\n",
       "    </tr>\n",
       "  </thead>\n",
       "  <tbody>\n",
       "    <tr>\n",
       "      <th>Qu, K</th>\n",
       "      <td>student</td>\n",
       "      <td>2010</td>\n",
       "      <td>2016</td>\n",
       "      <td>7</td>\n",
       "      <td>32</td>\n",
       "      <td>2</td>\n",
       "      <td>10</td>\n",
       "      <td>15</td>\n",
       "      <td>0.439286</td>\n",
       "    </tr>\n",
       "    <tr>\n",
       "      <th>Flynn, RA</th>\n",
       "      <td>student</td>\n",
       "      <td>2010</td>\n",
       "      <td>2016</td>\n",
       "      <td>7</td>\n",
       "      <td>31</td>\n",
       "      <td>5</td>\n",
       "      <td>14</td>\n",
       "      <td>18</td>\n",
       "      <td>0.333333</td>\n",
       "    </tr>\n",
       "    <tr>\n",
       "      <th>Adler, AS</th>\n",
       "      <td>student</td>\n",
       "      <td>2005</td>\n",
       "      <td>2012</td>\n",
       "      <td>8</td>\n",
       "      <td>16</td>\n",
       "      <td>5</td>\n",
       "      <td>9</td>\n",
       "      <td>8</td>\n",
       "      <td>0.335664</td>\n",
       "    </tr>\n",
       "    <tr>\n",
       "      <th>Spitale, RC</th>\n",
       "      <td>student</td>\n",
       "      <td>2011</td>\n",
       "      <td>2016</td>\n",
       "      <td>6</td>\n",
       "      <td>16</td>\n",
       "      <td>5</td>\n",
       "      <td>8</td>\n",
       "      <td>11</td>\n",
       "      <td>0.434211</td>\n",
       "    </tr>\n",
       "    <tr>\n",
       "      <th>Rinn, JL</th>\n",
       "      <td>student</td>\n",
       "      <td>2006</td>\n",
       "      <td>2012</td>\n",
       "      <td>7</td>\n",
       "      <td>15</td>\n",
       "      <td>5</td>\n",
       "      <td>5</td>\n",
       "      <td>6</td>\n",
       "      <td>0.500000</td>\n",
       "    </tr>\n",
       "  </tbody>\n",
       "</table>\n",
       "</div>"
      ],
      "text/plain": [
       "            position  start   end  num_yrs  num_papers  num_first  num_12  \\\n",
       "name                                                                        \n",
       "Qu, K        student   2010  2016        7          32          2      10   \n",
       "Flynn, RA    student   2010  2016        7          31          5      14   \n",
       "Adler, AS    student   2005  2012        8          16          5       9   \n",
       "Spitale, RC  student   2011  2016        6          16          5       8   \n",
       "Rinn, JL     student   2006  2012        7          15          5       5   \n",
       "\n",
       "             num_with_pi  median_pos  \n",
       "name                                  \n",
       "Qu, K                 15    0.439286  \n",
       "Flynn, RA             18    0.333333  \n",
       "Adler, AS              8    0.335664  \n",
       "Spitale, RC           11    0.434211  \n",
       "Rinn, JL               6    0.500000  "
      ]
     },
     "execution_count": 373,
     "metadata": {},
     "output_type": "execute_result"
    }
   ],
   "source": [
    "# only take students who graduated after they became a PI\n",
    "au_to_info_stu = au_to_info[(au_to_info[\"position\"] == \"student\") & (au_to_info[\"end\"] >= pi_start_yr)]\n",
    "\n",
    "# only take students who spent <10 years in the lab -- likely not staff scientist\n",
    "au_to_info_stu = au_to_info_stu[(au_to_info_stu[\"num_yrs\"] < 10)]\n",
    "\n",
    "# only take students who have at least one paper with the PI as last author -- to weed out collaborating students\n",
    "au_to_info_stu = au_to_info_stu[au_to_info_stu[\"num_with_pi\"] > 1]\n",
    "au_to_info_stu = au_to_info_stu.sort_values(\"num_papers\", ascending=False)\n",
    "au_to_info_stu.head()"
   ]
  },
  {
   "cell_type": "markdown",
   "metadata": {},
   "source": [
    "## Plots"
   ]
  },
  {
   "cell_type": "code",
   "execution_count": 378,
   "metadata": {
    "collapsed": false
   },
   "outputs": [
    {
     "data": {
      "text/plain": [
       "<matplotlib.text.Text at 0x119e22f90>"
      ]
     },
     "execution_count": 378,
     "metadata": {},
     "output_type": "execute_result"
    },
    {
     "data": {
      "image/png": "[encoded data removed]",
      "text/plain": [
       "<matplotlib.figure.Figure at 0x11a8941d0>"
      ]
     },
     "metadata": {},
     "output_type": "display_data"
    }
   ],
   "source": [
    "# Number of students per year\n",
    "# Problem: can't tell apart postdocs from grad students\n",
    "\n",
    "years = []\n",
    "for student in au_to_info_stu.index:\n",
    "    years.extend(range(au_to_info_stu.ix[student][\"start\"] - 1, \\\n",
    "                       au_to_info_stu.ix[student][\"end\"]))\n",
    "sns.distplot(years, kde=False, bins=(max(years) - min(years)))\n",
    "sns.plt.title(\"Number of students per year\")"
   ]
  },
  {
   "cell_type": "code",
   "execution_count": 379,
   "metadata": {
    "collapsed": false
   },
   "outputs": [
    {
     "data": {
      "text/plain": [
       "<matplotlib.text.Text at 0x1918db710>"
      ]
     },
     "execution_count": 379,
     "metadata": {},
     "output_type": "execute_result"
    },
    {
     "data": {
      "image/png": "[encoded data removed]",
      "text/plain": [
       "<matplotlib.figure.Figure at 0x11684a4d0>"
      ]
     },
     "metadata": {},
     "output_type": "display_data"
    }
   ],
   "source": [
    "sns.distplot(au_to_info_stu[\"num_papers\"], kde=False, \\\n",
    "             bins=max(au_to_info_stu[\"num_papers\"]), \\\n",
    "             label=\"All\")\n",
    "sns.distplot(au_to_info_stu[au_to_info_stu[\"end\"]<2016][\"num_papers\"], \\\n",
    "             kde=False, bins=max(au_to_info_stu[\"num_papers\"]), \\\n",
    "             label=\"Graduated\")\n",
    "\n",
    "sns.plt.legend()\n",
    "sns.plt.title(\"Number of papers\")"
   ]
  },
  {
   "cell_type": "code",
   "execution_count": 380,
   "metadata": {
    "collapsed": false
   },
   "outputs": [
    {
     "data": {
      "text/plain": [
       "(0, 35.0)"
      ]
     },
     "execution_count": 380,
     "metadata": {},
     "output_type": "execute_result"
    },
    {
     "data": {
      "image/png": "[encoded data removed]",
      "text/plain": [
       "<matplotlib.figure.Figure at 0x19188d7d0>"
      ]
     },
     "metadata": {},
     "output_type": "display_data"
    }
   ],
   "source": [
    "sns.regplot(x=\"num_yrs\", y=\"num_papers\", \\\n",
    "            data=au_to_info_stu, \\\n",
    "            x_jitter=.1, y_jitter=.1, \\\n",
    "            label=\"All\")\n",
    "sns.regplot(x=\"num_yrs\", y=\"num_papers\", \\\n",
    "            data=au_to_info_stu[au_to_info_stu[\"end\"] < 2016], \\\n",
    "            x_jitter=.1, y_jitter=.1, \\\n",
    "            label=\"Graduated\")\n",
    "\n",
    "sns.plt.legend()\n",
    "sns.plt.title(\"Number of papers\")\n",
    "sns.plt.xlim([0,10])\n",
    "sns.plt.ylim([0,sns.plt.ylim()[-1]])"
   ]
  },
  {
   "cell_type": "code",
   "execution_count": 285,
   "metadata": {
    "collapsed": false
   },
   "outputs": [
    {
     "data": {
      "text/plain": [
       "(0, 7.0)"
      ]
     },
     "execution_count": 285,
     "metadata": {},
     "output_type": "execute_result"
    },
    {
     "data": {
      "image/png": "[encoded data removed]",
      "text/plain": [
       "<matplotlib.figure.Figure at 0x119d80910>"
      ]
     },
     "metadata": {},
     "output_type": "display_data"
    }
   ],
   "source": [
    "sns.regplot(x=\"num_yrs\", y=\"num_first\", \\\n",
    "            data=au_to_info_stu, \\\n",
    "            x_jitter=.1, y_jitter=.1, \\\n",
    "            label=\"All\")\n",
    "sns.regplot(x=\"num_yrs\", y=\"num_first\", \\\n",
    "            data=au_to_info_stu[au_to_info_stu[\"end\"] < 2016], \\\n",
    "            x_jitter=.1, y_jitter=.1, \\\n",
    "            label=\"Graduated\")\n",
    "\n",
    "sns.plt.legend()\n",
    "sns.plt.title(\"Number of first author papers\")\n",
    "sns.plt.xlim([0,10])\n",
    "sns.plt.ylim([0,sns.plt.ylim()[-1]])"
   ]
  },
  {
   "cell_type": "code",
   "execution_count": 286,
   "metadata": {
    "collapsed": false
   },
   "outputs": [
    {
     "data": {
      "text/plain": [
       "(0, 15.0)"
      ]
     },
     "execution_count": 286,
     "metadata": {},
     "output_type": "execute_result"
    },
    {
     "data": {
      "image/png": "[encoded data removed]",
      "text/plain": [
       "<matplotlib.figure.Figure at 0x120705310>"
      ]
     },
     "metadata": {},
     "output_type": "display_data"
    }
   ],
   "source": [
    "sns.regplot(x=\"num_yrs\", y=\"num_12\", \\\n",
    "            data=au_to_info_stu, \\\n",
    "            x_jitter=.1, y_jitter=.1, \\\n",
    "            label=\"All\")\n",
    "sns.regplot(x=\"num_yrs\", y=\"num_12\", \\\n",
    "            data=au_to_info_stu[au_to_info_stu[\"end\"] < 2016], \\\n",
    "            x_jitter=.1, y_jitter=.1, \\\n",
    "            label=\"Graduated\")\n",
    "\n",
    "sns.plt.legend()\n",
    "sns.plt.title(\"Number of first or second author papers\")\n",
    "sns.plt.xlim([0,10])\n",
    "sns.plt.ylim([0,sns.plt.ylim()[-1]])"
   ]
  },
  {
   "cell_type": "code",
   "execution_count": null,
   "metadata": {
    "collapsed": true
   },
   "outputs": [],
   "source": [
    "# TODO: make this for lots of scientists, and make summary tables to \n",
    "# \"rank\" mentors by their grad students' productivity\n",
    "# maybe some mentors are more \"equal\" than others and their students\n",
    "# do equally well?\n",
    "\n",
    "# link this up with the PIs we identified in other data e.g. NIH grant tables"
   ]
  },
  {
   "cell_type": "markdown",
   "metadata": {},
   "source": [
    "## Citations"
   ]
  },
  {
   "cell_type": "code",
   "execution_count": 276,
   "metadata": {
    "collapsed": true
   },
   "outputs": [],
   "source": [
    "# look at citations of papers for grad students relative to the mean\n",
    "# will need to look at 10-year citation rate or something to normalize\n",
    "# can also use impact factor but that's less important...\n",
    "# is this a way to identify quality of grad student"
   ]
  },
  {
   "cell_type": "code",
   "execution_count": 291,
   "metadata": {
    "collapsed": false
   },
   "outputs": [],
   "source": [
    "# from download_pubmed_citing_papers.py\n",
    "\n",
    "handle = Entrez.elink(dbfrom=\"pubmed\", id=pmids, cmd=\"neighbor\", retmode=\"xml\", linkname=\"pubmed_pubmed_citedin\")\n",
    "records = Entrez.read(handle)\n",
    "\n",
    "orig_pmids = [int(rec['IdList'][0]) for rec in list(records)]\n",
    "citing_papers = [[int(paper['Id']) for paper in rec['LinkSetDb'][0]['Link']] if rec['LinkSetDb'] else [] for rec in list(records)]\n",
    "\n",
    "papers_to_citations = dict(zip(orig_pmids, citing_papers))"
   ]
  },
  {
   "cell_type": "code",
   "execution_count": 325,
   "metadata": {
    "collapsed": false
   },
   "outputs": [],
   "source": [
    "# get publication date for each paper that cites the PI's papers\n",
    "citing_papers_flat = list(set([x for y in citing_papers for x in y]))\n",
    "len(citing_papers_flat)\n",
    "\n",
    "handle = Entrez.efetch(db=\"pubmed\", id=','.join([str(x) for x in citing_papers_flat]), retmode=\"xml\")\n",
    "records = Entrez.read(handle)['PubmedArticle']\n",
    "\n",
    "citing_papers_to_yr = dict([(int(simplify(record)[\"pmid\"]), int(simplify(record)[\"yr\"])) for record in records])"
   ]
  },
  {
   "cell_type": "code",
   "execution_count": 326,
   "metadata": {
    "collapsed": false
   },
   "outputs": [],
   "source": [
    "papers_to_citations_w_yr = collections.defaultdict(lambda: [])  # paper --> [(paper, yr), (paper, yr), ...]\n",
    "for paper in papers_to_citations:\n",
    "    for cite in papers_to_citations[paper]:\n",
    "        try: papers_to_citations_w_yr[paper].append((cite, citing_papers_to_yr[cite]))\n",
    "        except: continue"
   ]
  },
  {
   "cell_type": "code",
   "execution_count": 353,
   "metadata": {
    "collapsed": false
   },
   "outputs": [],
   "source": [
    "author_to_papers_citations = {}  # [(pmid, pos, total_au, yr, total_cite, 5yr_cite), ...]\n",
    "for au in author_to_papers:\n",
    "    papers = []\n",
    "    for paper in author_to_papers[au]:\n",
    "        citations = papers_to_citations_w_yr[paper[0]]\n",
    "        num_citations = len(citations)\n",
    "        fivey_threshold = int(paper[3]) + 5\n",
    "        num_5y_citations = len([x for x in citations if x[1] <= fivey_threshold])\n",
    "        \n",
    "        info = list(paper)\n",
    "        info.extend([num_citations, num_5y_citations])\n",
    "        papers.append(tuple(info))\n",
    "    author_to_papers_citations[au] = papers"
   ]
  },
  {
   "cell_type": "code",
   "execution_count": 356,
   "metadata": {
    "collapsed": false
   },
   "outputs": [
    {
     "data": {
      "text/plain": [
       "[(27111506, 4, 6, 2015, 3, 3),\n",
       " (27058786, 8, 31, 2015, 3, 3),\n",
       " (27058758, 6, 28, 2016, 1, 1),\n",
       " (26878240, 2, 12, 2015, 9, 9),\n",
       " (25411354, 4, 11, 2014, 16, 16),\n",
       " (24929436, 2, 5, 2014, 18, 18)]"
      ]
     },
     "execution_count": 356,
     "metadata": {},
     "output_type": "execute_result"
    }
   ],
   "source": [
    "author_to_papers_citations[\"Do, BT\"]"
   ]
  },
  {
   "cell_type": "code",
   "execution_count": 357,
   "metadata": {
    "collapsed": false
   },
   "outputs": [
    {
     "data": {
      "text/html": [
       "<div>\n",
       "<table border=\"1\" class=\"dataframe\">\n",
       "  <thead>\n",
       "    <tr style=\"text-align: right;\">\n",
       "      <th></th>\n",
       "      <th>name</th>\n",
       "      <th>position</th>\n",
       "      <th>start</th>\n",
       "      <th>end</th>\n",
       "      <th>num_yrs</th>\n",
       "      <th>num_papers</th>\n",
       "      <th>num_first</th>\n",
       "      <th>num_12</th>\n",
       "      <th>num_with_pi</th>\n",
       "      <th>median_pos</th>\n",
       "    </tr>\n",
       "  </thead>\n",
       "  <tbody>\n",
       "    <tr>\n",
       "      <th>145</th>\n",
       "      <td>Qu, K</td>\n",
       "      <td>student</td>\n",
       "      <td>2010</td>\n",
       "      <td>2016</td>\n",
       "      <td>7</td>\n",
       "      <td>32</td>\n",
       "      <td>2</td>\n",
       "      <td>10</td>\n",
       "      <td>15</td>\n",
       "      <td>0.439286</td>\n",
       "    </tr>\n",
       "    <tr>\n",
       "      <th>110</th>\n",
       "      <td>Flynn, RA</td>\n",
       "      <td>student</td>\n",
       "      <td>2010</td>\n",
       "      <td>2016</td>\n",
       "      <td>7</td>\n",
       "      <td>31</td>\n",
       "      <td>5</td>\n",
       "      <td>14</td>\n",
       "      <td>18</td>\n",
       "      <td>0.333333</td>\n",
       "    </tr>\n",
       "    <tr>\n",
       "      <th>6</th>\n",
       "      <td>Adler, AS</td>\n",
       "      <td>student</td>\n",
       "      <td>2005</td>\n",
       "      <td>2012</td>\n",
       "      <td>8</td>\n",
       "      <td>16</td>\n",
       "      <td>5</td>\n",
       "      <td>9</td>\n",
       "      <td>8</td>\n",
       "      <td>0.335664</td>\n",
       "    </tr>\n",
       "    <tr>\n",
       "      <th>12</th>\n",
       "      <td>Spitale, RC</td>\n",
       "      <td>student</td>\n",
       "      <td>2011</td>\n",
       "      <td>2016</td>\n",
       "      <td>6</td>\n",
       "      <td>16</td>\n",
       "      <td>5</td>\n",
       "      <td>8</td>\n",
       "      <td>11</td>\n",
       "      <td>0.434211</td>\n",
       "    </tr>\n",
       "    <tr>\n",
       "      <th>84</th>\n",
       "      <td>Rinn, JL</td>\n",
       "      <td>student</td>\n",
       "      <td>2006</td>\n",
       "      <td>2012</td>\n",
       "      <td>7</td>\n",
       "      <td>15</td>\n",
       "      <td>5</td>\n",
       "      <td>5</td>\n",
       "      <td>6</td>\n",
       "      <td>0.500000</td>\n",
       "    </tr>\n",
       "  </tbody>\n",
       "</table>\n",
       "</div>"
      ],
      "text/plain": [
       "            name position  start   end  num_yrs  num_papers  num_first  \\\n",
       "145        Qu, K  student   2010  2016        7          32          2   \n",
       "110    Flynn, RA  student   2010  2016        7          31          5   \n",
       "6      Adler, AS  student   2005  2012        8          16          5   \n",
       "12   Spitale, RC  student   2011  2016        6          16          5   \n",
       "84      Rinn, JL  student   2006  2012        7          15          5   \n",
       "\n",
       "     num_12  num_with_pi  median_pos  \n",
       "145      10           15    0.439286  \n",
       "110      14           18    0.333333  \n",
       "6         9            8    0.335664  \n",
       "12        8           11    0.434211  \n",
       "84        5            6    0.500000  "
      ]
     },
     "execution_count": 357,
     "metadata": {},
     "output_type": "execute_result"
    }
   ],
   "source": [
    "au_to_info_stu.head()"
   ]
  },
  {
   "cell_type": "code",
   "execution_count": 371,
   "metadata": {
    "collapsed": false
   },
   "outputs": [
    {
     "data": {
      "text/html": [
       "<div>\n",
       "<table border=\"1\" class=\"dataframe\">\n",
       "  <thead>\n",
       "    <tr style=\"text-align: right;\">\n",
       "      <th></th>\n",
       "      <th>total_cites</th>\n",
       "      <th>total_cites_per</th>\n",
       "      <th>fivey_cites</th>\n",
       "      <th>fivey_cites_per</th>\n",
       "      <th>first_cites</th>\n",
       "      <th>first_cites_per</th>\n",
       "      <th>second_cites</th>\n",
       "      <th>second_cites_per</th>\n",
       "    </tr>\n",
       "    <tr>\n",
       "      <th>name</th>\n",
       "      <th></th>\n",
       "      <th></th>\n",
       "      <th></th>\n",
       "      <th></th>\n",
       "      <th></th>\n",
       "      <th></th>\n",
       "      <th></th>\n",
       "      <th></th>\n",
       "    </tr>\n",
       "  </thead>\n",
       "  <tbody>\n",
       "    <tr>\n",
       "      <th>Qu, K</th>\n",
       "      <td>1204</td>\n",
       "      <td>37</td>\n",
       "      <td>1190</td>\n",
       "      <td>37</td>\n",
       "      <td>10</td>\n",
       "      <td>5</td>\n",
       "      <td>515</td>\n",
       "      <td>51</td>\n",
       "    </tr>\n",
       "    <tr>\n",
       "      <th>Flynn, RA</th>\n",
       "      <td>1263</td>\n",
       "      <td>40</td>\n",
       "      <td>1191</td>\n",
       "      <td>38</td>\n",
       "      <td>95</td>\n",
       "      <td>19</td>\n",
       "      <td>267</td>\n",
       "      <td>19</td>\n",
       "    </tr>\n",
       "    <tr>\n",
       "      <th>Adler, AS</th>\n",
       "      <td>833</td>\n",
       "      <td>52</td>\n",
       "      <td>535</td>\n",
       "      <td>33</td>\n",
       "      <td>170</td>\n",
       "      <td>34</td>\n",
       "      <td>251</td>\n",
       "      <td>27</td>\n",
       "    </tr>\n",
       "    <tr>\n",
       "      <th>Spitale, RC</th>\n",
       "      <td>735</td>\n",
       "      <td>45</td>\n",
       "      <td>721</td>\n",
       "      <td>45</td>\n",
       "      <td>173</td>\n",
       "      <td>34</td>\n",
       "      <td>316</td>\n",
       "      <td>39</td>\n",
       "    </tr>\n",
       "    <tr>\n",
       "      <th>Rinn, JL</th>\n",
       "      <td>3875</td>\n",
       "      <td>258</td>\n",
       "      <td>2378</td>\n",
       "      <td>158</td>\n",
       "      <td>1104</td>\n",
       "      <td>220</td>\n",
       "      <td>1104</td>\n",
       "      <td>220</td>\n",
       "    </tr>\n",
       "  </tbody>\n",
       "</table>\n",
       "</div>"
      ],
      "text/plain": [
       "             total_cites  total_cites_per  fivey_cites  fivey_cites_per  \\\n",
       "name                                                                      \n",
       "Qu, K               1204               37         1190               37   \n",
       "Flynn, RA           1263               40         1191               38   \n",
       "Adler, AS            833               52          535               33   \n",
       "Spitale, RC          735               45          721               45   \n",
       "Rinn, JL            3875              258         2378              158   \n",
       "\n",
       "             first_cites  first_cites_per  second_cites  second_cites_per  \n",
       "name                                                                       \n",
       "Qu, K                 10                5           515                51  \n",
       "Flynn, RA             95               19           267                19  \n",
       "Adler, AS            170               34           251                27  \n",
       "Spitale, RC          173               34           316                39  \n",
       "Rinn, JL            1104              220          1104               220  "
      ]
     },
     "execution_count": 371,
     "metadata": {},
     "output_type": "execute_result"
    }
   ],
   "source": [
    "stu_citation_counts_list = []\n",
    "for au in au_to_info_stu[\"name\"]:\n",
    "    total_cites = sum([x[4] for x in author_to_papers_citations[au]])\n",
    "    total_cites_per = total_cites/sum([1 for x in author_to_papers_citations[au]])\n",
    "\n",
    "    fivey_cites = sum([x[5] for x in author_to_papers_citations[au]])\n",
    "    fivey_cites_per = fivey_cites/sum([1 for x in author_to_papers_citations[au]])\n",
    "    \n",
    "    first_cites = sum([x[5] for x in author_to_papers_citations[au] if x[1] == 1])\n",
    "    try: first_cites_per = first_cites/sum([1 for x in author_to_papers_citations[au] if x[1] == 1])\n",
    "    except: first_cites_per = 0\n",
    "        \n",
    "    second_cites = sum([x[5] for x in author_to_papers_citations[au] if x[1] <= 2])\n",
    "    try: second_cites_per = second_cites/sum([1 for x in author_to_papers_citations[au] if x[1] <= 2])\n",
    "    except: second_cites_per = 0\n",
    "\n",
    "    citation_info = [au, total_cites, total_cites_per, fivey_cites, fivey_cites_per, \\\n",
    "                     first_cites, first_cites_per, second_cites, second_cites_per]\n",
    "    stu_citation_counts_list.append(citation_info)\n",
    "    \n",
    "stu_citation_counts = pd.DataFrame.from_records(stu_citation_counts_list, \\\n",
    "                                       columns=[\"name\", \"total_cites\", \"total_cites_per\", \"fivey_cites\", \\\n",
    "                                                \"fivey_cites_per\", \"first_cites\", \"first_cites_per\", \\\n",
    "                                                \"second_cites\", \"second_cites_per\"],\n",
    "                                               index=\"name\")\n",
    "stu_citation_counts.head()"
   ]
  },
  {
   "cell_type": "code",
   "execution_count": 385,
   "metadata": {
    "collapsed": false
   },
   "outputs": [
    {
     "data": {
      "text/html": [
       "<div>\n",
       "<table border=\"1\" class=\"dataframe\">\n",
       "  <thead>\n",
       "    <tr style=\"text-align: right;\">\n",
       "      <th></th>\n",
       "      <th>position</th>\n",
       "      <th>start</th>\n",
       "      <th>end</th>\n",
       "      <th>num_yrs</th>\n",
       "      <th>num_papers</th>\n",
       "      <th>num_first</th>\n",
       "      <th>num_12</th>\n",
       "      <th>num_with_pi</th>\n",
       "      <th>median_pos</th>\n",
       "      <th>total_cites</th>\n",
       "      <th>total_cites_per</th>\n",
       "      <th>fivey_cites</th>\n",
       "      <th>fivey_cites_per</th>\n",
       "      <th>first_cites</th>\n",
       "      <th>first_cites_per</th>\n",
       "      <th>second_cites</th>\n",
       "      <th>second_cites_per</th>\n",
       "    </tr>\n",
       "    <tr>\n",
       "      <th>name</th>\n",
       "      <th></th>\n",
       "      <th></th>\n",
       "      <th></th>\n",
       "      <th></th>\n",
       "      <th></th>\n",
       "      <th></th>\n",
       "      <th></th>\n",
       "      <th></th>\n",
       "      <th></th>\n",
       "      <th></th>\n",
       "      <th></th>\n",
       "      <th></th>\n",
       "      <th></th>\n",
       "      <th></th>\n",
       "      <th></th>\n",
       "      <th></th>\n",
       "      <th></th>\n",
       "    </tr>\n",
       "  </thead>\n",
       "  <tbody>\n",
       "    <tr>\n",
       "      <th>Qu, K</th>\n",
       "      <td>student</td>\n",
       "      <td>2010</td>\n",
       "      <td>2016</td>\n",
       "      <td>7</td>\n",
       "      <td>32</td>\n",
       "      <td>2</td>\n",
       "      <td>10</td>\n",
       "      <td>15</td>\n",
       "      <td>0.439286</td>\n",
       "      <td>1204</td>\n",
       "      <td>37</td>\n",
       "      <td>1190</td>\n",
       "      <td>37</td>\n",
       "      <td>10</td>\n",
       "      <td>5</td>\n",
       "      <td>515</td>\n",
       "      <td>51</td>\n",
       "    </tr>\n",
       "    <tr>\n",
       "      <th>Flynn, RA</th>\n",
       "      <td>student</td>\n",
       "      <td>2010</td>\n",
       "      <td>2016</td>\n",
       "      <td>7</td>\n",
       "      <td>31</td>\n",
       "      <td>5</td>\n",
       "      <td>14</td>\n",
       "      <td>18</td>\n",
       "      <td>0.333333</td>\n",
       "      <td>1263</td>\n",
       "      <td>40</td>\n",
       "      <td>1191</td>\n",
       "      <td>38</td>\n",
       "      <td>95</td>\n",
       "      <td>19</td>\n",
       "      <td>267</td>\n",
       "      <td>19</td>\n",
       "    </tr>\n",
       "    <tr>\n",
       "      <th>Adler, AS</th>\n",
       "      <td>student</td>\n",
       "      <td>2005</td>\n",
       "      <td>2012</td>\n",
       "      <td>8</td>\n",
       "      <td>16</td>\n",
       "      <td>5</td>\n",
       "      <td>9</td>\n",
       "      <td>8</td>\n",
       "      <td>0.335664</td>\n",
       "      <td>833</td>\n",
       "      <td>52</td>\n",
       "      <td>535</td>\n",
       "      <td>33</td>\n",
       "      <td>170</td>\n",
       "      <td>34</td>\n",
       "      <td>251</td>\n",
       "      <td>27</td>\n",
       "    </tr>\n",
       "    <tr>\n",
       "      <th>Spitale, RC</th>\n",
       "      <td>student</td>\n",
       "      <td>2011</td>\n",
       "      <td>2016</td>\n",
       "      <td>6</td>\n",
       "      <td>16</td>\n",
       "      <td>5</td>\n",
       "      <td>8</td>\n",
       "      <td>11</td>\n",
       "      <td>0.434211</td>\n",
       "      <td>735</td>\n",
       "      <td>45</td>\n",
       "      <td>721</td>\n",
       "      <td>45</td>\n",
       "      <td>173</td>\n",
       "      <td>34</td>\n",
       "      <td>316</td>\n",
       "      <td>39</td>\n",
       "    </tr>\n",
       "    <tr>\n",
       "      <th>Rinn, JL</th>\n",
       "      <td>student</td>\n",
       "      <td>2006</td>\n",
       "      <td>2012</td>\n",
       "      <td>7</td>\n",
       "      <td>15</td>\n",
       "      <td>5</td>\n",
       "      <td>5</td>\n",
       "      <td>6</td>\n",
       "      <td>0.500000</td>\n",
       "      <td>3875</td>\n",
       "      <td>258</td>\n",
       "      <td>2378</td>\n",
       "      <td>158</td>\n",
       "      <td>1104</td>\n",
       "      <td>220</td>\n",
       "      <td>1104</td>\n",
       "      <td>220</td>\n",
       "    </tr>\n",
       "  </tbody>\n",
       "</table>\n",
       "</div>"
      ],
      "text/plain": [
       "            position  start   end  num_yrs  num_papers  num_first  num_12  \\\n",
       "name                                                                        \n",
       "Qu, K        student   2010  2016        7          32          2      10   \n",
       "Flynn, RA    student   2010  2016        7          31          5      14   \n",
       "Adler, AS    student   2005  2012        8          16          5       9   \n",
       "Spitale, RC  student   2011  2016        6          16          5       8   \n",
       "Rinn, JL     student   2006  2012        7          15          5       5   \n",
       "\n",
       "             num_with_pi  median_pos  total_cites  total_cites_per  \\\n",
       "name                                                                 \n",
       "Qu, K                 15    0.439286         1204               37   \n",
       "Flynn, RA             18    0.333333         1263               40   \n",
       "Adler, AS              8    0.335664          833               52   \n",
       "Spitale, RC           11    0.434211          735               45   \n",
       "Rinn, JL               6    0.500000         3875              258   \n",
       "\n",
       "             fivey_cites  fivey_cites_per  first_cites  first_cites_per  \\\n",
       "name                                                                      \n",
       "Qu, K               1190               37           10                5   \n",
       "Flynn, RA           1191               38           95               19   \n",
       "Adler, AS            535               33          170               34   \n",
       "Spitale, RC          721               45          173               34   \n",
       "Rinn, JL            2378              158         1104              220   \n",
       "\n",
       "             second_cites  second_cites_per  \n",
       "name                                         \n",
       "Qu, K                 515                51  \n",
       "Flynn, RA             267                19  \n",
       "Adler, AS             251                27  \n",
       "Spitale, RC           316                39  \n",
       "Rinn, JL             1104               220  "
      ]
     },
     "execution_count": 385,
     "metadata": {},
     "output_type": "execute_result"
    }
   ],
   "source": [
    "au_to_info_stu_cites = au_to_info_stu.join(stu_citation_counts)\n",
    "au_to_info_stu_cites.head()"
   ]
  },
  {
   "cell_type": "code",
   "execution_count": 389,
   "metadata": {
    "collapsed": false
   },
   "outputs": [
    {
     "data": {
      "text/plain": [
       "<matplotlib.axes._subplots.AxesSubplot at 0x191e85410>"
      ]
     },
     "execution_count": 389,
     "metadata": {},
     "output_type": "execute_result"
    },
    {
     "data": {
      "image/png": "[encoded data removed]",
      "text/plain": [
       "<matplotlib.figure.Figure at 0x191e0c950>"
      ]
     },
     "metadata": {},
     "output_type": "display_data"
    }
   ],
   "source": [
    "sns.distplot(au_to_info_stu_cites[\"fivey_cites_per\"], bins=50, kde=False)"
   ]
  }
 ],
 "metadata": {
  "kernelspec": {
   "display_name": "Python 2",
   "language": "python",
   "name": "python2"
  },
  "language_info": {
   "codemirror_mode": {
    "name": "ipython",
    "version": 2
   },
   "file_extension": ".py",
   "mimetype": "text/x-python",
   "name": "python",
   "nbconvert_exporter": "python",
   "pygments_lexer": "ipython2",
   "version": "2.7.11"
  }
 },
 "nbformat": 4,
 "nbformat_minor": 0
}
