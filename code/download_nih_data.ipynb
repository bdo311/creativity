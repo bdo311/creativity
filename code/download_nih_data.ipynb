{
 "cells": [
  {
   "cell_type": "markdown",
   "metadata": {},
   "source": [
    "# Download NIH data\n",
    "\n",
    "This might be a nicer and tighter dataset"
   ]
  },
  {
   "cell_type": "code",
   "execution_count": 1,
   "metadata": {
    "collapsed": true
   },
   "outputs": [],
   "source": [
    "import seaborn as sns\n",
    "import numpy as np\n",
    "%matplotlib inline"
   ]
  },
  {
   "cell_type": "code",
   "execution_count": 1,
   "metadata": {
    "collapsed": true
   },
   "outputs": [],
   "source": [
    "from pprint import pprint\n",
    "import sys\n",
    "import cPickle as pickle\n",
    "import glob\n",
    "import os\n",
    "import pandas as pd\n",
    "import collections"
   ]
  },
  {
   "cell_type": "code",
   "execution_count": 2,
   "metadata": {
    "collapsed": false
   },
   "outputs": [
    {
     "name": "stdout",
     "output_type": "stream",
     "text": [
      "/bin/sh: -c: line 0: syntax error near unexpected token `\"mkdir ../data/nih_papers\"'\n",
      "/bin/sh: -c: line 0: ` os.system(\"mkdir ../data/nih_papers\")'\n",
      "/bin/sh: -c: line 0: syntax error near unexpected token `\"mkdir ../data/nih_grants\"'\n",
      "/bin/sh: -c: line 0: ` os.system(\"mkdir ../data/nih_grants\")'\n",
      "/bin/sh: -c: line 0: syntax error near unexpected token `\"mkdir ../data/nih_papers_to_grant_links\"'\n",
      "/bin/sh: -c: line 0: ` os.system(\"mkdir ../data/nih_papers_to_grant_links\")'\n"
     ]
    }
   ],
   "source": [
    "! os.system(\"mkdir ../data/nih_papers\")\n",
    "! os.system(\"mkdir ../data/nih_grants\")\n",
    "! os.system(\"mkdir ../data/nih_papers_to_grant_links\")"
   ]
  },
  {
   "cell_type": "code",
   "execution_count": 6,
   "metadata": {
    "collapsed": false
   },
   "outputs": [],
   "source": [
    "currdir = os.getcwd()"
   ]
  },
  {
   "cell_type": "code",
   "execution_count": 11,
   "metadata": {
    "collapsed": false
   },
   "outputs": [],
   "source": [
    "currdir = os.getcwd()\n",
    "os.chdir(\"../data/nih_papers\")\n",
    "\n",
    "for yr in range(1980,2016):\n",
    "    os.system(\"wget https://exporter.nih.gov/CSVs/final/RePORTER_PUB_C_{}.zip\".format(yr))\n",
    "    os.system(\"unzip RePORTER_PUB_C_{}.zip\".format(yr))\n",
    "    os.system(\"rm -f RePORTER_PUB_C_{}.zip\".format(yr))"
   ]
  },
  {
   "cell_type": "code",
   "execution_count": 12,
   "metadata": {
    "collapsed": false
   },
   "outputs": [
    {
     "name": "stdout",
     "output_type": "stream",
     "text": [
      "1972743\r\n"
     ]
    }
   ],
   "source": [
    "! cat * | wc -l"
   ]
  },
  {
   "cell_type": "code",
   "execution_count": 13,
   "metadata": {
    "collapsed": true
   },
   "outputs": [],
   "source": [
    "os.chdir(currdir)\n",
    "os.chdir(\"../data/nih_grants\")\n",
    "\n",
    "for yr in range(1980,2016):\n",
    "    os.system(\"wget https://exporter.nih.gov/CSVs/final/RePORTER_PRJ_C_FY{}.zip\".format(yr))\n",
    "    os.system(\"unzip RePORTER_PRJ_C_FY{}.zip\".format(yr))\n",
    "    os.system(\"rm -f RePORTER_PRJ_C_FY{}.zip\".format(yr))"
   ]
  },
  {
   "cell_type": "code",
   "execution_count": 14,
   "metadata": {
    "collapsed": true
   },
   "outputs": [],
   "source": [
    "os.chdir(currdir)\n",
    "os.chdir(\"../data/nih_papers_to_grant_links\")\n",
    "\n",
    "for yr in range(1980,2016):\n",
    "    os.system(\"wget https://exporter.nih.gov/CSVs/final/RePORTER_PUBLNK_C_{}.zip\".format(yr))\n",
    "    os.system(\"unzip RePORTER_PUBLNK_C_{}.zip\".format(yr))\n",
    "    os.system(\"rm -f RePORTER_PUBLNK_C_{}.zip\".format(yr))"
   ]
  },
  {
   "cell_type": "markdown",
   "metadata": {},
   "source": [
    "## Quick analysis of data"
   ]
  },
  {
   "cell_type": "code",
   "execution_count": 3,
   "metadata": {
    "collapsed": true
   },
   "outputs": [],
   "source": [
    "import csv\n",
    "import collections\n",
    "csv.register_dialect(\"textdialect\", delimiter=',')"
   ]
  },
  {
   "cell_type": "code",
   "execution_count": 4,
   "metadata": {
    "collapsed": true
   },
   "outputs": [],
   "source": [
    "journal_to_num = collections.defaultdict(lambda: 0)\n",
    "author_to_pmids = collections.defaultdict(lambda: set())"
   ]
  },
  {
   "cell_type": "code",
   "execution_count": 7,
   "metadata": {
    "collapsed": false
   },
   "outputs": [
    {
     "name": "stdout",
     "output_type": "stream",
     "text": [
      "RePORTER_PUB_C_2000.csv\n",
      "RePORTER_PUB_C_1990.csv\n",
      "RePORTER_PUB_C_1992.csv\n",
      "RePORTER_PUB_C_1986.csv\n",
      "RePORTER_PUB_C_2007.csv\n",
      "RePORTER_PUB_C_1994.csv\n",
      "RePORTER_PUB_C_2012.csv\n",
      "RePORTER_PUB_C_1993.csv\n",
      "RePORTER_PUB_C_2006.csv\n",
      "RePORTER_PUB_C_1983.csv\n",
      "RePORTER_PUB_C_1984.csv\n",
      "RePORTER_PUB_C_1987.csv\n",
      "RePORTER_PUB_C_1998.csv\n",
      "RePORTER_PUB_C_2004.csv\n",
      "RePORTER_PUB_C_1991.csv\n",
      "RePORTER_PUB_C_2005.csv\n",
      "RePORTER_PUB_C_2008.csv\n",
      "RePORTER_PUB_C_1999.csv\n",
      "RePORTER_PUB_C_2009.csv\n",
      "RePORTER_PUB_C_2011.csv\n",
      "RePORTER_PUB_C_1982.csv\n",
      "RePORTER_PUB_C_1981.csv\n",
      "RePORTER_PUB_C_2010.csv\n",
      "RePORTER_PUB_C_1989.csv\n",
      "RePORTER_PUB_C_1985.csv\n",
      "RePORTER_PUB_C_1997.csv\n",
      "RePORTER_PUB_C_1995.csv\n",
      "RePORTER_PUB_C_2014.csv\n",
      "RePORTER_PUB_C_1988.csv\n",
      "RePORTER_PUB_C_1996.csv\n",
      "RePORTER_PUB_C_2003.csv\n",
      "RePORTER_PUB_C_2015.csv\n",
      "RePORTER_PUB_C_1980.csv\n",
      "RePORTER_PUB_C_2001.csv\n",
      "RePORTER_PUB_C_2002.csv\n",
      "RePORTER_PUB_C_2013.csv\n"
     ]
    }
   ],
   "source": [
    "os.chdir(currdir)\n",
    "os.chdir(\"../data/nih_papers\")\n",
    "\n",
    "for fn in glob.glob(\"*.csv\"):\n",
    "    print fn\n",
    "    df = pd.read_csv(fn)\n",
    "\n",
    "    for index, row in df.iterrows():\n",
    "        try:\n",
    "            authors = row[\"AUTHOR_LIST\"].split('; ')\n",
    "            journal = row[\"JOURNAL_TITLE\"]\n",
    "            pmid = int(row[\"PMID\"])\n",
    "            yr = int(row[\"PUB_YEAR\"])\n",
    "            for i in range(len(authors)):\n",
    "                author_to_pmids[authors[i]].add((pmid,i+1,len(authors),yr))\n",
    "            journal_to_num[journal] += 1\n",
    "        except:\n",
    "            continue"
   ]
  },
  {
   "cell_type": "code",
   "execution_count": 9,
   "metadata": {
    "collapsed": false
   },
   "outputs": [
    {
     "data": {
      "text/plain": [
       "2088185"
      ]
     },
     "execution_count": 9,
     "metadata": {},
     "output_type": "execute_result"
    }
   ],
   "source": [
    "len(author_to_pmids)"
   ]
  },
  {
   "cell_type": "code",
   "execution_count": 10,
   "metadata": {
    "collapsed": false
   },
   "outputs": [
    {
     "data": {
      "text/plain": [
       "20085"
      ]
     },
     "execution_count": 10,
     "metadata": {},
     "output_type": "execute_result"
    }
   ],
   "source": [
    "len(journal_to_num)"
   ]
  },
  {
   "cell_type": "code",
   "execution_count": 8,
   "metadata": {
    "collapsed": true
   },
   "outputs": [],
   "source": [
    "authors_sorted = sorted(author_to_pmids.keys())"
   ]
  },
  {
   "cell_type": "code",
   "execution_count": 39,
   "metadata": {
    "collapsed": false
   },
   "outputs": [
    {
     "data": {
      "text/plain": [
       "['Aaron, Latayia',\n",
       " 'Aaron, Leslie A',\n",
       " 'Aaron, Lisa',\n",
       " 'Aaron, M',\n",
       " 'Aaron, M F',\n",
       " 'Aaron, Maria M',\n",
       " 'Aaron, Marie',\n",
       " 'Aaron, Michelle',\n",
       " 'Aaron, Michelle T',\n",
       " 'Aaron, R',\n",
       " 'Aaron, R H',\n",
       " 'Aaron, R K',\n",
       " 'Aaron, Rachel V',\n",
       " 'Aaron, Ronald',\n",
       " 'Aaron, Roxanne J',\n",
       " 'Aaron, Roy K',\n",
       " 'Aaron, S',\n",
       " 'Aaron, Sagiv',\n",
       " 'Aaron, Shawn D',\n",
       " 'Aaron, Wade',\n",
       " 'Aaronoff, M',\n",
       " 'Aarons, A',\n",
       " 'Aarons, Alexandra R',\n",
       " 'Aarons, Cary B',\n",
       " 'Aarons, D',\n",
       " 'Aarons, E J',\n",
       " 'Aarons, G A',\n",
       " 'Aarons, Greg',\n",
       " 'Aarons, Gregory',\n",
       " 'Aarons, Gregory A',\n",
       " 'Aarons, J H',\n",
       " 'Aarons, R D',\n",
       " 'Aarons, S J',\n",
       " 'Aaronson, Arthur',\n",
       " 'Aaronson, Barry',\n",
       " 'Aaronson, Benjamin',\n",
       " 'Aaronson, C',\n",
       " 'Aaronson, Cindy J',\n",
       " 'Aaronson, D',\n",
       " 'Aaronson, D S',\n",
       " 'Aaronson, David',\n",
       " 'Aaronson, David S',\n",
       " 'Aaronson, Hannah',\n",
       " 'Aaronson, J S',\n",
       " 'Aaronson, Jacob M',\n",
       " 'Aaronson, K',\n",
       " 'Aaronson, K D',\n",
       " 'Aaronson, Keith D',\n",
       " 'Aaronson, L',\n",
       " 'Aaronson, L M',\n",
       " 'Aaronson, L R',\n",
       " 'Aaronson, L S',\n",
       " 'Aaronson, Lauren',\n",
       " 'Aaronson, Lauren S',\n",
       " 'Aaronson, N',\n",
       " 'Aaronson, N K',\n",
       " 'Aaronson, Neil',\n",
       " 'Aaronson, Neil K',\n",
       " 'Aaronson, Oran S',\n",
       " 'Aaronson, P',\n",
       " 'Aaronson, P I',\n",
       " 'Aaronson, Philip I',\n",
       " 'Aaronson, R',\n",
       " 'Aaronson, R A',\n",
       " 'Aaronson, R M',\n",
       " 'Aaronson, R P',\n",
       " 'Aaronson, S',\n",
       " 'Aaronson, S A',\n",
       " 'Aaronson, S T',\n",
       " 'Aaronson, Scott T',\n",
       " 'Aaronson, Stuart',\n",
       " 'Aaronson, Stuart A',\n",
       " 'Aaronson, Susan',\n",
       " 'Aaronson, W',\n",
       " 'Aaronson, W H',\n",
       " 'Aaronson, Wendy H',\n",
       " 'Aars, H',\n",
       " 'Aars, Jon',\n",
       " 'Aarsen, Femke K',\n",
       " 'Aarset, Harald',\n",
       " 'Aarseth, Jan',\n",
       " 'Aarseth, Jan H',\n",
       " 'Aarskog, Dagfinn',\n",
       " 'Aarsland, A',\n",
       " 'Aarsland, Asle',\n",
       " 'Aarsland, Asle A',\n",
       " 'Aarsland, D',\n",
       " 'Aarsland, Dag',\n",
       " 'Aarsman, A J',\n",
       " 'Aarssen, Y',\n",
       " 'Aarstad, Kjell',\n",
       " 'Aarsvold, J N',\n",
       " 'Aarsvold, John N',\n",
       " 'Aarsvold, Kirsten H',\n",
       " 'Aarthi, Manoharan',\n",
       " 'Aarts, A',\n",
       " 'Aarts, Dirk G A L',\n",
       " 'Aarts, E',\n",
       " 'Aarts, Esther',\n",
       " 'Aarts, Henk',\n",
       " 'Aarts, J M',\n",
       " 'Aarts, Jos',\n",
       " 'Aarts, Leon',\n",
       " 'Aarts, Leon P',\n",
       " 'Aarts, Lonneke A M',\n",
       " 'Aarts, M M',\n",
       " 'Aarts, Michelle',\n",
       " 'Aarts, Michelle M',\n",
       " 'Aarts, P L',\n",
       " 'Aartse, Aafke',\n",
       " 'Aartsen, Marja J',\n",
       " 'Aartsma, Thijs J',\n",
       " 'Aartsma-Rus, A',\n",
       " 'Aartsma-Rus, Annemieke',\n",
       " 'Aartsma-Rus, Annemieke M',\n",
       " 'Aarum, Johan',\n",
       " 'Aar\\xf8, L E',\n",
       " 'Aas, Eline',\n",
       " 'Aas, Finn Erik',\n",
       " 'Aas, J A',\n",
       " 'Aas, Johannes',\n",
       " 'Aas, Jorn A',\n",
       " 'Aas, J\\xf8rn A',\n",
       " 'Aas, Kaja K',\n",
       " 'Aas, M',\n",
       " 'Aas, Per A',\n",
       " 'Aas, Per Arne',\n",
       " 'Aas, T',\n",
       " 'Aas, Turid',\n",
       " 'Aasa, R',\n",
       " 'Aasa-Chapman, Marlen M',\n",
       " 'Aasa-Chapman, Marlen M I',\n",
       " 'Aasa-Chapman, Marlen Mi',\n",
       " 'Aasa-Chapman, Marlene M I',\n",
       " 'Aasal, R',\n",
       " 'Aasar\\xf8d, Knut',\n",
       " 'Aase, A',\n",
       " 'Aase, Anne Lene T O',\n",
       " 'Aase, D M',\n",
       " 'Aase, Darrin',\n",
       " 'Aase, Darrin M',\n",
       " 'Aase, Heidi',\n",
       " 'Aase, J M',\n",
       " 'Aase, Jon M',\n",
       " 'Aase, Karin',\n",
       " 'Aasen, Ansgar O',\n",
       " 'Aasen, Garth A',\n",
       " 'Aasen, Jonathan G',\n",
       " 'Aasen, Trond',\n",
       " 'Aasenden, R',\n",
       " 'Aaserud, D J',\n",
       " 'Aasheim, Erlend T',\n",
       " 'Aasheim, T',\n",
       " 'Aasheim, V',\n",
       " 'Aasheim, Vigdis',\n",
       " 'Aasi, S',\n",
       " 'Aasi, Sumaira',\n",
       " 'Aasi, Sumaira Z',\n",
       " 'Aaskov, J',\n",
       " 'Aaskov, John',\n",
       " 'Aaskov, John G',\n",
       " 'Aasland, Per Helge',\n",
       " 'Aasland, R',\n",
       " 'Aasland, Rein',\n",
       " 'Aaslid, R',\n",
       " 'Aaslid, Rune',\n",
       " 'Aasly, J O',\n",
       " 'Aasly, Jan',\n",
       " 'Aasly, Jan O',\n",
       " 'Aaspollu, A',\n",
       " 'Aass, H C D',\n",
       " 'Aass, N',\n",
       " 'Aass, Nina',\n",
       " 'Aassar, O S',\n",
       " 'Aasted, B',\n",
       " 'Aasted, Bent',\n",
       " 'Aasted, Christopher M',\n",
       " 'Aastrup, Teodor',\n",
       " 'Aasvang, Eske K',\n",
       " 'Aasved-Hoyt, K',\n",
       " 'Aathavan, K',\n",
       " 'Aathimanikandan, Sivakumar V',\n",
       " 'Aavani, Tooka',\n",
       " 'Aavik, E',\n",
       " 'Aavik, Toivo',\n",
       " 'Aavikko, Mervi',\n",
       " 'Aavula, B R',\n",
       " 'Aavula, Basker R',\n",
       " 'Aavula, Bhasker',\n",
       " 'Aayam, Lamichhane',\n",
       " 'Aazami, Roshanak',\n",
       " 'Aazzerah, R A',\n",
       " 'Ab Hamid, Hasiah',\n",
       " 'Ab, B K',\n",
       " 'Ab, Eiso',\n",
       " 'Ab, G',\n",
       " 'AbATE Study Team',\n",
       " 'Aba Kwaik, Y',\n",
       " 'Abaan, Hatice Ozel',\n",
       " 'Abaan, O D']"
      ]
     },
     "execution_count": 39,
     "metadata": {},
     "output_type": "execute_result"
    }
   ],
   "source": [
    "authors_sorted[1000:1200]"
   ]
  },
  {
   "cell_type": "code",
   "execution_count": 56,
   "metadata": {
    "collapsed": false
   },
   "outputs": [
    {
     "data": {
      "text/plain": [
       "{(12242151, 3, 6, 2002),\n",
       " (15353804, 1, 9, 2004),\n",
       " (16987815, 5, 6, 2006),\n",
       " (17052454, 1, 9, 2006),\n",
       " (17284038, 4, 5, 2007),\n",
       " (18094406, 2, 2, 2007),\n",
       " (18223655, 2, 22, 2008),\n",
       " (18603134, 4, 4, 2008),\n",
       " (18603135, 4, 4, 2008),\n",
       " (18948948, 11, 11, 2008),\n",
       " (20562877, 4, 4, 2010),\n",
       " (20660316, 9, 9, 2010),\n",
       " (21070973, 5, 5, 2010),\n",
       " (21075307, 8, 8, 2010),\n",
       " (21168768, 6, 6, 2010),\n",
       " (21325897, 2, 2, 2011),\n",
       " (21978892, 1, 2, 2011),\n",
       " (22184389, 1, 1, 2012),\n",
       " (22622039, 11, 11, 2012),\n",
       " (22634637, 5, 5, 2012),\n",
       " (22681883, 1, 1, 2012),\n",
       " (22914623, 16, 17, 2012),\n",
       " (22999885, 8, 8, 2012),\n",
       " (23404709, 4, 4, 2013),\n",
       " (23416398, 1, 1, 2013),\n",
       " (23588072, 1, 1, 2013),\n",
       " (23618872, 7, 8, 2013),\n",
       " (23649360, 1, 1, 2013),\n",
       " (23801563, 3, 3, 2011),\n",
       " (23890007, 7, 7, 2013),\n",
       " (23974116, 6, 7, 2013),\n",
       " (24317490, 8, 9, 2014),\n",
       " (24352880, 9, 9, 2014),\n",
       " (24358963, 5, 5, 2014),\n",
       " (24601557, 1, 2, 2014),\n",
       " (24743147, 13, 13, 2014),\n",
       " (24974285, 4, 4, 2014),\n",
       " (25420104, 6, 6, 2014),\n",
       " (25512523, 19, 39, 2014),\n",
       " (25624485, 10, 10, 2015),\n",
       " (25640178, 9, 11, 2015),\n",
       " (25684204, 12, 12, 2015),\n",
       " (25815636, 2, 3, 2015),\n",
       " (26015568, 5, 6, 2015),\n",
       " (26059977, 3, 4, 2015),\n",
       " (26151238, 7, 7, 2015),\n",
       " (26308379, 6, 8, 2015)}"
      ]
     },
     "execution_count": 56,
     "metadata": {},
     "output_type": "execute_result"
    }
   ],
   "source": [
    "author_to_pmids[\"Walensky, Loren D\"]"
   ]
  },
  {
   "cell_type": "code",
   "execution_count": 11,
   "metadata": {
    "collapsed": false
   },
   "outputs": [],
   "source": [
    "os.chdir(currdir)\n",
    "pickle.dump((dict(author_to_pmids), authors_sorted, dict(journal_to_num)), open(\"../data/nih_paper_info.pkl\", 'w'))"
   ]
  }
 ],
 "metadata": {
  "anaconda-cloud": {},
  "kernelspec": {
   "display_name": "Python [default]",
   "language": "python",
   "name": "python2"
  },
  "language_info": {
   "codemirror_mode": {
    "name": "ipython",
    "version": 2
   },
   "file_extension": ".py",
   "mimetype": "text/x-python",
   "name": "python",
   "nbconvert_exporter": "python",
   "pygments_lexer": "ipython2",
   "version": "2.7.12"
  }
 },
 "nbformat": 4,
 "nbformat_minor": 2
}
