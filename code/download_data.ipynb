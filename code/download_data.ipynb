{
 "cells": [
  {
   "cell_type": "markdown",
   "metadata": {},
   "source": [
    "# Notebook 1: Downloading data\n",
    "\n",
    "The goal of this notebook is to download all paper metadata from PubMed, and citation data from Google Scholar."
   ]
  },
  {
   "cell_type": "markdown",
   "metadata": {},
   "source": [
    "## Downloading PubMed data"
   ]
  },
  {
   "cell_type": "code",
   "execution_count": null,
   "metadata": {
    "collapsed": true
   },
   "outputs": [],
   "source": [
    "! python ../data/download_pubmed_citations.py"
   ]
  },
  {
   "cell_type": "markdown",
   "metadata": {},
   "source": [
    "We use the eFetch utility from NCBI eUtils, and download the entire xml for each citation. 10K entries is 5-10 MB (so <1KB per entry) after stripping out extraneous information.\n",
    "\n",
    "Run the following command: `python ../data/download_pubmed_citations.py` to run this multicore for all 28M articles. The below code was used during testing."
   ]
  },
  {
   "cell_type": "code",
   "execution_count": 4,
   "metadata": {
    "collapsed": true
   },
   "outputs": [],
   "source": [
    "import seaborn as sns\n",
    "import numpy as np\n",
    "%matplotlib inline"
   ]
  },
  {
   "cell_type": "code",
   "execution_count": 5,
   "metadata": {
    "collapsed": false
   },
   "outputs": [],
   "source": [
    "from Bio import Entrez\n",
    "from pprint import pprint\n",
    "import sys\n",
    "import cPickle as pickle\n",
    "import glob\n",
    "import os\n",
    "import pandas as pd\n",
    "import collections"
   ]
  },
  {
   "cell_type": "code",
   "execution_count": 207,
   "metadata": {
    "collapsed": false
   },
   "outputs": [],
   "source": [
    "# Code to take only the relevant fields from the PubMed XML summary\n",
    "\n",
    "def simplify(info):\n",
    "    record = {}\n",
    "    article = info['MedlineCitation']['Article']\n",
    "\n",
    "    record[\"pmid\"] = int(info['MedlineCitation']['PMID'])\n",
    "    record[\"title\"] = article['ArticleTitle']\n",
    "    try: record[\"journal\"] = article['Journal']['Title']\n",
    "    except: record[\"journal\"] = \"\"\n",
    "    try: record[\"jabbr\"] = article['Journal']['ISOAbbreviation']\n",
    "    except: record[\"jabbr\"] = \"\"\n",
    "    #record[\"year\"] = article['Journal']['JournalIssue']['PubDate']['Year']\n",
    "    record[\"yr\"] = dict(info['PubmedData']['History'][0])['Year']\n",
    "    record[\"mo\"] = dict(info['PubmedData']['History'][0])['Month']\n",
    "    record[\"keywords\"] = info['MedlineCitation']['KeywordList']\n",
    "    try:\n",
    "        record[\"authors\"] = []\n",
    "        for au in article[\"AuthorList\"]:\n",
    "            record[\"authors\"].append([au[\"LastName\"], au[\"ForeName\"], au[\"Initials\"], au[\"AffiliationInfo\"]])\n",
    "    except: pass\n",
    "    return record"
   ]
  },
  {
   "cell_type": "code",
   "execution_count": null,
   "metadata": {
    "collapsed": false
   },
   "outputs": [],
   "source": [
    "# I ran this in download_pubmed_citations.py\n",
    "\n",
    "Entrez.email = 'bdo311@gmail.com'\n",
    "if not glob.glob(\"../data/pubmed/\"): os.mkdir(\"../data/pubmed\")\n",
    "    \n",
    "for z in range(0, 29000000, 100000):\n",
    "    print z\n",
    "    pmids = [str(i) for i in range(z, z + 100000)]\n",
    "    handle = Entrez.efetch(db=\"pubmed\", id=pmids, retmode=\"xml\")\n",
    "    #records = Medline.parse(handle)\n",
    "    records = Entrez.read(handle)[\"PubmedArticle\"]\n",
    "    #print records\n",
    "    # fields = ('PMID', 'AU', 'FAU', 'AD', 'IRAD', 'DP', 'TI', 'JT', 'TA', 'OT', 'PT', 'AID')\n",
    "    # all_records = []\n",
    "\n",
    "    records_slim = [simplify(x) for x in records]\n",
    "    pickle.dump(records_slim, open(\"../data/pubmed/pubmed_{}.pkl\".format(z), 'w'))"
   ]
  },
  {
   "cell_type": "code",
   "execution_count": 210,
   "metadata": {
    "collapsed": false
   },
   "outputs": [
    {
     "name": "stdout",
     "output_type": "stream",
     "text": [
      "[{'mo': '11', 'title': 'Editorial: Childhood poisoning: prevention and first-aid management.', 'jabbr': 'Br Med J', 'authors': [], 'keywords': [], 'pmid': 127, 'yr': '1975', 'journal': 'British medical journal'}]\n"
     ]
    }
   ],
   "source": [
    "# Testing on a single paper\n",
    "\n",
    "handle = Entrez.efetch(db=\"pubmed\", id=127, retmode=\"xml\")\n",
    "records = Entrez.read(handle)[\"PubmedArticle\"]\n",
    "records_slim = [simplify(x) for x in list(records)]\n",
    "print records_slim"
   ]
  },
  {
   "cell_type": "code",
   "execution_count": 164,
   "metadata": {
    "collapsed": false
   },
   "outputs": [
    {
     "name": "stdout",
     "output_type": "stream",
     "text": [
      "{u'Abstract': {u'AbstractText': ['A preparation of ATPase from the membranes of Micrococcus lysodeikticus, solubilized and more than 95% pure, showed two main bands in analytical polyacrylamide gel electrophoresis. They did not correspond to isoenzymes because one band could be converted into the other by exposure to a mildly alkaline pH value. The conversion was paralleled by changes in molecular weight, circular dichroism and catalytic properties. Denaturation by pH at 25 degrees C was followed by means of circular dichroism, ultracentrifugation and polyacrylamide gel electrophoresis. A large conformational transition took place in the acid range with midpoints at about pH = 3.6 (I = 10(-4) M), 4.3 (I = 0.03 M) and 5.3 (I = 0.1 M). The transition was irreversible. Strong aggregation of the protein occurred in this range of pH. The final product was largely random coil, but even at pH 1.5 dissociation into individual subunits was not complete. However, partial dissociation took place at pH 5 (I = 0.028 M). At this pH value the enzyme was inactive, but 20-30% of the activity could be recovered when the pH was returned to 7.5. In the alkaline region the midpoint of the transition occurred near pH = 11 (I = 0.028 M). The pK of most of the tyrosine residues of the protein was about 10.9. The unfolding was irreversible and the protein was soon converted into peptide species with molecular weights lower than those determined for the subunits by gel electrophoresis in the presence of sodium dodecyl sulphate. Conventional proteolysis did not account for the transformation.']},\n",
      " u'ArticleDate': [],\n",
      " u'ArticleTitle': 'Conformational and molecular responses to pH variation of the purified membrane adenosine triphosphatase of Micrococcus lysodeikticus.',\n",
      " u'AuthorList': ListElement([DictElement({u'LastName': 'Nieto', u'Identifier': [], u'ForeName': 'M', u'AffiliationInfo': [], u'Initials': 'M'}, attributes={u'ValidYN': u'Y'}), DictElement({u'LastName': u'Mu\\xf1oz', u'Identifier': [], u'ForeName': 'E', u'AffiliationInfo': [], u'Initials': 'E'}, attributes={u'ValidYN': u'Y'}), DictElement({u'LastName': 'Carreira', u'Identifier': [], u'ForeName': 'J', u'AffiliationInfo': [], u'Initials': 'J'}, attributes={u'ValidYN': u'Y'}), DictElement({u'LastName': 'Andreu', u'Identifier': [], u'ForeName': 'J M', u'AffiliationInfo': [], u'Initials': 'JM'}, attributes={u'ValidYN': u'Y'})], attributes={u'CompleteYN': u'Y'}),\n",
      " u'ELocationID': [],\n",
      " u'Journal': {u'ISSN': StringElement('0006-3002', attributes={u'IssnType': u'Print'}), u'ISOAbbreviation': 'Biochim. Biophys. Acta', u'JournalIssue': DictElement({u'Volume': '413', u'Issue': '3', u'PubDate': {u'Year': '1975', u'Day': '16', u'Month': 'Dec'}}, attributes={u'CitedMedium': u'Print'}), u'Title': 'Biochimica et biophysica acta'},\n",
      " u'Language': ['eng'],\n",
      " u'Pagination': {u'MedlinePgn': '394-414'},\n",
      " u'PublicationTypeList': [StringElement('Journal Article', attributes={u'UI': u'D016428'})]}\n"
     ]
    }
   ],
   "source": [
    "# this is what the JSON output looks like for a single article\n",
    "\n",
    "info = a[90000]\n",
    "article = info['MedlineCitation']['Article']\n",
    "pprint(dict(article))"
   ]
  },
  {
   "cell_type": "markdown",
   "metadata": {},
   "source": [
    "## Downloading a list of papers that cite each paper"
   ]
  },
  {
   "cell_type": "code",
   "execution_count": null,
   "metadata": {
    "collapsed": true
   },
   "outputs": [],
   "source": [
    "! python ../data/download_pubmed_citing_papers.py"
   ]
  },
  {
   "cell_type": "markdown",
   "metadata": {},
   "source": [
    "We use the eLink utility and save all PubMed papers that cite each paper. From that we can calculate c10.\n",
    "\n",
    "Run `python ../data/download_pubmed_citing_papers.py` to run this in multicore. The following code was used for testing."
   ]
  },
  {
   "cell_type": "code",
   "execution_count": 228,
   "metadata": {
    "collapsed": false
   },
   "outputs": [],
   "source": [
    "# https://eutils.ncbi.nlm.nih.gov/entrez/eutils/elink.fcgi?retmode=json&dbfrom=pubmed&id=26878240&cmd=neighbor&linkname=pubmed_pubmed_citedin\n",
    "handle = Entrez.elink(dbfrom=\"pubmed\", id=['23969737', '24803000'], cmd=\"neighbor\", retmode=\"xml\", linkname=\"pubmed_pubmed_citedin\")\n",
    "records = Entrez.read(handle)\n",
    "# print a\n",
    "# z = [int(x['Id']) for x in rec[0]['LinkSetDb'][0]['Link']] if rec[0]['LinkSetDb'] else []\n",
    "# u = int(rec[0]['IdList'][0])\n",
    "# print z, u\n",
    "\n",
    "pmids = [int(rec['IdList'][0]) for rec in list(records)]\n",
    "citing_papers = [[int(paper['Id']) for paper in rec['LinkSetDb'][0]['Link']] if rec['LinkSetDb'] else [] for rec in list(records)]"
   ]
  },
  {
   "cell_type": "code",
   "execution_count": 229,
   "metadata": {
    "collapsed": false
   },
   "outputs": [
    {
     "data": {
      "text/plain": [
       "{24803000: [27815943, 27679682, 27443611, 26989476, 26925040, 26667202, 26441955, 26350594, 26344953, 26279977, 26173587, 26075520, 26068237, 25879661, 25778531, 25750241, 25733520, 25714922, 25549696, 25436773], 23969737: [27791170, 27784796, 27630639, 27630231, 27610569, 27466419, 27442127, 27392606, 27349934, 27067056, 27064278, 27028935, 27001953, 26950744, 26933962, 26837192, 26827912, 26814372, 26763999, 26725118, 26709685, 26530382, 26527585, 26485194, 26468542, 26457756, 26454663, 26450412, 26446600, 26444083, 26413851, 26344344, 26332605, 26312747, 26248318, 26194759, 26136568, 26087072, 26068237, 26041300, 26039641, 26018167, 25972551, 25938510, 25889056, 25870266, 25837467, 25808207, 25803681, 25787288, 25785734, 25760931, 25747313, 25740988, 25662010, 25536486, 25525909, 25520506, 25512514, 25345460, 25298114, 25254639, 25215861, 25157148, 25153121, 25151483, 25142607, 25142591, 25132382, 25119033, 25046154, 24995008, 24982157, 24965460, 24917864, 24872420, 24803000, 24802758, 24758333, 24662931, 24638019, 24529371, 24441474, 24330857, 24307588, 24302742, 24179160]}"
      ]
     },
     "execution_count": 229,
     "metadata": {},
     "output_type": "execute_result"
    }
   ],
   "source": [
    "dict(zip(pmids, citing_papers))"
   ]
  },
  {
   "cell_type": "markdown",
   "metadata": {},
   "source": [
    "## Cleanup of citing papers data: merging individual pickle files into larger files, and making sure everything was downloaded properly"
   ]
  },
  {
   "cell_type": "code",
   "execution_count": 5,
   "metadata": {
    "collapsed": false
   },
   "outputs": [
    {
     "name": "stdout",
     "output_type": "stream",
     "text": [
      "100\n",
      "200\n",
      "300\n",
      "400\n",
      "500\n",
      "600\n",
      "700\n",
      "800\n",
      "900\n",
      "1000\n",
      "1100\n",
      "1200\n",
      "1300\n",
      "1400\n",
      "1500\n",
      "1600\n",
      "1700\n",
      "1800\n",
      "1900\n",
      "2000\n",
      "2100\n",
      "2200\n",
      "2300\n",
      "2400\n",
      "2500\n",
      "2600\n",
      "2700\n",
      "2800\n",
      "2900\n"
     ]
    }
   ],
   "source": [
    "ctr = 0\n",
    "citations = {}\n",
    "citation_counts = {}\n",
    "for fn in glob.glob(\"../data/pubmed_citations/citations_*.pkl\"):\n",
    "    # print fn\n",
    "    ctr += 1\n",
    "    if ctr % 100 == 0: print ctr\n",
    "    data = pickle.load(open(fn, 'r'))\n",
    "    \n",
    "    for z in data:\n",
    "        if data[z]:\n",
    "            citations[z] = data[z]\n",
    "            citation_counts[z] = len(data[z])\n",
    "            \n",
    "pickle.dump(citations, open(\"../data/pubmed_citing_papers.pkl\", 'w'))\n",
    "pickle.dump(citation_counts, open(\"../data/pubmed_citing_paper_counts.pkl\", 'w'))"
   ]
  },
  {
   "cell_type": "markdown",
   "metadata": {},
   "source": [
    "Merging everything together and making a dictionary of citation counts. To save space, I am only keeping keys that have nonzero/non-empty values in the dictionaries."
   ]
  },
  {
   "cell_type": "code",
   "execution_count": 270,
   "metadata": {
    "collapsed": false
   },
   "outputs": [
    {
     "name": "stdout",
     "output_type": "stream",
     "text": [
      "0\n"
     ]
    }
   ],
   "source": [
    "# Citing papers\n",
    "ctr = 0\n",
    "for i in range(0, 29000000, 10000):\n",
    "    if not glob.glob(\"../data/pubmed_citations/citations_{}.pkl\".format(i)):\n",
    "        print i\n",
    "        ctr += 1\n",
    "print ctr"
   ]
  },
  {
   "cell_type": "code",
   "execution_count": 279,
   "metadata": {
    "collapsed": false
   },
   "outputs": [
    {
     "data": {
      "text/plain": [
       "12408806"
      ]
     },
     "execution_count": 279,
     "metadata": {},
     "output_type": "execute_result"
    }
   ],
   "source": [
    "len(citation_counts.keys())"
   ]
  },
  {
   "cell_type": "code",
   "execution_count": 287,
   "metadata": {
    "collapsed": false
   },
   "outputs": [
    {
     "data": {
      "text/plain": [
       "<matplotlib.axes._subplots.AxesSubplot object at 0x18476de10>"
      ]
     },
     "execution_count": 287,
     "metadata": {},
     "output_type": "execute_result"
    },
    {
     "data": {
      "image/png": "[encoded data removed]",
      "text/plain": [
       "<matplotlib.figure.Figure object at 0x166108cd0>"
      ]
     },
     "metadata": {},
     "output_type": "display_data"
    }
   ],
   "source": [
    "sns.distplot(np.log10(citation_counts.values()))"
   ]
  },
  {
   "cell_type": "markdown",
   "metadata": {},
   "source": [
    "## Cleanup of citation metadata"
   ]
  },
  {
   "cell_type": "code",
   "execution_count": 280,
   "metadata": {
    "collapsed": false
   },
   "outputs": [
    {
     "name": "stdout",
     "output_type": "stream",
     "text": [
      "0\n"
     ]
    }
   ],
   "source": [
    "# Citations\n",
    "ctr = 0\n",
    "for i in range(0, 29000000, 10000):\n",
    "    if not glob.glob(\"../data/pubmed/pubmed_{}.pkl\".format(i)):\n",
    "        print i\n",
    "        ctr += 1\n",
    "print ctr"
   ]
  },
  {
   "cell_type": "markdown",
   "metadata": {},
   "source": [
    "Get essential stats (num authors, year, journal, num citations) into one dictionary.\n",
    "\n",
    "Throwing away all papers that don't have an author list or a year of publication, or have any other defects"
   ]
  },
  {
   "cell_type": "code",
   "execution_count": null,
   "metadata": {
    "collapsed": true
   },
   "outputs": [],
   "source": [
    "citation_counts = pickle.load(open(\"../data/pubmed_citing_paper_counts.pkl\", 'r'))"
   ]
  },
  {
   "cell_type": "code",
   "execution_count": 38,
   "metadata": {
    "collapsed": false
   },
   "outputs": [
    {
     "name": "stdout",
     "output_type": "stream",
     "text": [
      "10\n",
      "20\n",
      "30\n",
      "40\n",
      "50\n",
      "60\n",
      "70\n",
      "80\n",
      "90\n",
      "100\n",
      "110\n",
      "120\n",
      "130\n",
      "140\n",
      "150\n",
      "160\n",
      "170\n",
      "180\n",
      "190\n",
      "200\n",
      "210\n",
      "220\n",
      "230\n",
      "240\n",
      "250\n",
      "260\n",
      "270\n",
      "280\n",
      "290\n",
      "300\n"
     ]
    }
   ],
   "source": [
    "ctr = 0\n",
    "author_to_pmids = collections.defaultdict(lambda: [])\n",
    "\n",
    "all_info = {}\n",
    "for fn in glob.glob(\"../data/pubmed/pubmed_*.pkl\"):\n",
    "\n",
    "    ctr += 1\n",
    "    if ctr % 10 == 0: \n",
    "        print ctr\n",
    "#         pickle.dump(all_info, open(\"../data/pubmed_statistics/pubmed_statistics_{}.pkl\".format(ctr), 'w'))\n",
    "#         all_info = {}\n",
    "        \n",
    "    data = pickle.load(open(fn, 'r'))\n",
    "    for rec in data:\n",
    "        pmid = rec['pmid']\n",
    "        num_auth = len(rec[\"authors\"])\n",
    "\n",
    "        if num_auth == 0 or rec['yr'] == \"\": continue\n",
    "#         try: all_info[pmid] = (num_auth, int(rec['yr']), rec['journal'], citation_counts.get(pmid, 0))\n",
    "#         except: continue\n",
    "    \n",
    "        for i in range(len(rec[\"authors\"])):\n",
    "            a = rec[\"authors\"][i]\n",
    "            author_to_pmids[','.join(a[:2])].append((pmid, i+1, num_auth))\n",
    "    if ctr == 300: break\n",
    "#pickle.dump(dict(author_to_pmids), open(\"../data/pubmed_author_to_pmids.pkl\", 'w'))"
   ]
  },
  {
   "cell_type": "code",
   "execution_count": 37,
   "metadata": {
    "collapsed": false
   },
   "outputs": [],
   "source": [
    "pickle.dump(dict(author_to_pmids), open(\"../data/pubmed_author_to_pmids.pkl\", 'w'))"
   ]
  },
  {
   "cell_type": "code",
   "execution_count": 39,
   "metadata": {
    "collapsed": false
   },
   "outputs": [
    {
     "data": {
      "text/plain": [
       "2844947"
      ]
     },
     "execution_count": 39,
     "metadata": {},
     "output_type": "execute_result"
    }
   ],
   "source": [
    "len(author_to_pmids.keys())"
   ]
  },
  {
   "cell_type": "markdown",
   "metadata": {},
   "source": [
    "## General stats and findings"
   ]
  },
  {
   "cell_type": "code",
   "execution_count": 6,
   "metadata": {
    "collapsed": false
   },
   "outputs": [
    {
     "data": {
      "text/plain": [
       "12334246"
      ]
     },
     "execution_count": 6,
     "metadata": {},
     "output_type": "execute_result"
    }
   ],
   "source": [
    "len(all_info.keys())  # 12M journal papers that have years and authors"
   ]
  },
  {
   "cell_type": "code",
   "execution_count": 10,
   "metadata": {
    "collapsed": true
   },
   "outputs": [],
   "source": [
    "df = pd.DataFrame.from_dict(all_info, orient=\"index\")"
   ]
  },
  {
   "cell_type": "code",
   "execution_count": 58,
   "metadata": {
    "collapsed": false
   },
   "outputs": [
    {
     "data": {
      "text/html": [
       "<div>\n",
       "<table border=\"1\" class=\"dataframe\">\n",
       "  <thead>\n",
       "    <tr style=\"text-align: right;\">\n",
       "      <th></th>\n",
       "      <th>numauthors</th>\n",
       "      <th>year</th>\n",
       "      <th>journal</th>\n",
       "      <th>citations</th>\n",
       "    </tr>\n",
       "  </thead>\n",
       "  <tbody>\n",
       "    <tr>\n",
       "      <th>1</th>\n",
       "      <td>4</td>\n",
       "      <td>1975</td>\n",
       "      <td>Biochemical medicine</td>\n",
       "      <td>12</td>\n",
       "    </tr>\n",
       "    <tr>\n",
       "      <th>2</th>\n",
       "      <td>2</td>\n",
       "      <td>1975</td>\n",
       "      <td>Biochemical and biophysical research communica...</td>\n",
       "      <td>3</td>\n",
       "    </tr>\n",
       "    <tr>\n",
       "      <th>3</th>\n",
       "      <td>2</td>\n",
       "      <td>1975</td>\n",
       "      <td>Biochemical and biophysical research communica...</td>\n",
       "      <td>3</td>\n",
       "    </tr>\n",
       "    <tr>\n",
       "      <th>4</th>\n",
       "      <td>3</td>\n",
       "      <td>1975</td>\n",
       "      <td>Biochemical and biophysical research communica...</td>\n",
       "      <td>12</td>\n",
       "    </tr>\n",
       "    <tr>\n",
       "      <th>5</th>\n",
       "      <td>2</td>\n",
       "      <td>1975</td>\n",
       "      <td>Biochemical and biophysical research communica...</td>\n",
       "      <td>2</td>\n",
       "    </tr>\n",
       "    <tr>\n",
       "      <th>6</th>\n",
       "      <td>3</td>\n",
       "      <td>1975</td>\n",
       "      <td>Biochemical and biophysical research communica...</td>\n",
       "      <td>1</td>\n",
       "    </tr>\n",
       "    <tr>\n",
       "      <th>7</th>\n",
       "      <td>2</td>\n",
       "      <td>1975</td>\n",
       "      <td>Biochemical pharmacology</td>\n",
       "      <td>4</td>\n",
       "    </tr>\n",
       "    <tr>\n",
       "      <th>8</th>\n",
       "      <td>2</td>\n",
       "      <td>1975</td>\n",
       "      <td>Biochemical pharmacology</td>\n",
       "      <td>2</td>\n",
       "    </tr>\n",
       "    <tr>\n",
       "      <th>9</th>\n",
       "      <td>2</td>\n",
       "      <td>1975</td>\n",
       "      <td>Biochemical pharmacology</td>\n",
       "      <td>4</td>\n",
       "    </tr>\n",
       "    <tr>\n",
       "      <th>10</th>\n",
       "      <td>3</td>\n",
       "      <td>1975</td>\n",
       "      <td>Biochemical pharmacology</td>\n",
       "      <td>6</td>\n",
       "    </tr>\n",
       "  </tbody>\n",
       "</table>\n",
       "</div>"
      ],
      "text/plain": [
       "    numauthors  year                                            journal  \\\n",
       "1            4  1975                               Biochemical medicine   \n",
       "2            2  1975  Biochemical and biophysical research communica...   \n",
       "3            2  1975  Biochemical and biophysical research communica...   \n",
       "4            3  1975  Biochemical and biophysical research communica...   \n",
       "5            2  1975  Biochemical and biophysical research communica...   \n",
       "6            3  1975  Biochemical and biophysical research communica...   \n",
       "7            2  1975                           Biochemical pharmacology   \n",
       "8            2  1975                           Biochemical pharmacology   \n",
       "9            2  1975                           Biochemical pharmacology   \n",
       "10           3  1975                           Biochemical pharmacology   \n",
       "\n",
       "    citations  \n",
       "1          12  \n",
       "2           3  \n",
       "3           3  \n",
       "4          12  \n",
       "5           2  \n",
       "6           1  \n",
       "7           4  \n",
       "8           2  \n",
       "9           4  \n",
       "10          6  "
      ]
     },
     "execution_count": 58,
     "metadata": {},
     "output_type": "execute_result"
    }
   ],
   "source": [
    "df.columns=[\"numauthors\", \"year\", \"journal\", \"citations\"]\n",
    "df.head(10)"
   ]
  },
  {
   "cell_type": "code",
   "execution_count": 34,
   "metadata": {
    "collapsed": false
   },
   "outputs": [
    {
     "name": "stdout",
     "output_type": "stream",
     "text": [
      "19580\n",
      "[('The Journal of biological chemistry', 163786), ('PloS one', 121966), ('Proceedings of the National Academy of Sciences of the United States of America', 114359), ('Biochimica et biophysica acta', 73240), ('Biochemical and biophysical research communications', 63005), ('Nature', 60509), ('Lancet (London, England)', 59010), ('Journal of immunology (Baltimore, Md. : 1950)', 58782), ('Science (New York, N.Y.)', 57885), ('Biochemistry', 57416), ('Journal of bacteriology', 48295), ('The Biochemical journal', 46024), ('Brain research', 43568), ('Cancer research', 42336), ('Journal of virology', 42022), ('The American journal of physiology', 41867), ('FEBS letters', 38305), ('Blood', 38225), ('Journal of the American Chemical Society', 37902), ('Nucleic acids research', 37455)]\n"
     ]
    }
   ],
   "source": [
    "journal_ctr = collections.Counter(df[\"journal\"])\n",
    "print len(journal_ctr.keys())\n",
    "print journal_ctr.most_common(20)"
   ]
  },
  {
   "cell_type": "code",
   "execution_count": 26,
   "metadata": {
    "collapsed": false
   },
   "outputs": [],
   "source": [
    "groupby_journal = df['citations'].groupby(df['journal'])\n",
    "journal_citation_meds = groupby_journal.median()"
   ]
  },
  {
   "cell_type": "code",
   "execution_count": 41,
   "metadata": {
    "collapsed": false
   },
   "outputs": [
    {
     "data": {
      "text/plain": [
       "journal\n",
       "Early development & parenting                                                                                                                                        82.0\n",
       "Annual review of immunology                                                                                                                                          75.0\n",
       "Journal of the American Mosquito Control Association. Supplement                                                                                                     73.0\n",
       "Nature reviews. Molecular cell biology                                                                                                                               72.0\n",
       "Nature reviews. Neuroscience                                                                                                                                         68.0\n",
       "Advances in the study of behavior                                                                                                                                    64.0\n",
       "Annual review of cell biology                                                                                                                                        62.0\n",
       "Annual review of cell and developmental biology                                                                                                                      62.0\n",
       "Nature reviews. Immunology                                                                                                                                           61.0\n",
       "Microbiological reviews                                                                                                                                              60.0\n",
       "The insight journal                                                                                                                                                  58.0\n",
       "Nature reviews. Cancer                                                                                                                                               56.0\n",
       "Open surgical oncology journal (Online)                                                                                                                              54.0\n",
       "Journal of applied mathematics                                                                                                                                       53.0\n",
       "Microbiology and molecular biology reviews : MMBR                                                                                                                    52.0\n",
       "Cell                                                                                                                                                                 52.0\n",
       "Nature reviews. Genetics                                                                                                                                             51.0\n",
       "Annual review of plant biology                                                                                                                                       48.5\n",
       "NTP CERHR MON                                                                                                                                                        48.0\n",
       "Annual review of biochemistry                                                                                                                                        46.0\n",
       "Annual review of plant physiology and plant molecular biology                                                                                                        46.0\n",
       "Tutorials in quantitative methods for psychology                                                                                                                     45.5\n",
       "Nature genetics                                                                                                                                                      43.0\n",
       "Genes & development                                                                                                                                                  43.0\n",
       "Journal of tissue culture methods : Tissue Culture Association manual of cell, tissue, and organ culture procedures                                                  42.0\n",
       "Annual review of neuroscience                                                                                                                                        40.0\n",
       "Annual review of materials research                                                                                                                                  39.0\n",
       "Nature reviews. Microbiology                                                                                                                                         38.0\n",
       "Nature cell biology                                                                                                                                                  37.0\n",
       "Annual review of pathology                                                                                                                                           36.0\n",
       "                                                                                                                                                                     ... \n",
       "Revista brasileira de ginecologia e obstetricia : revista da Federacao Brasileira das Sociedades de Ginecologia e Obstetricia                                         1.0\n",
       "Revista brasileira de leprologia                                                                                                                                      1.0\n",
       "Revista brasileira de malariologia e doencas tropicais. Publicacoes avulsas                                                                                           1.0\n",
       "Revista argentina de urologia y nefrologia                                                                                                                            1.0\n",
       "Revista brasileira de medicina                                                                                                                                        1.0\n",
       "Revista brasileira de oftalmologia                                                                                                                                    1.0\n",
       "Revista brasileira de ortopedia                                                                                                                                       1.0\n",
       "Revista brasileira de oto-rino-laringologia                                                                                                                           1.0\n",
       "Revista brasileira de parasitologia veterinaria = Brazilian journal of veterinary parasitology : Orgao Oficial do Colegio Brasileiro de Parasitologia Veterinaria     1.0\n",
       "Revista brasileira de pesquisas medicas e biologicas                                                                                                                  1.0\n",
       "Revista brasileira de reumatologia                                                                                                                                    1.0\n",
       "Revista brasileira de tuberculose e doencas toracicas                                                                                                                 1.0\n",
       "Revista catarinense de odontologia                                                                                                                                    1.0\n",
       "Revista brasileira de odontologia                                                                                                                                     1.0\n",
       "Reviews in pure & applied pharmacological sciences                                                                                                                    1.0\n",
       "Revista chilena de infectologia : organo oficial de la Sociedad Chilena de Infectologia                                                                               1.0\n",
       "Revista argentina de urologia                                                                                                                                         1.0\n",
       "Revista alergia Mexico (Tecamachalco, Puebla, Mexico : 1993)                                                                                                          1.0\n",
       "Review (Federation of American Health Systems)                                                                                                                        1.0\n",
       "Review - Federation of American Hospitals                                                                                                                             1.0\n",
       "Review of Czechoslovak medicine                                                                                                                                       1.0\n",
       "Review of allergy                                                                                                                                                     1.0\n",
       "Review of economic dynamics                                                                                                                                           1.0\n",
       "Review of law and social change. New York University                                                                                                                  1.0\n",
       "Review of surgery                                                                                                                                                     1.0\n",
       "Review of urban and regional development studies : RURDS : journal of the Applied Regional Conference                                                                 1.0\n",
       "Reviews in analytical chemistry                                                                                                                                       1.0\n",
       "Revista argentina de endocrinologia y metabolismo                                                                                                                     1.0\n",
       "Reviews in health care                                                                                                                                                1.0\n",
       "\"Laboratorio;\" analisis clinicos, bacteriologia, inmunologia, parasitologia, hematologia, anatomia patologica, quimica clinica                                        1.0\n",
       "Name: citations, dtype: float64"
      ]
     },
     "execution_count": 41,
     "metadata": {},
     "output_type": "execute_result"
    }
   ],
   "source": [
    "journal_citation_meds.sort_values()[::-1]"
   ]
  },
  {
   "cell_type": "code",
   "execution_count": 61,
   "metadata": {
    "collapsed": false
   },
   "outputs": [
    {
     "data": {
      "text/plain": [
       "journal\n",
       "The Journal of biological chemistry                                                163786\n",
       "PloS one                                                                           121966\n",
       "Proceedings of the National Academy of Sciences of the United States of America    114359\n",
       "Biochimica et biophysica acta                                                       73240\n",
       "Biochemical and biophysical research communications                                 63005\n",
       "Nature                                                                              60509\n",
       "Lancet (London, England)                                                            59010\n",
       "Journal of immunology (Baltimore, Md. : 1950)                                       58782\n",
       "Science (New York, N.Y.)                                                            57885\n",
       "Biochemistry                                                                        57416\n",
       "Journal of bacteriology                                                             48295\n",
       "The Biochemical journal                                                             46024\n",
       "Brain research                                                                      43568\n",
       "Cancer research                                                                     42336\n",
       "Journal of virology                                                                 42022\n",
       "The American journal of physiology                                                  41867\n",
       "FEBS letters                                                                        38305\n",
       "Blood                                                                               38225\n",
       "Journal of the American Chemical Society                                            37902\n",
       "Nucleic acids research                                                              37455\n",
       "Name: citations, dtype: int64"
      ]
     },
     "execution_count": 61,
     "metadata": {},
     "output_type": "execute_result"
    }
   ],
   "source": [
    "journal_citation_ct = groupby_journal.count()\n",
    "journal_citation_ct.sort_values()[::-1][:20]"
   ]
  },
  {
   "cell_type": "code",
   "execution_count": 78,
   "metadata": {
    "collapsed": false
   },
   "outputs": [
    {
     "data": {
      "text/plain": [
       "<matplotlib.text.Text at 0x1294ff650>"
      ]
     },
     "execution_count": 78,
     "metadata": {},
     "output_type": "execute_result"
    },
    {
     "data": {
      "image/png": "[encoded data removed]",
      "text/plain": [
       "<matplotlib.figure.Figure at 0x1125e73d0>"
      ]
     },
     "metadata": {},
     "output_type": "display_data"
    }
   ],
   "source": [
    "sns.kdeplot(np.log10(journal_citation_ct), label=\"Papers\")\n",
    "sns.plt.xlabel(\"log10 number of papers\")\n",
    "sns.plt.ylabel(\"Density\")"
   ]
  },
  {
   "cell_type": "code",
   "execution_count": 84,
   "metadata": {
    "collapsed": false
   },
   "outputs": [
    {
     "data": {
      "text/plain": [
       "<matplotlib.text.Text at 0x12dfed810>"
      ]
     },
     "execution_count": 84,
     "metadata": {},
     "output_type": "execute_result"
    },
    {
     "data": {
      "image/png": "[encoded data removed]",
      "text/plain": [
       "<matplotlib.figure.Figure at 0x1295d6890>"
      ]
     },
     "metadata": {},
     "output_type": "display_data"
    }
   ],
   "source": [
    "df_nature = df[df[\"journal\"] == \"Nature\"]\n",
    "sns.tsplot(df_nature['citations'].groupby(df_nature['year']).median())\n",
    "sns.plt.title(\"Median number of total citations for a paper in Nature, 1949-2016\")"
   ]
  },
  {
   "cell_type": "code",
   "execution_count": null,
   "metadata": {
    "collapsed": true
   },
   "outputs": [],
   "source": []
  },
  {
   "cell_type": "markdown",
   "metadata": {},
   "source": [
    "## Getting a controlled vocabulary of affiliations"
   ]
  },
  {
   "cell_type": "code",
   "execution_count": null,
   "metadata": {
    "collapsed": true
   },
   "outputs": [],
   "source": []
  }
 ],
 "metadata": {
  "kernelspec": {
   "display_name": "Python 2",
   "language": "python",
   "name": "python2"
  }
 },
 "nbformat": 4,
 "nbformat_minor": 0
}
