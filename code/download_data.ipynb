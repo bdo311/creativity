{
 "cells": [
  {
   "cell_type": "markdown",
   "metadata": {},
   "source": [
    "# Notebook 1: Downloading data\n",
    "\n",
    "The goal of this notebook is to download all paper metadata from PubMed, and citation data from Google Scholar."
   ]
  },
  {
   "cell_type": "markdown",
   "metadata": {},
   "source": [
    "## Downloading PubMed data"
   ]
  },
  {
   "cell_type": "code",
   "execution_count": null,
   "metadata": {
    "collapsed": true
   },
   "outputs": [],
   "source": [
    "! python ../data/download_pubmed_citations.py"
   ]
  },
  {
   "cell_type": "markdown",
   "metadata": {},
   "source": [
    "We use the eFetch utility from NCBI eUtils, and download the entire xml for each citation. 10K entries is 5-10 MB (so <1KB per entry) after stripping out extraneous information.\n",
    "\n",
    "Run the following command: `python ../data/download_pubmed_citations.py` to run this multicore for all 28M articles. The below code was used during testing."
   ]
  },
  {
   "cell_type": "code",
   "execution_count": 118,
   "metadata": {
    "collapsed": false
   },
   "outputs": [],
   "source": [
    "from Bio import Entrez\n",
    "from pprint import pprint\n",
    "import sys\n",
    "import cPickle as pickle\n",
    "import glob\n",
    "import os"
   ]
  },
  {
   "cell_type": "code",
   "execution_count": 207,
   "metadata": {
    "collapsed": false
   },
   "outputs": [],
   "source": [
    "# Code to take only the relevant fields from the PubMed XML summary\n",
    "\n",
    "def simplify(info):\n",
    "    record = {}\n",
    "    article = info['MedlineCitation']['Article']\n",
    "\n",
    "    record[\"pmid\"] = int(info['MedlineCitation']['PMID'])\n",
    "    record[\"title\"] = article['ArticleTitle']\n",
    "    try: record[\"journal\"] = article['Journal']['Title']\n",
    "    except: record[\"journal\"] = \"\"\n",
    "    try: record[\"jabbr\"] = article['Journal']['ISOAbbreviation']\n",
    "    except: record[\"jabbr\"] = \"\"\n",
    "    #record[\"year\"] = article['Journal']['JournalIssue']['PubDate']['Year']\n",
    "    record[\"yr\"] = dict(info['PubmedData']['History'][0])['Year']\n",
    "    record[\"mo\"] = dict(info['PubmedData']['History'][0])['Month']\n",
    "    record[\"keywords\"] = info['MedlineCitation']['KeywordList']\n",
    "    try:\n",
    "        record[\"authors\"] = []\n",
    "        for au in article[\"AuthorList\"]:\n",
    "            record[\"authors\"].append([au[\"LastName\"], au[\"ForeName\"], au[\"Initials\"], au[\"AffiliationInfo\"]])\n",
    "    except: pass\n",
    "    return record"
   ]
  },
  {
   "cell_type": "code",
   "execution_count": null,
   "metadata": {
    "collapsed": false
   },
   "outputs": [],
   "source": [
    "# I ran this in download_pubmed_citations.py\n",
    "\n",
    "Entrez.email = 'bdo311@gmail.com'\n",
    "if not glob.glob(\"../data/pubmed/\"): os.mkdir(\"../data/pubmed\")\n",
    "    \n",
    "for z in range(0, 29000000, 100000):\n",
    "    print z\n",
    "    pmids = [str(i) for i in range(z, z + 100000)]\n",
    "    handle = Entrez.efetch(db=\"pubmed\", id=pmids, retmode=\"xml\")\n",
    "    #records = Medline.parse(handle)\n",
    "    records = Entrez.read(handle)[\"PubmedArticle\"]\n",
    "    #print records\n",
    "    # fields = ('PMID', 'AU', 'FAU', 'AD', 'IRAD', 'DP', 'TI', 'JT', 'TA', 'OT', 'PT', 'AID')\n",
    "    # all_records = []\n",
    "\n",
    "    records_slim = [simplify(x) for x in records]\n",
    "    pickle.dump(records_slim, open(\"../data/pubmed/pubmed_{}.pkl\".format(z), 'w'))"
   ]
  },
  {
   "cell_type": "code",
   "execution_count": 210,
   "metadata": {
    "collapsed": false
   },
   "outputs": [
    {
     "name": "stdout",
     "output_type": "stream",
     "text": [
      "[{'mo': '11', 'title': 'Editorial: Childhood poisoning: prevention and first-aid management.', 'jabbr': 'Br Med J', 'authors': [], 'keywords': [], 'pmid': 127, 'yr': '1975', 'journal': 'British medical journal'}]\n"
     ]
    }
   ],
   "source": [
    "# Testing on a single paper\n",
    "\n",
    "handle = Entrez.efetch(db=\"pubmed\", id=127, retmode=\"xml\")\n",
    "records = Entrez.read(handle)[\"PubmedArticle\"]\n",
    "records_slim = [simplify(x) for x in list(records)]\n",
    "print records_slim"
   ]
  },
  {
   "cell_type": "code",
   "execution_count": 164,
   "metadata": {
    "collapsed": false
   },
   "outputs": [
    {
     "name": "stdout",
     "output_type": "stream",
     "text": [
      "{u'Abstract': {u'AbstractText': ['A preparation of ATPase from the membranes of Micrococcus lysodeikticus, solubilized and more than 95% pure, showed two main bands in analytical polyacrylamide gel electrophoresis. They did not correspond to isoenzymes because one band could be converted into the other by exposure to a mildly alkaline pH value. The conversion was paralleled by changes in molecular weight, circular dichroism and catalytic properties. Denaturation by pH at 25 degrees C was followed by means of circular dichroism, ultracentrifugation and polyacrylamide gel electrophoresis. A large conformational transition took place in the acid range with midpoints at about pH = 3.6 (I = 10(-4) M), 4.3 (I = 0.03 M) and 5.3 (I = 0.1 M). The transition was irreversible. Strong aggregation of the protein occurred in this range of pH. The final product was largely random coil, but even at pH 1.5 dissociation into individual subunits was not complete. However, partial dissociation took place at pH 5 (I = 0.028 M). At this pH value the enzyme was inactive, but 20-30% of the activity could be recovered when the pH was returned to 7.5. In the alkaline region the midpoint of the transition occurred near pH = 11 (I = 0.028 M). The pK of most of the tyrosine residues of the protein was about 10.9. The unfolding was irreversible and the protein was soon converted into peptide species with molecular weights lower than those determined for the subunits by gel electrophoresis in the presence of sodium dodecyl sulphate. Conventional proteolysis did not account for the transformation.']},\n",
      " u'ArticleDate': [],\n",
      " u'ArticleTitle': 'Conformational and molecular responses to pH variation of the purified membrane adenosine triphosphatase of Micrococcus lysodeikticus.',\n",
      " u'AuthorList': ListElement([DictElement({u'LastName': 'Nieto', u'Identifier': [], u'ForeName': 'M', u'AffiliationInfo': [], u'Initials': 'M'}, attributes={u'ValidYN': u'Y'}), DictElement({u'LastName': u'Mu\\xf1oz', u'Identifier': [], u'ForeName': 'E', u'AffiliationInfo': [], u'Initials': 'E'}, attributes={u'ValidYN': u'Y'}), DictElement({u'LastName': 'Carreira', u'Identifier': [], u'ForeName': 'J', u'AffiliationInfo': [], u'Initials': 'J'}, attributes={u'ValidYN': u'Y'}), DictElement({u'LastName': 'Andreu', u'Identifier': [], u'ForeName': 'J M', u'AffiliationInfo': [], u'Initials': 'JM'}, attributes={u'ValidYN': u'Y'})], attributes={u'CompleteYN': u'Y'}),\n",
      " u'ELocationID': [],\n",
      " u'Journal': {u'ISSN': StringElement('0006-3002', attributes={u'IssnType': u'Print'}), u'ISOAbbreviation': 'Biochim. Biophys. Acta', u'JournalIssue': DictElement({u'Volume': '413', u'Issue': '3', u'PubDate': {u'Year': '1975', u'Day': '16', u'Month': 'Dec'}}, attributes={u'CitedMedium': u'Print'}), u'Title': 'Biochimica et biophysica acta'},\n",
      " u'Language': ['eng'],\n",
      " u'Pagination': {u'MedlinePgn': '394-414'},\n",
      " u'PublicationTypeList': [StringElement('Journal Article', attributes={u'UI': u'D016428'})]}\n"
     ]
    }
   ],
   "source": [
    "# this is what the JSON output looks like for a single article\n",
    "\n",
    "info = a[90000]\n",
    "article = info['MedlineCitation']['Article']\n",
    "pprint(dict(article))"
   ]
  },
  {
   "cell_type": "markdown",
   "metadata": {},
   "source": [
    "## Downloading a list of papers that cite each paper"
   ]
  },
  {
   "cell_type": "code",
   "execution_count": null,
   "metadata": {
    "collapsed": true
   },
   "outputs": [],
   "source": [
    "! python ../data/download_pubmed_citing_papers.py"
   ]
  },
  {
   "cell_type": "markdown",
   "metadata": {},
   "source": [
    "We use the eLink utility and save all PubMed papers that cite each paper. From that we can calculate c10.\n",
    "\n",
    "Run `python ../data/download_pubmed_citing_papers.py` to run this in multicore. The following code was used for testing."
   ]
  },
  {
   "cell_type": "code",
   "execution_count": 228,
   "metadata": {
    "collapsed": false
   },
   "outputs": [],
   "source": [
    "# https://eutils.ncbi.nlm.nih.gov/entrez/eutils/elink.fcgi?retmode=json&dbfrom=pubmed&id=26878240&cmd=neighbor&linkname=pubmed_pubmed_citedin\n",
    "handle = Entrez.elink(dbfrom=\"pubmed\", id=['23969737', '24803000'], cmd=\"neighbor\", retmode=\"xml\", linkname=\"pubmed_pubmed_citedin\")\n",
    "records = Entrez.read(handle)\n",
    "# print a\n",
    "# z = [int(x['Id']) for x in rec[0]['LinkSetDb'][0]['Link']] if rec[0]['LinkSetDb'] else []\n",
    "# u = int(rec[0]['IdList'][0])\n",
    "# print z, u\n",
    "\n",
    "pmids = [int(rec['IdList'][0]) for rec in list(records)]\n",
    "citing_papers = [[int(paper['Id']) for paper in rec['LinkSetDb'][0]['Link']] if rec['LinkSetDb'] else [] for rec in list(records)]"
   ]
  },
  {
   "cell_type": "code",
   "execution_count": 229,
   "metadata": {
    "collapsed": false
   },
   "outputs": [
    {
     "data": {
      "text/plain": [
       "{24803000: [27815943, 27679682, 27443611, 26989476, 26925040, 26667202, 26441955, 26350594, 26344953, 26279977, 26173587, 26075520, 26068237, 25879661, 25778531, 25750241, 25733520, 25714922, 25549696, 25436773], 23969737: [27791170, 27784796, 27630639, 27630231, 27610569, 27466419, 27442127, 27392606, 27349934, 27067056, 27064278, 27028935, 27001953, 26950744, 26933962, 26837192, 26827912, 26814372, 26763999, 26725118, 26709685, 26530382, 26527585, 26485194, 26468542, 26457756, 26454663, 26450412, 26446600, 26444083, 26413851, 26344344, 26332605, 26312747, 26248318, 26194759, 26136568, 26087072, 26068237, 26041300, 26039641, 26018167, 25972551, 25938510, 25889056, 25870266, 25837467, 25808207, 25803681, 25787288, 25785734, 25760931, 25747313, 25740988, 25662010, 25536486, 25525909, 25520506, 25512514, 25345460, 25298114, 25254639, 25215861, 25157148, 25153121, 25151483, 25142607, 25142591, 25132382, 25119033, 25046154, 24995008, 24982157, 24965460, 24917864, 24872420, 24803000, 24802758, 24758333, 24662931, 24638019, 24529371, 24441474, 24330857, 24307588, 24302742, 24179160]}"
      ]
     },
     "execution_count": 229,
     "metadata": {},
     "output_type": "execute_result"
    }
   ],
   "source": [
    "dict(zip(pmids, citing_papers))"
   ]
  },
  {
   "cell_type": "markdown",
   "metadata": {},
   "source": [
    "## Cleanup of citing papers data: merging individual pickle files into larger files, and making sure everything was downloaded properly"
   ]
  },
  {
   "cell_type": "code",
   "execution_count": null,
   "metadata": {
    "collapsed": true
   },
   "outputs": [],
   "source": [
    "ctr = 0\n",
    "citations = {}\n",
    "citation_counts = {}\n",
    "for fn in glob.glob(\"../data/pubmed_citations/citations_*.pkl\"):\n",
    "    # print fn\n",
    "    ctr += 1\n",
    "    if ctr % 100 == 0: print ctr\n",
    "    data = pickle.load(open(fn, 'r'))\n",
    "    \n",
    "    for z in data:\n",
    "        if data[z]:\n",
    "            citations[z] = data[z]\n",
    "            citation_counts[z] = len(data[z])\n",
    "            \n",
    "pickle.dump((citations, citation_counts), open(\"../data/pubmed_citing_papers.pkl\", 'w'))"
   ]
  },
  {
   "cell_type": "markdown",
   "metadata": {},
   "source": [
    "Merging everything together and making a dictionary of citation counts. To save space, I am only keeping keys that have nonzero/non-empty values in the dictionaries."
   ]
  },
  {
   "cell_type": "code",
   "execution_count": 270,
   "metadata": {
    "collapsed": false
   },
   "outputs": [
    {
     "name": "stdout",
     "output_type": "stream",
     "text": [
      "0\n"
     ]
    }
   ],
   "source": [
    "# Citing papers\n",
    "ctr = 0\n",
    "for i in range(0, 29000000, 10000):\n",
    "    if not glob.glob(\"../data/pubmed_citations/citations_{}.pkl\".format(i)):\n",
    "        print i\n",
    "        ctr += 1\n",
    "print ctr"
   ]
  },
  {
   "cell_type": "code",
   "execution_count": 279,
   "metadata": {
    "collapsed": false
   },
   "outputs": [
    {
     "data": {
      "text/plain": [
       "12408806"
      ]
     },
     "execution_count": 279,
     "metadata": {},
     "output_type": "execute_result"
    }
   ],
   "source": [
    "len(citation_counts.keys())"
   ]
  },
  {
   "cell_type": "code",
   "execution_count": 285,
   "metadata": {
    "collapsed": true
   },
   "outputs": [],
   "source": [
    "import seaborn as sns\n",
    "import numpy as np\n",
    "%matplotlib inline"
   ]
  },
  {
   "cell_type": "code",
   "execution_count": 287,
   "metadata": {
    "collapsed": false
   },
   "outputs": [
    {
     "data": {
      "text/plain": [
       "<matplotlib.axes._subplots.AxesSubplot object at 0x18476de10>"
      ]
     },
     "execution_count": 287,
     "metadata": {},
     "output_type": "execute_result"
    },
    {
     "data": {
      "image/png": "[encoded data removed]",
      "text/plain": [
       "<matplotlib.figure.Figure object at 0x166108cd0>"
      ]
     },
     "metadata": {},
     "output_type": "display_data"
    }
   ],
   "source": [
    "sns.distplot(np.log10(citation_counts.values()))"
   ]
  },
  {
   "cell_type": "markdown",
   "metadata": {},
   "source": [
    "## Cleanup of citation metadata"
   ]
  },
  {
   "cell_type": "code",
   "execution_count": 280,
   "metadata": {
    "collapsed": false
   },
   "outputs": [
    {
     "name": "stdout",
     "output_type": "stream",
     "text": [
      "0\n"
     ]
    }
   ],
   "source": [
    "# Citations\n",
    "ctr = 0\n",
    "for i in range(0, 29000000, 10000):\n",
    "    if not glob.glob(\"../data/pubmed/pubmed_{}.pkl\".format(i)):\n",
    "        print i\n",
    "        ctr += 1\n",
    "print ctr"
   ]
  },
  {
   "cell_type": "markdown",
   "metadata": {},
   "source": [
    "Get essential stats (num authors, year, journal, num citations) into one dictionary.\n",
    "\n",
    "Throwing away all papers that don't have an author list or a year of publication, or have any other defects"
   ]
  },
  {
   "cell_type": "code",
   "execution_count": 295,
   "metadata": {
    "collapsed": false
   },
   "outputs": [
    {
     "name": "stdout",
     "output_type": "stream",
     "text": [
      "100\n",
      "200\n",
      "300\n",
      "400\n",
      "500\n",
      "600\n",
      "700\n",
      "800\n",
      "900\n",
      "1000\n",
      "1100\n",
      "1200\n",
      "1300\n",
      "1400\n",
      "1500\n",
      "1600\n",
      "1700\n",
      "1800\n",
      "1900\n"
     ]
    },
    {
     "ename": "KeyboardInterrupt",
     "evalue": "(None, <function _reconstructor at 0x10d587a28>, (<class 'Bio.Entrez.Parser.StringElement'>, <type 'str'>, 'MM'))",
     "output_type": "error",
     "traceback": [
      "\u001b[0;31m---------------------------------------------------------------------------\u001b[0m",
      "\u001b[0;31mKeyboardInterrupt\u001b[0m                         Traceback (most recent call last)",
      "\u001b[0;32m<ipython-input-295-3afe69702a0a>\u001b[0m in \u001b[0;36m<module>\u001b[0;34m()\u001b[0m\n\u001b[1;32m      4\u001b[0m     \u001b[0mctr\u001b[0m \u001b[0;34m+=\u001b[0m \u001b[0;36m1\u001b[0m\u001b[0;34m\u001b[0m\u001b[0m\n\u001b[1;32m      5\u001b[0m     \u001b[0;32mif\u001b[0m \u001b[0mctr\u001b[0m \u001b[0;34m%\u001b[0m \u001b[0;36m100\u001b[0m \u001b[0;34m==\u001b[0m \u001b[0;36m0\u001b[0m\u001b[0;34m:\u001b[0m \u001b[0;32mprint\u001b[0m \u001b[0mctr\u001b[0m\u001b[0;34m\u001b[0m\u001b[0m\n\u001b[0;32m----> 6\u001b[0;31m     \u001b[0mdata\u001b[0m \u001b[0;34m=\u001b[0m \u001b[0mpickle\u001b[0m\u001b[0;34m.\u001b[0m\u001b[0mload\u001b[0m\u001b[0;34m(\u001b[0m\u001b[0mopen\u001b[0m\u001b[0;34m(\u001b[0m\u001b[0mfn\u001b[0m\u001b[0;34m,\u001b[0m \u001b[0;34m'r'\u001b[0m\u001b[0;34m)\u001b[0m\u001b[0;34m)\u001b[0m\u001b[0;34m\u001b[0m\u001b[0m\n\u001b[0m\u001b[1;32m      7\u001b[0m \u001b[0;34m\u001b[0m\u001b[0m\n\u001b[1;32m      8\u001b[0m     \u001b[0;32mfor\u001b[0m \u001b[0mrec\u001b[0m \u001b[0;32min\u001b[0m \u001b[0mdata\u001b[0m\u001b[0;34m:\u001b[0m\u001b[0;34m\u001b[0m\u001b[0m\n",
      "\u001b[0;32m/usr/local/Cellar/python/2.7.11/Frameworks/Python.framework/Versions/2.7/lib/python2.7/copy_reg.pyc\u001b[0m in \u001b[0;36m_reconstructor\u001b[0;34m(cls, base, state)\u001b[0m\n\u001b[1;32m     44\u001b[0m \u001b[0;31m# Support for pickling new-style objects\u001b[0m\u001b[0;34m\u001b[0m\u001b[0;34m\u001b[0m\u001b[0m\n\u001b[1;32m     45\u001b[0m \u001b[0;34m\u001b[0m\u001b[0m\n\u001b[0;32m---> 46\u001b[0;31m \u001b[0;32mdef\u001b[0m \u001b[0m_reconstructor\u001b[0m\u001b[0;34m(\u001b[0m\u001b[0mcls\u001b[0m\u001b[0;34m,\u001b[0m \u001b[0mbase\u001b[0m\u001b[0;34m,\u001b[0m \u001b[0mstate\u001b[0m\u001b[0;34m)\u001b[0m\u001b[0;34m:\u001b[0m\u001b[0;34m\u001b[0m\u001b[0m\n\u001b[0m\u001b[1;32m     47\u001b[0m     \u001b[0;32mif\u001b[0m \u001b[0mbase\u001b[0m \u001b[0;32mis\u001b[0m \u001b[0mobject\u001b[0m\u001b[0;34m:\u001b[0m\u001b[0;34m\u001b[0m\u001b[0m\n\u001b[1;32m     48\u001b[0m         \u001b[0mobj\u001b[0m \u001b[0;34m=\u001b[0m \u001b[0mobject\u001b[0m\u001b[0;34m.\u001b[0m\u001b[0m__new__\u001b[0m\u001b[0;34m(\u001b[0m\u001b[0mcls\u001b[0m\u001b[0;34m)\u001b[0m\u001b[0;34m\u001b[0m\u001b[0m\n",
      "\u001b[0;31mKeyboardInterrupt\u001b[0m: (None, <function _reconstructor at 0x10d587a28>, (<class 'Bio.Entrez.Parser.StringElement'>, <type 'str'>, 'MM'))"
     ]
    }
   ],
   "source": [
    "ctr = 0\n",
    "all_info = {}\n",
    "for fn in glob.glob(\"../data/pubmed/pubmed_*.pkl\"):\n",
    "    ctr += 1\n",
    "    if ctr % 100 == 0: print ctr\n",
    "    data = pickle.load(open(fn, 'r'))\n",
    "    \n",
    "    for rec in data:\n",
    "        pmid = rec['pmid']\n",
    "        if rec[\"authors\"] == [] or rec['yr'] == \"\": continue\n",
    "        try: all_info[pmid] = (len(rec[\"authors\"]), int(rec['yr']), rec['journal'], citation_counts[pmid])\n",
    "        except: continue\n",
    "            \n",
    "pickle.dump(all_info, open(\"../data/pubmed_statistics.pkl\", 'w'))"
   ]
  },
  {
   "cell_type": "markdown",
   "metadata": {},
   "source": [
    "## Getting a controlled vocabulary of affiliations"
   ]
  },
  {
   "cell_type": "code",
   "execution_count": null,
   "metadata": {
    "collapsed": true
   },
   "outputs": [],
   "source": []
  }
 ],
 "metadata": {
  "kernelspec": {
   "display_name": "Python 2",
   "language": "python",
   "name": "python2"
  },
  "language_info": {
   "codemirror_mode": {
    "name": "ipython",
    "version": 2
   },
   "file_extension": ".py",
   "mimetype": "text/x-python",
   "name": "python",
   "nbconvert_exporter": "python",
   "pygments_lexer": "ipython2",
   "version": "2.7.11"
  }
 },
 "nbformat": 4,
 "nbformat_minor": 0
}
