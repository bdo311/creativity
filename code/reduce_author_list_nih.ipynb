{
 "cells": [
  {
   "cell_type": "markdown",
   "metadata": {},
   "source": [
    "# Reduce author list (NIH paper data)"
   ]
  },
  {
   "cell_type": "code",
   "execution_count": 1,
   "metadata": {
    "collapsed": true
   },
   "outputs": [],
   "source": [
    "import numpy as np\n",
    "import cPickle as pickle\n",
    "import pandas as pd\n",
    "import collections\n",
    "import glob\n",
    "import seaborn as sns\n",
    "import os\n",
    "import re\n",
    "import csv\n",
    "\n",
    "csv.register_dialect(\"commadialect\", delimiter=',')\n",
    "\n",
    "%matplotlib inline"
   ]
  },
  {
   "cell_type": "markdown",
   "metadata": {},
   "source": [
    "Pull in data that was processed previously in download_nih_data.ipynb"
   ]
  },
  {
   "cell_type": "code",
   "execution_count": 2,
   "metadata": {
    "collapsed": true
   },
   "outputs": [],
   "source": [
    "(author_to_pmids, authors_sorted, journal_to_num) = pickle.load(open(\"../data/nih_paper_info.pkl\", 'r'))"
   ]
  },
  {
   "cell_type": "markdown",
   "metadata": {},
   "source": [
    "## Fixing names"
   ]
  },
  {
   "cell_type": "markdown",
   "metadata": {},
   "source": [
    "Lots of middle initials appear at the beginning of names"
   ]
  },
  {
   "cell_type": "code",
   "execution_count": 3,
   "metadata": {
    "collapsed": false
   },
   "outputs": [],
   "source": [
    "middle_initial_first = set()\n",
    "for au in authors_sorted:\n",
    "    if len(au.split(' ')[0]) == 1:\n",
    "        middle_initial_first.add(au)"
   ]
  },
  {
   "cell_type": "code",
   "execution_count": 4,
   "metadata": {
    "collapsed": false
   },
   "outputs": [],
   "source": [
    "fix_mi_dict = {}\n",
    "for au in middle_initial_first:\n",
    "    au_split = au.split(' ')\n",
    "    \n",
    "    if ',' not in au:   # Disregard organization names\n",
    "        continue\n",
    "    if not re.search('[a-z]', au.split(',')[0]):  # Last names are just initials (e.g. Remant KC))\n",
    "        continue\n",
    "    if not re.match('[A-Z]', au):  # All names must begin with uppercase\n",
    "        continue\n",
    "        \n",
    "    if au_split[0] == 'O':  # Irish names: O Connell --> O'Connell\n",
    "        au_new = au.replace(\"O \", \"O'\")\n",
    "        fix_mi_dict[au] = au_new\n",
    "    else: \n",
    "        while len(au_split[0]) == 1 and au_split[0] >= 'A' and au_split[0] <= 'Z':  # move all initials to end\n",
    "            au_split_new = au_split[1:]\n",
    "            au_split_new.append(au_split[0])\n",
    "            au_new = ' '.join(au_split_new)\n",
    "            if au_new[0] == \" \": au_new = au_new[1:]\n",
    "            \n",
    "            au_split = au_new.split(' ')\n",
    "\n",
    "        fix_mi_dict[au] = au_new\n",
    "\n",
    "#fix_mi_dict"
   ]
  },
  {
   "cell_type": "code",
   "execution_count": 5,
   "metadata": {
    "collapsed": false
   },
   "outputs": [
    {
     "data": {
      "text/plain": [
       "2196145"
      ]
     },
     "execution_count": 5,
     "metadata": {},
     "output_type": "execute_result"
    }
   ],
   "source": [
    "for au in fix_mi_dict:\n",
    "    new_au = fix_mi_dict[au]\n",
    "    \n",
    "    new_pmids = list(author_to_pmids.get(new_au, []))\n",
    "    old_pmids = list(author_to_pmids[au])\n",
    "    new_pmids.extend(old_pmids)\n",
    "    author_to_pmids[new_au] = set(new_pmids)\n",
    "    del author_to_pmids[au]\n",
    "    \n",
    "authors_sorted = sorted(author_to_pmids.keys())\n",
    "len(authors_sorted)"
   ]
  },
  {
   "cell_type": "markdown",
   "metadata": {},
   "source": [
    "Get a mapping of all author names to their initialed versions"
   ]
  },
  {
   "cell_type": "markdown",
   "metadata": {},
   "source": [
    "## Follow the steps set out in 2014 Current Bio paper"
   ]
  },
  {
   "cell_type": "code",
   "execution_count": 86,
   "metadata": {
    "collapsed": false
   },
   "outputs": [
    {
     "data": {
      "text/plain": [
       "1289070"
      ]
     },
     "execution_count": 86,
     "metadata": {},
     "output_type": "execute_result"
    }
   ],
   "source": [
    "authors_to_initial = {}\n",
    "all_authors_initial = set()\n",
    "for au in authors_sorted:\n",
    "    try:\n",
    "        firstname = au.split(', ')[1].split(' ')\n",
    "        initials = ' '.join([x[0] for x in firstname])\n",
    "        newname = ', '.join([au.split(', ')[0], initials])\n",
    "        all_authors_initial.add(newname)\n",
    "        \n",
    "        authors_to_initial[au] = newname\n",
    "    except:\n",
    "        continue\n",
    "\n",
    "len(all_authors_initial)"
   ]
  },
  {
   "cell_type": "markdown",
   "metadata": {},
   "source": [
    "For unique authors, get a listing of author to papers that are not case reports.\n",
    "\n",
    "Here we only take authors for whom there is only one author for that particular last name. For these authors, we are confident that there is only author with that last name, so we merge the list of papers that map to the initialed and uninitialed version of that name (in case there are papers from both before and after 2002)."
   ]
  },
  {
   "cell_type": "code",
   "execution_count": 87,
   "metadata": {
    "collapsed": true
   },
   "outputs": [],
   "source": [
    "case_reports = set(pickle.load(open(\"../data/case_report_pmids.pkl\", 'r')))\n",
    "\n",
    "lastname_to_count = collections.defaultdict(lambda: 0)\n",
    "for au in all_authors_initial:\n",
    "    lastname_to_count[au.split(', ')[0]] += 1"
   ]
  },
  {
   "cell_type": "code",
   "execution_count": 88,
   "metadata": {
    "collapsed": false
   },
   "outputs": [],
   "source": [
    "unique_author_to_pmids = {}\n",
    "for au in authors_sorted:\n",
    "    if lastname_to_count[au.split(', ')[0]] == 1:\n",
    "        try:\n",
    "            pmids = list(author_to_pmids.get(au, []))\n",
    "            pmids.extend(unique_author_to_pmids.get(authors_to_initial[au], []))\n",
    "            \n",
    "            # remove papers that are case reports\n",
    "            pmids_no_case_reports = []\n",
    "            for paper in pmids:\n",
    "                if paper[0] not in case_reports:\n",
    "                    pmids_no_case_reports.append(paper)\n",
    "            unique_author_to_pmids[au] = pmids_no_case_reports\n",
    "            \n",
    "        except:\n",
    "            continue"
   ]
  },
  {
   "cell_type": "code",
   "execution_count": 89,
   "metadata": {
    "collapsed": false
   },
   "outputs": [
    {
     "data": {
      "text/plain": [
       "298963"
      ]
     },
     "execution_count": 89,
     "metadata": {},
     "output_type": "execute_result"
    }
   ],
   "source": [
    "len(unique_author_to_pmids)"
   ]
  },
  {
   "cell_type": "markdown",
   "metadata": {},
   "source": [
    "We then take only the authors with >3 papers."
   ]
  },
  {
   "cell_type": "code",
   "execution_count": 90,
   "metadata": {
    "collapsed": false
   },
   "outputs": [
    {
     "data": {
      "text/plain": [
       "85110"
      ]
     },
     "execution_count": 90,
     "metadata": {},
     "output_type": "execute_result"
    }
   ],
   "source": [
    "num_papers = []\n",
    "for au in unique_author_to_pmids:\n",
    "    num_papers.append(len(set(unique_author_to_pmids[au])))\n",
    "\n",
    "num_papers = np.array(num_papers)\n",
    "np.sum(num_papers > 2)"
   ]
  },
  {
   "cell_type": "code",
   "execution_count": 91,
   "metadata": {
    "collapsed": false
   },
   "outputs": [
    {
     "data": {
      "text/plain": [
       "['Gerberry, David J',\n",
       " 'Cheun, J E',\n",
       " 'Harakall, S A',\n",
       " 'Jelalian, Elissa',\n",
       " 'Dolegowska, Barbara',\n",
       " 'Mutapcic, Lejla',\n",
       " 'BeLue, Rhonda',\n",
       " 'Caniggia, I',\n",
       " 'Rouquette-Jazdanian, Alexandre K',\n",
       " 'Lo Turco, J J']"
      ]
     },
     "execution_count": 91,
     "metadata": {},
     "output_type": "execute_result"
    }
   ],
   "source": [
    "unique_author_to_pmids_3 = {}\n",
    "for au in unique_author_to_pmids:\n",
    "    papers = unique_author_to_pmids[au]\n",
    "    if len(set(papers)) > 2: unique_author_to_pmids_3[au] = list(set(papers))\n",
    "\n",
    "unique_author_to_pmids_3.keys()[:10]"
   ]
  },
  {
   "cell_type": "code",
   "execution_count": 92,
   "metadata": {
    "collapsed": false
   },
   "outputs": [
    {
     "data": {
      "text/plain": [
       "[(21537115, 1, 2, 2011), (25462707, 1, 5, 2014), (20539095, 1, 2, 2010)]"
      ]
     },
     "execution_count": 92,
     "metadata": {},
     "output_type": "execute_result"
    }
   ],
   "source": [
    "unique_author_to_pmids_3[\"Gerberry, David J\"]"
   ]
  },
  {
   "cell_type": "markdown",
   "metadata": {},
   "source": [
    "We restrict our set of authors based on the following criteria:\n",
    "- their first paper must be between 1998 and 2002, inclusive\n",
    "- at most 1 of their first 4 papers can be last author "
   ]
  },
  {
   "cell_type": "code",
   "execution_count": 93,
   "metadata": {
    "collapsed": false
   },
   "outputs": [
    {
     "data": {
      "text/plain": [
       "12042"
      ]
     },
     "execution_count": 93,
     "metadata": {},
     "output_type": "execute_result"
    }
   ],
   "source": [
    "unique_author_to_pmids_3_yr = {}\n",
    "for au in unique_author_to_pmids_3:\n",
    "\n",
    "    sorted_papers = sorted(unique_author_to_pmids_3[au], key=lambda x: x[-1])\n",
    "    if sorted_papers[0][-1] > 2002 or sorted_papers[0][-1] < 1998: continue  # first paper between 1996 and 2000\n",
    "    ctr_last = 0\n",
    "    for paper in sorted_papers[:4]:\n",
    "        if paper[1] == paper[2]: ctr_last += 1\n",
    "    if ctr_last >= 2: continue  # at least 2 of first 4 pubs were last author\n",
    "    \n",
    "    unique_author_to_pmids_3_yr[au] = sorted_papers\n",
    "\n",
    "len(unique_author_to_pmids_3_yr.keys())"
   ]
  },
  {
   "cell_type": "markdown",
   "metadata": {},
   "source": [
    "We first restricted our list of PIs to those that had at least 3 last-author publications. To determine when they became a PI, we used the date of their second last-author publication. "
   ]
  },
  {
   "cell_type": "code",
   "execution_count": 94,
   "metadata": {
    "collapsed": false
   },
   "outputs": [
    {
     "data": {
      "text/plain": [
       "983"
      ]
     },
     "execution_count": 94,
     "metadata": {},
     "output_type": "execute_result"
    }
   ],
   "source": [
    "# figuring out PI status\n",
    "pi_history = {}\n",
    "pi_years = []\n",
    "for au in unique_author_to_pmids_3_yr:\n",
    "    ctr_last = 0\n",
    "    papers = unique_author_to_pmids_3_yr[au]\n",
    "    pi = 0\n",
    "    start = papers[0][-1]\n",
    "    for paper in papers:\n",
    "        if paper[1] == paper[2]: ctr_last += 1\n",
    "        if ctr_last == 2: pi = paper[-1]  # take the date of the 2nd last author paper\n",
    "    years = pi - start if pi != 0 else 0\n",
    "    \n",
    "    # remove PIs with less than 3 last author papers\n",
    "    if ctr_last < 3: \n",
    "        pi = 0\n",
    "        years = 0\n",
    "\n",
    "    pi_history[au] = (pi, start, years)\n",
    "    if years != 0: pi_years.append(years)\n",
    "\n",
    "len(pi_years)"
   ]
  },
  {
   "cell_type": "code",
   "execution_count": 95,
   "metadata": {
    "collapsed": false
   },
   "outputs": [
    {
     "data": {
      "text/plain": [
       "<matplotlib.axes._subplots.AxesSubplot at 0x7f4adff00a90>"
      ]
     },
     "execution_count": 95,
     "metadata": {},
     "output_type": "execute_result"
    },
    {
     "data": {
      "image/png": "[encoded data removed]",
      "text/plain": [
       "<matplotlib.figure.Figure at 0x7f4a9f824190>"
      ]
     },
     "metadata": {},
     "output_type": "display_data"
    }
   ],
   "source": [
    "sns.distplot(pi_years, kde=False, bins = range(20))"
   ]
  },
  {
   "cell_type": "markdown",
   "metadata": {},
   "source": [
    "## Finding clusters of names"
   ]
  },
  {
   "cell_type": "code",
   "execution_count": 6,
   "metadata": {
    "collapsed": false
   },
   "outputs": [],
   "source": [
    "hierarchy = collections.defaultdict(lambda: collections.defaultdict(lambda: set()))\n",
    "study_groups = set()\n",
    "for au in authors_sorted:\n",
    "    if collections.Counter(au)[','] != 1: \n",
    "        study_groups.add(au)  # weird naming\n",
    "        continue\n",
    "    au_split = au.split(', ')\n",
    "    try:\n",
    "        ln, fn = au_split[0], au_split[1]\n",
    "        hierarchy[ln][fn[0]].add(au)\n",
    "    except:  # collaborations\n",
    "        study_groups.add(au)"
   ]
  },
  {
   "cell_type": "code",
   "execution_count": 7,
   "metadata": {
    "collapsed": false
   },
   "outputs": [
    {
     "data": {
      "text/plain": [
       "{'': defaultdict(<function __main__.<lambda>>,\n",
       "             {'f': {', for the Colon Cancer Family Registry'},\n",
       "              'o': {', on behalf of the Ovarian Cancer Association Consortium'}}),\n",
       " 'Brignole-Baudouin': defaultdict(<function __main__.<lambda>>,\n",
       "             {'F': {'Brignole-Baudouin, Francoise'}}),\n",
       " 'Connerty': defaultdict(<function __main__.<lambda>>, {'M': {'Connerty, M'}}),\n",
       " 'Derikx': defaultdict(<function __main__.<lambda>>,\n",
       "             {'L': {'Derikx, Loes C'}, 'M': {'Derikx, Monique H M'}}),\n",
       " 'Dubensky Jr': defaultdict(<function __main__.<lambda>>,\n",
       "             {'T': {'Dubensky Jr, T W',\n",
       "               'Dubensky Jr, Thomas',\n",
       "               'Dubensky Jr, Thomas W'}}),\n",
       " 'Erdur': defaultdict(<function __main__.<lambda>>,\n",
       "             {'L': {'Erdur, Laurence'}}),\n",
       " 'Feijo': defaultdict(<function __main__.<lambda>>,\n",
       "             {'J': {'Feijo, Jose A'}, 'L': {'Feijo, Larissa'}}),\n",
       " 'Grigsby-Toussaint': defaultdict(<function __main__.<lambda>>,\n",
       "             {'D': {'Grigsby-Toussaint, Diana',\n",
       "               'Grigsby-Toussaint, Diana S'}}),\n",
       " 'Prohovnik': defaultdict(<function __main__.<lambda>>,\n",
       "             {'I': {'Prohovnik, I', 'Prohovnik, Isak'}}),\n",
       " 'Villalon': defaultdict(<function __main__.<lambda>>,\n",
       "             {'C': {'Villalon, C'},\n",
       "              'D': {'Villalon, D K', 'Villalon, Debbie K'},\n",
       "              'E': {'Villalon, E', 'Villalon, Eric'},\n",
       "              'J': {'Villalon, Julio'},\n",
       "              'K': {'Villalon, Karen L'},\n",
       "              'M': {'Villalon, M',\n",
       "               'Villalon, M J',\n",
       "               'Villalon, Manuel',\n",
       "               'Villalon, Mark L'},\n",
       "              'N': {'Villalon, Nicholas'},\n",
       "              'P': {'Villalon, P'}})}"
      ]
     },
     "execution_count": 7,
     "metadata": {},
     "output_type": "execute_result"
    }
   ],
   "source": [
    "dict(hierarchy.items()[:10])"
   ]
  },
  {
   "cell_type": "code",
   "execution_count": 8,
   "metadata": {
    "collapsed": true
   },
   "outputs": [],
   "source": [
    "def clean(name):\n",
    "    return ' '.join(name.split())\n",
    "\n",
    "def matching(name1, name2):\n",
    "    n1 = clean(name1).split(' ')\n",
    "    n2 = clean(name2).split(' ')\n",
    "    \n",
    "    if len(n1) < len(n2):  \n",
    "        # name1 is a simplification of name2\n",
    "        for i in range(len(n1)):\n",
    "            #if len(n1[i]) > 1 and len(n2[i]) == 1: return False  # \"Jack\" and \"J C\" -- we allow this\n",
    "            if len(n1[i]) > 1 and len(n2[i]) > 1 and n1[i] != n2[i]: return False  # \"Jack\" and \"John C\" \n",
    "            elif len(n1[i]) == 1 and n1[i] != n2[i][0] : return False  # \"J K\" and \"J J L\" or \"J K\" and \"J Kris\"\n",
    "        return True\n",
    "    \n",
    "    elif len(n1) == len(n2):  # name1 and name2 have same # initials\n",
    "        for i in range(len(n1)):\n",
    "            if n1[i][0] != n2[i][0]: return False  # \"John J\" and \"John K\"\n",
    "            elif len(n1[i]) > 1 and len(n2[i]) > 1 and n1[i] != n2[i]: return False  # \"John Jack\" and \"John James\"\n",
    "        return True\n",
    "    \n",
    "    else:\n",
    "        return matching(name2, name1)"
   ]
  },
  {
   "cell_type": "code",
   "execution_count": 222,
   "metadata": {
    "collapsed": false
   },
   "outputs": [
    {
     "name": "stdout",
     "output_type": "stream",
     "text": [
      "True\n",
      "True\n",
      "True\n",
      "True\n",
      "True\n",
      "False\n",
      "False\n"
     ]
    }
   ],
   "source": [
    "print matching(\"J W\", \"Jack\")  # True\n",
    "print matching(\"Jack W\", \"Jack\")  # True\n",
    "print matching(\"Jack Will\", \"Jack Will\")  # True\n",
    "print matching(\"J Will\", \"Jack Will\")  # True\n",
    "print matching(\"Jack W\", \"J\")  # True\n",
    "print matching(\"Jack W\", \"John W\")  # False\n",
    "print matching(\"J S W\", \"J W S\")  # False"
   ]
  },
  {
   "cell_type": "code",
   "execution_count": 9,
   "metadata": {
    "collapsed": false
   },
   "outputs": [],
   "source": [
    "def pairwise_matching(name_list):\n",
    "    for i in range(len(name_list)):\n",
    "        for j in range(i+1, len(name_list)):\n",
    "            if not matching(name_list[i], name_list[j]):\n",
    "                return False\n",
    "    return True\n",
    "\n",
    "def get_name_sets(name_sets):\n",
    "    first_names = [au.split(', ')[1] for au in name_sets]\n",
    "\n",
    "    name_clusters = set()\n",
    "    names_added = set()\n",
    "    for i in range(len(first_names)):\n",
    "        matching_i = set([first_names[i]])  # all names that match with each name\n",
    "        for j in range(len(first_names)):\n",
    "            if matching(first_names[i], first_names[j]):\n",
    "                matching_i.add(first_names[j])\n",
    "        \n",
    "        # only keep those sets that are internally consistent\n",
    "        # also, all names must belong to a single set or the whole thing gets thrown out        \n",
    "        if pairwise_matching(list(matching_i)): \n",
    "            if frozenset(matching_i) not in name_clusters:\n",
    "                for name in matching_i:\n",
    "                    if name in names_added: return set()\n",
    "                    names_added.add(name)\n",
    "                name_clusters.add(frozenset(matching_i))  \n",
    "\n",
    "    return name_clusters"
   ]
  },
  {
   "cell_type": "code",
   "execution_count": 10,
   "metadata": {
    "collapsed": false
   },
   "outputs": [
    {
     "name": "stdout",
     "output_type": "stream",
     "text": [
      "0\n",
      "30000\n",
      "60000\n",
      "90000\n",
      "120000\n",
      "150000\n",
      "180000\n",
      "210000\n",
      "240000\n",
      "270000\n",
      "300000\n",
      "330000\n",
      "360000\n",
      "390000\n",
      "420000\n"
     ]
    }
   ],
   "source": [
    "author_to_cluster_name = {}\n",
    "cluster_author_to_pmids = {}\n",
    "ctr = 0\n",
    "for ln in hierarchy:\n",
    "    if ctr % 30000 == 0: print ctr\n",
    "    ctr += 1\n",
    "    \n",
    "    for fn in hierarchy[ln]:\n",
    "        try:\n",
    "            clusters = get_name_sets(hierarchy[ln][fn])\n",
    "            if not clusters: continue\n",
    "\n",
    "            # make new author to pmid mapping with cluster names\n",
    "            for cluster in clusters:\n",
    "                cluster_name = ln + ', ' + max(cluster, key=len)\n",
    "                cluster_pmids = list(author_to_pmids[cluster_name])\n",
    "                for name in cluster:\n",
    "                    fullname = ln + ', ' + name\n",
    "                    author_to_cluster_name[fullname] = clean(cluster_name)\n",
    "                    cluster_pmids.extend(list(author_to_pmids[fullname]))\n",
    "                cluster_author_to_pmids[clean(cluster_name)] = list(set(cluster_pmids))\n",
    "        except:\n",
    "            print ln, fn"
   ]
  },
  {
   "cell_type": "code",
   "execution_count": 11,
   "metadata": {
    "collapsed": false
   },
   "outputs": [
    {
     "data": {
      "text/plain": [
       "850416"
      ]
     },
     "execution_count": 11,
     "metadata": {},
     "output_type": "execute_result"
    }
   ],
   "source": [
    "len(cluster_author_to_pmids)"
   ]
  },
  {
   "cell_type": "code",
   "execution_count": 12,
   "metadata": {
    "collapsed": true
   },
   "outputs": [],
   "source": [
    "pickle.dump((cluster_author_to_pmids, author_to_cluster_name), open(\"../data/nih_author_cluster_names.pkl\", 'w'))"
   ]
  },
  {
   "cell_type": "code",
   "execution_count": 2,
   "metadata": {
    "collapsed": true
   },
   "outputs": [],
   "source": [
    "(cluster_author_to_pmids, author_to_cluster_name) = pickle.load(open(\"../data/nih_author_cluster_names.pkl\", 'r'))"
   ]
  },
  {
   "cell_type": "code",
   "execution_count": 13,
   "metadata": {
    "collapsed": true
   },
   "outputs": [],
   "source": [
    "case_reports = set(pickle.load(open(\"../data/case_report_pmids.pkl\", 'r')))\n",
    "cluster_author_to_pmids_nocase = {}\n",
    "for au in cluster_author_to_pmids:\n",
    "    pmids = list(cluster_author_to_pmids.get(au, []))\n",
    "\n",
    "    # remove papers that are case reports\n",
    "    pmids_no_case_reports = []\n",
    "    for paper in pmids:\n",
    "        if paper[0] not in case_reports:\n",
    "            pmids_no_case_reports.append(paper)\n",
    "    cluster_author_to_pmids_nocase[au] = pmids_no_case_reports"
   ]
  },
  {
   "cell_type": "code",
   "execution_count": 14,
   "metadata": {
    "collapsed": false
   },
   "outputs": [
    {
     "data": {
      "text/plain": [
       "324769"
      ]
     },
     "execution_count": 14,
     "metadata": {},
     "output_type": "execute_result"
    }
   ],
   "source": [
    "cluster_author_to_pmids_3 = {}\n",
    "for au in cluster_author_to_pmids_nocase:\n",
    "    papers = cluster_author_to_pmids_nocase[au]\n",
    "    if len(set(papers)) > 2: cluster_author_to_pmids_3[au] = list(set(papers))\n",
    "\n",
    "len(cluster_author_to_pmids_3)"
   ]
  },
  {
   "cell_type": "code",
   "execution_count": 15,
   "metadata": {
    "collapsed": false
   },
   "outputs": [
    {
     "data": {
      "text/plain": [
       "39904"
      ]
     },
     "execution_count": 15,
     "metadata": {},
     "output_type": "execute_result"
    }
   ],
   "source": [
    "cluster_author_to_pmids_3_yr = {}\n",
    "for au in cluster_author_to_pmids_3:\n",
    "\n",
    "    sorted_papers = sorted(cluster_author_to_pmids_3[au], key=lambda x: x[-1])\n",
    "    if sorted_papers[0][-1] > 2002 or sorted_papers[0][-1] < 1998: continue  # first paper between 1996 and 2000\n",
    "    ctr_last = 0\n",
    "    for paper in sorted_papers[:4]:\n",
    "        if paper[1] == paper[2]: ctr_last += 1\n",
    "    if ctr_last >= 2: continue  # at least 2 of first 4 pubs were last author\n",
    "    \n",
    "    cluster_author_to_pmids_3_yr[au] = sorted_papers\n",
    "\n",
    "len(cluster_author_to_pmids_3_yr.keys())"
   ]
  },
  {
   "cell_type": "code",
   "execution_count": 16,
   "metadata": {
    "collapsed": false
   },
   "outputs": [
    {
     "data": {
      "text/plain": [
       "4825"
      ]
     },
     "execution_count": 16,
     "metadata": {},
     "output_type": "execute_result"
    }
   ],
   "source": [
    "# figuring out PI status\n",
    "pi_history = {}\n",
    "pi_years = []\n",
    "for au in cluster_author_to_pmids_3_yr:\n",
    "    ctr_last = 0\n",
    "    papers = cluster_author_to_pmids_3_yr[au]\n",
    "    pi = 0\n",
    "    start = papers[0][-1]\n",
    "    for paper in papers:\n",
    "        if paper[1] == paper[2]: ctr_last += 1\n",
    "        if ctr_last == 2: pi = paper[-1]  # take the date of the 2nd last author paper\n",
    "    years = pi - start if pi != 0 else 0\n",
    "    \n",
    "    # remove PIs with less than 3 last author papers\n",
    "    if ctr_last < 3: \n",
    "        pi = 0\n",
    "        years = 0\n",
    "\n",
    "    pi_history[au] = (pi, start, years)\n",
    "    if years != 0: pi_years.append(years)\n",
    "\n",
    "len(pi_years)"
   ]
  },
  {
   "cell_type": "code",
   "execution_count": 17,
   "metadata": {
    "collapsed": false
   },
   "outputs": [
    {
     "data": {
      "text/plain": [
       "(0, 20)"
      ]
     },
     "execution_count": 17,
     "metadata": {},
     "output_type": "execute_result"
    },
    {
     "data": {
      "image/png": "[encoded data removed]",
      "text/plain": [
       "<matplotlib.figure.Figure at 0x2b65d3fe3310>"
      ]
     },
     "metadata": {},
     "output_type": "display_data"
    }
   ],
   "source": [
    "sns.distplot(pi_years, kde=True, bins=range(20))\n",
    "sns.plt.xlim([0,20])"
   ]
  },
  {
   "cell_type": "markdown",
   "metadata": {},
   "source": [
    "## Look at yearly PI trends over time\n",
    "\n",
    "Assume the max time to PI is 17 years"
   ]
  },
  {
   "cell_type": "code",
   "execution_count": 18,
   "metadata": {
    "collapsed": true
   },
   "outputs": [],
   "source": [
    "def pi_history_by_year(yr):\n",
    "    cluster_author_to_pmids_3_yr = {}\n",
    "    for au in cluster_author_to_pmids_3:\n",
    "        sorted_papers = sorted(cluster_author_to_pmids_3[au], key=lambda x: x[-1])\n",
    "        if sorted_papers[0][-1] > yr or sorted_papers[0][-1] < yr: continue  # first paper between 1996 and 2000\n",
    "        ctr_last = 0\n",
    "        for paper in sorted_papers[:4]:\n",
    "            if paper[1] == paper[2]: ctr_last += 1\n",
    "        if ctr_last >= 2: continue  # at least 2 of first 4 pubs were last author\n",
    "\n",
    "        cluster_author_to_pmids_3_yr[au] = sorted_papers\n",
    "\n",
    "    # figuring out PI status\n",
    "    pi_history = {}\n",
    "    pi_years = []\n",
    "    for au in cluster_author_to_pmids_3_yr:\n",
    "        ctr_last = 0\n",
    "        papers = cluster_author_to_pmids_3_yr[au]\n",
    "        pi = 0\n",
    "        start = papers[0][-1]\n",
    "        for paper in papers:\n",
    "            if paper[-1] > yr + 17: continue\n",
    "            if paper[1] == paper[2]: ctr_last += 1\n",
    "            if ctr_last == 2: pi = paper[-1]  # take the date of the 2nd last author paper\n",
    "                \n",
    "        years = pi - start if pi != 0 else 0\n",
    "\n",
    "        # remove PIs with less than 3 last author papers\n",
    "        if ctr_last < 3: \n",
    "            pi = 0\n",
    "            years = 0\n",
    "\n",
    "        pi_history[au] = (pi, start, years)\n",
    "        if years != 0: pi_years.append(years)\n",
    "\n",
    "    return len(cluster_author_to_pmids_3_yr.keys()), len(pi_years), pi_years"
   ]
  },
  {
   "cell_type": "code",
   "execution_count": 19,
   "metadata": {
    "collapsed": false
   },
   "outputs": [],
   "source": [
    "all_pi_history = [pi_history_by_year(yr) for yr in range(1990, 2016)]"
   ]
  },
  {
   "cell_type": "code",
   "execution_count": 20,
   "metadata": {
    "collapsed": false
   },
   "outputs": [],
   "source": [
    "pct_pi = [float(x[1])/x[0] for x in all_pi_history] \n",
    "students = [x[0] for x in all_pi_history] \n",
    "pis = [x[1] for x in all_pi_history]"
   ]
  },
  {
   "cell_type": "code",
   "execution_count": 22,
   "metadata": {
    "collapsed": false
   },
   "outputs": [
    {
     "data": {
      "text/plain": [
       "<matplotlib.axes._subplots.AxesSubplot at 0x2b71e6aba710>"
      ]
     },
     "execution_count": 22,
     "metadata": {},
     "output_type": "execute_result"
    },
    {
     "data": {
      "image/png": "[encoded data removed]",
      "text/plain": [
       "<matplotlib.figure.Figure at 0x2b720602d190>"
      ]
     },
     "metadata": {},
     "output_type": "display_data"
    }
   ],
   "source": [
    "sns.barplot(range(1990,2003), pct_pi[:13], hue=None)"
   ]
  },
  {
   "cell_type": "code",
   "execution_count": 24,
   "metadata": {
    "collapsed": false
   },
   "outputs": [
    {
     "data": {
      "text/plain": [
       "<matplotlib.axes._subplots.AxesSubplot at 0x2b65ea0b8510>"
      ]
     },
     "execution_count": 24,
     "metadata": {},
     "output_type": "execute_result"
    },
    {
     "data": {
      "image/png": "[encoded data removed]",
      "text/plain": [
       "<matplotlib.figure.Figure at 0x2b65ea0eaf50>"
      ]
     },
     "metadata": {},
     "output_type": "display_data"
    }
   ],
   "source": [
    "sns.barplot(range(1990,2016), students, hue=None)"
   ]
  },
  {
   "cell_type": "code",
   "execution_count": 25,
   "metadata": {
    "collapsed": false
   },
   "outputs": [
    {
     "data": {
      "text/plain": [
       "<matplotlib.axes._subplots.AxesSubplot at 0x2b66275cbb50>"
      ]
     },
     "execution_count": 25,
     "metadata": {},
     "output_type": "execute_result"
    },
    {
     "data": {
      "image/png": "[encoded data removed]",
      "text/plain": [
       "<matplotlib.figure.Figure at 0x2b662368ad90>"
      ]
     },
     "metadata": {},
     "output_type": "display_data"
    }
   ],
   "source": [
    "sns.barplot(range(1990,2016), pis, hue=None)"
   ]
  },
  {
   "cell_type": "markdown",
   "metadata": {},
   "source": [
    "## Look at NIH grant data to get author lists"
   ]
  },
  {
   "cell_type": "code",
   "execution_count": 70,
   "metadata": {
    "collapsed": false
   },
   "outputs": [
    {
     "name": "stdout",
     "output_type": "stream",
     "text": [
      "{0: 'APPLICATION_ID', 1: 'ACTIVITY', 2: 'ADMINISTERING_IC', 3: 'APPLICATION_TYPE', 4: 'ARRA_FUNDED', 5: 'AWARD_NOTICE_DATE', 6: 'BUDGET_START', 7: 'BUDGET_END', 8: 'CFDA_CODE', 9: 'CORE_PROJECT_NUM', 10: 'ED_INST_TYPE', 11: 'FOA_NUMBER', 12: 'FULL_PROJECT_NUM', 13: 'FUNDING_ICs', 14: 'FUNDING_MECHANISM', 15: 'FY', 16: 'IC_NAME', 17: 'NIH_SPENDING_CATS', 18: 'ORG_CITY', 19: 'ORG_COUNTRY', 20: 'ORG_DEPT', 21: 'ORG_DISTRICT', 22: 'ORG_DUNS', 23: 'ORG_FIPS', 24: 'ORG_NAME', 25: 'ORG_STATE', 26: 'ORG_ZIPCODE', 27: 'PHR', 28: 'PI_IDS', 29: 'PI_NAMEs', 30: 'PROGRAM_OFFICER_NAME', 31: 'PROJECT_START', 32: 'PROJECT_END', 33: 'PROJECT_TERMS', 34: 'PROJECT_TITLE', 35: 'SERIAL_NUMBER', 36: 'STUDY_SECTION', 37: 'STUDY_SECTION_NAME', 38: 'SUBPROJECT_ID', 39: 'SUFFIX', 40: 'SUPPORT_YEAR', 41: 'TOTAL_COST', 42: 'TOTAL_COST_SUB_PROJECT'}\n"
     ]
    }
   ],
   "source": [
    "with open(\"../data/nih_grants/RePORTER_PRJ_C_FY2009.csv\", 'r') as ifile:\n",
    "    reader = csv.reader(ifile, 'commadialect')\n",
    "    for row in reader:\n",
    "        print {i: row[i] for i in range(len(row))}\n",
    "        break"
   ]
  },
  {
   "cell_type": "code",
   "execution_count": 27,
   "metadata": {
    "collapsed": false
   },
   "outputs": [
    {
     "name": "stdout",
     "output_type": "stream",
     "text": [
      "{0: 'APPLICATION_ID', 1: 'ACTIVITY', 2: 'ADMINISTERING_IC', 3: 'APPLICATION_TYPE', 4: 'ARRA_FUNDED', 5: 'AWARD_NOTICE_DATE', 6: 'BUDGET_START', 7: 'BUDGET_END', 8: 'CFDA_CODE', 9: 'CORE_PROJECT_NUM', 10: 'ED_INST_TYPE', 11: 'FOA_NUMBER', 12: 'FULL_PROJECT_NUM', 13: 'FUNDING_ICs', 14: 'FY', 15: 'IC_NAME', 16: 'NIH_SPENDING_CATS', 17: 'ORG_CITY', 18: 'ORG_COUNTRY', 19: 'ORG_DEPT', 20: 'ORG_DISTRICT', 21: 'ORG_DUNS', 22: 'ORG_FIPS', 23: 'ORG_NAME', 24: 'ORG_STATE', 25: 'ORG_ZIPCODE', 26: 'PHR', 27: 'PI_IDS', 28: 'PI_NAMEs', 29: 'PROGRAM_OFFICER_NAME', 30: 'PROJECT_START', 31: 'PROJECT_END', 32: 'PROJECT_TERMS', 33: 'PROJECT_TITLE', 34: 'SERIAL_NUMBER', 35: 'STUDY_SECTION', 36: 'STUDY_SECTION_NAME', 37: 'SUBPROJECT_ID', 38: 'SUFFIX', 39: 'SUPPORT_YEAR', 40: 'TOTAL_COST', 41: 'TOTAL_COST_SUB_PROJECT'}\n"
     ]
    }
   ],
   "source": [
    "with open(\"../data/nih_grants/RePORTER_PRJ_C_FY.csv\", 'r') as ifile:\n",
    "    reader = csv.reader(ifile, 'commadialect')\n",
    "    for row in reader:\n",
    "        print {i: row[i] for i in range(len(row))}\n",
    "        break"
   ]
  },
  {
   "cell_type": "code",
   "execution_count": 3,
   "metadata": {
    "collapsed": false
   },
   "outputs": [
    {
     "name": "stdout",
     "output_type": "stream",
     "text": [
      "../data/nih_grants/RePORTER_PRJ_C_FY1985.csv\n",
      "../data/nih_grants/RePORTER_PRJ_C_FY1986.csv\n",
      "../data/nih_grants/RePORTER_PRJ_C_FY1987.csv\n",
      "../data/nih_grants/RePORTER_PRJ_C_FY1988.csv\n",
      "../data/nih_grants/RePORTER_PRJ_C_FY1989.csv\n",
      "../data/nih_grants/RePORTER_PRJ_C_FY1990.csv\n",
      "../data/nih_grants/RePORTER_PRJ_C_FY1991.csv\n",
      "../data/nih_grants/RePORTER_PRJ_C_FY1992.csv\n",
      "../data/nih_grants/RePORTER_PRJ_C_FY1993.csv\n",
      "../data/nih_grants/RePORTER_PRJ_C_FY1994.csv\n",
      "../data/nih_grants/RePORTER_PRJ_C_FY1995.csv\n",
      "../data/nih_grants/RePORTER_PRJ_C_FY1996.csv\n",
      "../data/nih_grants/RePORTER_PRJ_C_FY1997.csv\n",
      "../data/nih_grants/RePORTER_PRJ_C_FY1998.csv\n",
      "../data/nih_grants/RePORTER_PRJ_C_FY1999.csv\n",
      "../data/nih_grants/RePORTER_PRJ_C_FY2000.csv\n",
      "../data/nih_grants/RePORTER_PRJ_C_FY2001.csv\n",
      "../data/nih_grants/RePORTER_PRJ_C_FY2002.csv\n",
      "../data/nih_grants/RePORTER_PRJ_C_FY2003.csv\n",
      "../data/nih_grants/RePORTER_PRJ_C_FY2004.csv\n",
      "../data/nih_grants/RePORTER_PRJ_C_FY2005.csv\n",
      "../data/nih_grants/RePORTER_PRJ_C_FY2006.csv\n",
      "../data/nih_grants/RePORTER_PRJ_C_FY2007.csv\n",
      "../data/nih_grants/RePORTER_PRJ_C_FY2008.csv\n",
      "../data/nih_grants/RePORTER_PRJ_C_FY2009.csv\n",
      "../data/nih_grants/RePORTER_PRJ_C_FY2010.csv\n",
      "../data/nih_grants/RePORTER_PRJ_C_FY2011.csv\n",
      "../data/nih_grants/RePORTER_PRJ_C_FY2012.csv\n",
      "../data/nih_grants/RePORTER_PRJ_C_FY2013.csv\n",
      "../data/nih_grants/RePORTER_PRJ_C_FY2014.csv\n",
      "../data/nih_grants/RePORTER_PRJ_C_FY2015.csv\n",
      "../data/nih_grants/RePORTER_PRJ_C_FY2016.csv\n"
     ]
    }
   ],
   "source": [
    "pi_name_to_grant_info = collections.defaultdict(lambda: set())\n",
    "for yr in range(1985, 2017):\n",
    "    fn = \"../data/nih_grants/RePORTER_PRJ_C_FY{}.csv\".format(yr)\n",
    "    print fn\n",
    "    with open(fn, 'r') as ifile:\n",
    "        reader = csv.reader(ifile, 'commadialect')\n",
    "        reader.next()\n",
    "        for row in reader:\n",
    "            if yr >= 1992 and yr <= 2008:\n",
    "                pi_col=28\n",
    "                if row[pi_col] == \"\": continue\n",
    "                try: a = float(row[40])\n",
    "                except: row[40] = 0  # funding\n",
    "                info = [row[9], row[23], row[30], float(row[40])]  # ProjectNum, OrgName, ProjectStart, TotalCost\n",
    "            else:\n",
    "                pi_col=29\n",
    "                if row[pi_col] == \"\": continue  # PI\n",
    "                if yr < 1992:\n",
    "                    try: a = float(row[40])\n",
    "                    except: row[40] = 0  # funding\n",
    "                    info = [row[9], row[24], row[31], float(row[40])]  # ProjectNum, OrgName, ProjectStart, TotalCost\n",
    "                else:\n",
    "                    try: a = float(row[41])\n",
    "                    except: row[41] = 0  # funding\n",
    "                    info = [row[9], row[24], row[31], float(row[41])]  # ProjectNum, OrgName, ProjectStart, TotalCost\n",
    "            pis = [pi.title().replace('.', '').replace(\" (Contact)\", \"\").strip() \\\n",
    "                   for pi in row[pi_col].split(';')[:-1]]\n",
    "            for pi in pis:\n",
    "                pi_name_to_grant_info[pi].add(tuple(info))\n",
    "                \n",
    "del pi_name_to_grant_info[\",\"]"
   ]
  },
  {
   "cell_type": "code",
   "execution_count": 35,
   "metadata": {
    "collapsed": false
   },
   "outputs": [
    {
     "data": {
      "text/plain": [
       "{('K08AR050007', 'STANFORD UNIVERSITY', '07/01/2004', 117747.0),\n",
       " ('P50HG007735', 'STANFORD UNIVERSITY', '', 108996.0),\n",
       " ('P50HG007735', 'STANFORD UNIVERSITY', '', 117872.0),\n",
       " ('P50HG007735', 'STANFORD UNIVERSITY', '', 128616.0),\n",
       " ('P50HG007735', 'STANFORD UNIVERSITY', '', 137827.0),\n",
       " ('P50HG007735', 'STANFORD UNIVERSITY', '', 553514.0),\n",
       " ('P50HG007735', 'STANFORD UNIVERSITY', '', 570012.0),\n",
       " ('P50HG007735', 'STANFORD UNIVERSITY', '9/1/2014', 115838.0),\n",
       " ('P50HG007735', 'STANFORD UNIVERSITY', '9/1/2014', 136659.0),\n",
       " ('P50HG007735', 'STANFORD UNIVERSITY', '9/1/2014', 560183.0),\n",
       " ('P50HG007735', 'STANFORD UNIVERSITY', '9/1/2014', 1928886.0),\n",
       " ('P50HG007735', 'STANFORD UNIVERSITY', '9/1/2014', 1961501.0),\n",
       " ('P50HG007735', 'STANFORD UNIVERSITY', '9/1/2014', 2194196.0),\n",
       " ('R01CA118750', 'STANFORD UNIVERSITY', '07/01/2007', 289676.0),\n",
       " ('R01CA118750', 'STANFORD UNIVERSITY', '07/01/2007', 297374.0),\n",
       " ('R01CA118750', 'STANFORD UNIVERSITY', '07/01/2007', 297782.0),\n",
       " ('R01CA118750', 'STANFORD UNIVERSITY', '07/01/2007', 300024.0),\n",
       " ('R01CA118750', 'STANFORD UNIVERSITY', '12/1/2005', 173242.0),\n",
       " ('R01CA118750', 'STANFORD UNIVERSITY', '12/1/2005', 178771.0),\n",
       " ('R01CA118750', 'STANFORD UNIVERSITY', '12/1/2005', 184300.0),\n",
       " ('R01CA118750', 'STANFORD UNIVERSITY', '7/1/2007', 298201.0),\n",
       " ('R01ES023168', 'STANFORD UNIVERSITY', '8/20/2013', 338148.0),\n",
       " ('R01ES023168', 'STANFORD UNIVERSITY', '8/20/2013', 345871.0),\n",
       " ('R01ES023168', 'STANFORD UNIVERSITY', '8/20/2013', 350147.0),\n",
       " ('R01ES023168', 'STANFORD UNIVERSITY', '8/20/2013', 361208.0),\n",
       " ('R01HG004361', 'STANFORD UNIVERSITY', '09/18/2007', 409781.0),\n",
       " ('R01HG004361', 'STANFORD UNIVERSITY', '09/18/2007', 413344.0),\n",
       " ('R01HG004361', 'STANFORD UNIVERSITY', '09/18/2007', 415403.0),\n",
       " ('R01HG004361', 'STANFORD UNIVERSITY', '09/18/2007', 570000.0),\n",
       " ('R01HG004361', 'STANFORD UNIVERSITY', '9/18/2007', 381783.0),\n",
       " ('R01HG004361', 'STANFORD UNIVERSITY', '9/18/2007', 401357.0),\n",
       " ('R01HG004361', 'STANFORD UNIVERSITY', '9/18/2007', 492104.0),\n",
       " ('R21CA124663', 'STANFORD UNIVERSITY', '07/01/2007', 158000.0),\n",
       " ('R21CA124663', 'STANFORD UNIVERSITY', '07/01/2007', 189600.0),\n",
       " ('R35CA209919', 'STANFORD UNIVERSITY', '8/3/2016', 446417.0),\n",
       " ('RC4NS073015', 'STANFORD UNIVERSITY', '9/30/2010', 2908784.0),\n",
       " ('U19AI110491', 'STANFORD UNIVERSITY', '', 70110.0),\n",
       " ('U19AI110491', 'STANFORD UNIVERSITY', '', 89491.0),\n",
       " ('U19AI110491', 'STANFORD UNIVERSITY', '5/1/2014', 89491.0)}"
      ]
     },
     "execution_count": 35,
     "metadata": {},
     "output_type": "execute_result"
    }
   ],
   "source": [
    "pi_name_to_grant_info[\"Chang, Howard Y\"]"
   ]
  },
  {
   "cell_type": "code",
   "execution_count": 4,
   "metadata": {
    "collapsed": false
   },
   "outputs": [
    {
     "name": "stdout",
     "output_type": "stream",
     "text": [
      "../data/nih_papers_to_grant_links/RePORTER_PUBLNK_C_2011.csv\n",
      "../data/nih_papers_to_grant_links/RePORTER_PUBLNK_C_2000.csv\n",
      "../data/nih_papers_to_grant_links/RePORTER_PUBLNK_C_1980.csv\n",
      "../data/nih_papers_to_grant_links/RePORTER_PUBLNK_C_1997.csv\n",
      "../data/nih_papers_to_grant_links/RePORTER_PUBLNK_C_1989.csv\n",
      "../data/nih_papers_to_grant_links/RePORTER_PUBLNK_C_2009.csv\n",
      "../data/nih_papers_to_grant_links/RePORTER_PUBLNK_C_2016.csv\n",
      "../data/nih_papers_to_grant_links/RePORTER_PUBLNK_C_1981.csv\n",
      "../data/nih_papers_to_grant_links/RePORTER_PUBLNK_C_2001.csv\n",
      "../data/nih_papers_to_grant_links/RePORTER_PUBLNK_C_1983.csv\n",
      "../data/nih_papers_to_grant_links/RePORTER_PUBLNK_C_1991.csv\n",
      "../data/nih_papers_to_grant_links/RePORTER_PUBLNK_C_1984.csv\n",
      "../data/nih_papers_to_grant_links/RePORTER_PUBLNK_C_2007.csv\n",
      "../data/nih_papers_to_grant_links/RePORTER_PUBLNK_C_1986.csv\n",
      "../data/nih_papers_to_grant_links/RePORTER_PUBLNK_C_2012.csv\n",
      "../data/nih_papers_to_grant_links/RePORTER_PUBLNK_C_2005.csv\n",
      "../data/nih_papers_to_grant_links/RePORTER_PUBLNK_C_1990.csv\n",
      "../data/nih_papers_to_grant_links/RePORTER_PUBLNK_C_2004.csv\n",
      "../data/nih_papers_to_grant_links/RePORTER_PUBLNK_C_2002.csv\n",
      "../data/nih_papers_to_grant_links/RePORTER_PUBLNK_C_2015.csv\n",
      "../data/nih_papers_to_grant_links/RePORTER_PUBLNK_C_1994.csv\n",
      "../data/nih_papers_to_grant_links/RePORTER_PUBLNK_C_1999.csv\n",
      "../data/nih_papers_to_grant_links/RePORTER_PUBLNK_C_1987.csv\n",
      "../data/nih_papers_to_grant_links/RePORTER_PUBLNK_C_2013.csv\n",
      "../data/nih_papers_to_grant_links/RePORTER_PUBLNK_C_1988.csv\n",
      "../data/nih_papers_to_grant_links/RePORTER_PUBLNK_C_1995.csv\n",
      "../data/nih_papers_to_grant_links/RePORTER_PUBLNK_C_1982.csv\n",
      "../data/nih_papers_to_grant_links/RePORTER_PUBLNK_C_2006.csv\n",
      "../data/nih_papers_to_grant_links/RePORTER_PUBLNK_C_1996.csv\n",
      "../data/nih_papers_to_grant_links/RePORTER_PUBLNK_C_1992.csv\n",
      "../data/nih_papers_to_grant_links/RePORTER_PUBLNK_C_2010.csv\n",
      "../data/nih_papers_to_grant_links/RePORTER_PUBLNK_C_2008.csv\n",
      "../data/nih_papers_to_grant_links/RePORTER_PUBLNK_C_1993.csv\n",
      "../data/nih_papers_to_grant_links/RePORTER_PUBLNK_C_2003.csv\n",
      "../data/nih_papers_to_grant_links/RePORTER_PUBLNK_C_2014.csv\n",
      "../data/nih_papers_to_grant_links/RePORTER_PUBLNK_C_1985.csv\n",
      "../data/nih_papers_to_grant_links/RePORTER_PUBLNK_C_1998.csv\n"
     ]
    }
   ],
   "source": [
    "grant_to_papers = collections.defaultdict(lambda: set())\n",
    "for fn in glob.glob(\"../data/nih_papers_to_grant_links/*.csv\"):\n",
    "    print fn\n",
    "    with open(fn, 'r') as ifile:\n",
    "        reader = csv.reader(ifile, 'commadialect')\n",
    "        reader.next()\n",
    "        for row in reader:\n",
    "            grant_to_papers[row[1].replace(\"\\\"\", \"\")].add(int(row[0]))"
   ]
  },
  {
   "cell_type": "code",
   "execution_count": 25,
   "metadata": {
    "collapsed": false
   },
   "outputs": [
    {
     "data": {
      "text/plain": [
       "['K02AI001867',\n",
       " 'R01ES002849',\n",
       " 'R01NR004422',\n",
       " 'R01NR004423',\n",
       " 'R21DA026773',\n",
       " 'R21DA026772',\n",
       " 'F32NS074839',\n",
       " 'K12CA001727',\n",
       " 'R21CA118222',\n",
       " 'R01ES002846']"
      ]
     },
     "execution_count": 25,
     "metadata": {},
     "output_type": "execute_result"
    }
   ],
   "source": [
    "grant_to_papers.keys()[:10]"
   ]
  },
  {
   "cell_type": "code",
   "execution_count": 6,
   "metadata": {
    "collapsed": false
   },
   "outputs": [],
   "source": [
    "pickle.dump((dict(pi_name_to_grant_info), dict(grant_to_papers)), open(\"../data/grant_data.pkl\", 'w'))"
   ]
  },
  {
   "cell_type": "code",
   "execution_count": 39,
   "metadata": {
    "collapsed": false
   },
   "outputs": [
    {
     "data": {
      "image/png": "[encoded data removed]",
      "text/plain": [
       "<matplotlib.figure.Figure at 0x2b1956594c90>"
      ]
     },
     "metadata": {},
     "output_type": "display_data"
    }
   ],
   "source": [
    "num_paper_per_grant = [len(grant_to_papers[x]) for x in grant_to_papers]\n",
    "sns.distplot(num_paper_per_grant, kde=False, bins=range(0,300,5))\n",
    "sns.plt.xlim([0,300])\n",
    "sns.plt.yscale('log')"
   ]
  },
  {
   "cell_type": "code",
   "execution_count": 40,
   "metadata": {
    "collapsed": false,
    "scrolled": true
   },
   "outputs": [
    {
     "data": {
      "image/png": "[encoded data removed]",
      "text/plain": [
       "<matplotlib.figure.Figure at 0x2b195172c6d0>"
      ]
     },
     "metadata": {},
     "output_type": "display_data"
    }
   ],
   "source": [
    "num_paper_per_r01 = [len(grant_to_papers[x]) for x in grant_to_papers if 'R01' in x]\n",
    "sns.distplot(num_paper_per_r01, kde=False, bins=range(0,300,5))\n",
    "sns.plt.xlim([0,300])\n",
    "sns.plt.yscale('log')"
   ]
  },
  {
   "cell_type": "markdown",
   "metadata": {},
   "source": [
    "## See if our analysis of authors is biased "
   ]
  },
  {
   "cell_type": "markdown",
   "metadata": {},
   "source": [
    "Since our analysis relies on authors with unique names, do people with unique names have different grant success than those who don't?\n",
    "\n",
    "We exclude grants that fund training programs or centers, or that fund research in small businesses."
   ]
  },
  {
   "cell_type": "code",
   "execution_count": 7,
   "metadata": {
    "collapsed": true
   },
   "outputs": [],
   "source": [
    "(cluster_author_to_pmids, author_to_cluster_name) = pickle.load(open(\"../data/nih_author_cluster_names.pkl\", 'r'))\n",
    "(pi_name_to_grant_info, grant_to_papers) = pickle.load(open(\"../data/grant_data.pkl\", 'r'))"
   ]
  },
  {
   "cell_type": "code",
   "execution_count": 38,
   "metadata": {
    "collapsed": false
   },
   "outputs": [],
   "source": [
    "num_grants_unique = []\n",
    "num_grants_unique_ln = []  # Current Biology paper defines unique authors as those with unique last names\n",
    "num_grants_notunique = []\n",
    "num_papers_unique = []\n",
    "num_papers_unique_ln = []\n",
    "num_papers_notunique = []\n",
    "\n",
    "# Get list of authors with unique last names\n",
    "all_last_names = []\n",
    "for au in pi_name_to_grant_info:\n",
    "    ln = au.split(',')[0]\n",
    "    all_last_names.append(ln)\n",
    "    \n",
    "all_last_names_ctr = collections.Counter(all_last_names)\n",
    "unique_ln_authors = set()\n",
    "for au in pi_name_to_grant_info:\n",
    "    ln = au.split(',')[0]\n",
    "    if all_last_names_ctr[ln] == 1:\n",
    "        unique_ln_authors.add(au)\n",
    "\n",
    "# Calculate grant and paper statistics for each author\n",
    "grant_not_found = set()\n",
    "for author in pi_name_to_grant_info:\n",
    "#     has_r01 = False\n",
    "#     for grant in pi_name_to_grant_info[author]:\n",
    "#         if 'R01' in grant[0]: has_r01 = True\n",
    "#     if not has_r01: continue\n",
    "        \n",
    "    total_papers = 0\n",
    "    already_processed_grants = set()\n",
    "    for grant in pi_name_to_grant_info[author]:\n",
    "        if 'P30' in grant[0] or 'P01' in grant[0] or 'UL1' in grant[0]: continue\n",
    "        if 'M01' in grant[0] or 'P51' in grant[0] or 'P41' in grant[0]: continue\n",
    "        if 'P42' in grant[0] or 'P60' in grant[0] or 'P50' in grant[0]: continue\n",
    "        if 'R13' in grant[0] or 'R43' in grant[0] or 'R44' in grant[0]: continue\n",
    "        if 'N01' in grant[0]: continue\n",
    "            \n",
    "        if grant[0] not in grant_to_papers:\n",
    "            grant_not_found.add(grant[0])\n",
    "            continue\n",
    "        if grant[0] not in already_processed_grants:\n",
    "            total_papers += len(grant_to_papers[grant[0]])\n",
    "            already_processed_grants.add(grant[0])\n",
    "\n",
    "    num_grants = len(already_processed_grants)\n",
    "    if total_papers < 3: continue\n",
    "    if author in cluster_author_to_pmids:\n",
    "        num_grants_unique.append(num_grants)\n",
    "        num_papers_unique.append(total_papers)\n",
    "\n",
    "        if author in unique_ln_authors:\n",
    "            num_grants_unique_ln.append(num_grants)\n",
    "            num_papers_unique_ln.append(total_papers) \n",
    "    else:\n",
    "        num_grants_notunique.append(num_grants)\n",
    "        num_papers_notunique.append(total_papers)  "
   ]
  },
  {
   "cell_type": "code",
   "execution_count": 40,
   "metadata": {
    "collapsed": false
   },
   "outputs": [
    {
     "data": {
      "text/plain": [
       "<matplotlib.text.Text at 0x7f4efdfaa510>"
      ]
     },
     "execution_count": 40,
     "metadata": {},
     "output_type": "execute_result"
    },
    {
     "data": {
      "image/png": "[encoded data removed]",
      "text/plain": [
       "<matplotlib.figure.Figure at 0x7f4e4e6e5cd0>"
      ]
     },
     "metadata": {},
     "output_type": "display_data"
    }
   ],
   "source": [
    "sns.kdeplot(np.log10(np.array(num_papers_unique_ln)), label=\"PIs with unique last names, n={}\".format(len(num_papers_unique_ln)))\n",
    "sns.kdeplot(np.log10(np.array(num_papers_unique)), label=\"PIs with unique names, n={}\".format(len(num_papers_unique)))\n",
    "sns.kdeplot(np.log10(np.array(num_papers_notunique)), label=\"PIs without unique names, n={}\".format(len(num_papers_notunique)))\n",
    "sns.plt.legend()\n",
    "sns.plt.title(\"Number of papers for PIs based on uniqueness of name\")\n",
    "sns.plt.xlabel(\"log10 Number of papers\")\n",
    "sns.plt.ylabel(\"Density\")"
   ]
  },
  {
   "cell_type": "code",
   "execution_count": 59,
   "metadata": {
    "collapsed": false
   },
   "outputs": [
    {
     "data": {
      "text/plain": [
       "MannwhitneyuResult(statistic=900240879.0, pvalue=4.6742058348906772e-09)"
      ]
     },
     "execution_count": 59,
     "metadata": {},
     "output_type": "execute_result"
    }
   ],
   "source": [
    "import scipy\n",
    "scipy.stats.mannwhitneyu(num_papers_unique, num_papers_notunique)"
   ]
  },
  {
   "cell_type": "code",
   "execution_count": 41,
   "metadata": {
    "collapsed": false
   },
   "outputs": [
    {
     "data": {
      "text/plain": [
       "<matplotlib.text.Text at 0x7f4e57aae610>"
      ]
     },
     "execution_count": 41,
     "metadata": {},
     "output_type": "execute_result"
    },
    {
     "data": {
      "image/png": "[encoded data removed]",
      "text/plain": [
       "<matplotlib.figure.Figure at 0x7f4ed6e44210>"
      ]
     },
     "metadata": {},
     "output_type": "display_data"
    }
   ],
   "source": [
    "sns.kdeplot(np.array(num_grants_unique_ln), label=\"PIs with unique last names, n={}\".format(len(num_papers_unique_ln)))\n",
    "sns.kdeplot(np.array(num_grants_unique), label=\"PIs with unique names, n={}\".format(len(num_papers_unique)))\n",
    "sns.kdeplot(np.array(num_grants_notunique), label=\"PIs without unique names, n={}\".format(len(num_papers_notunique)))\n",
    "sns.plt.legend()\n",
    "sns.plt.xlim(0,20)\n",
    "sns.plt.title(\"Number of grants for PIs based on uniqueness of name\")\n",
    "sns.plt.xlabel(\"Number of grants\")\n",
    "sns.plt.ylabel(\"Density\")"
   ]
  },
  {
   "cell_type": "code",
   "execution_count": 66,
   "metadata": {
    "collapsed": false
   },
   "outputs": [
    {
     "data": {
      "text/plain": [
       "Ks_2sampResult(statistic=0.073937121206290257, pvalue=1.6055265636229262e-86)"
      ]
     },
     "execution_count": 66,
     "metadata": {},
     "output_type": "execute_result"
    }
   ],
   "source": [
    "scipy.stats.mannwhitneyu(num_grants_unique, num_grants_notunique)"
   ]
  },
  {
   "cell_type": "markdown",
   "metadata": {},
   "source": [
    "There have been 101,990 PIs since 1980, and 23% have unique names. Surprisingly, it seems like for PIs who have unique names (those for whom we were able to unambiguously associate paper trajectories), they have just slightly more grants and papers. However, this might be because the grant data is from 1980, whereas our paper trajectories start at 1985.\n",
    "\n",
    "In any case, these analyses suggest that by only taking authors with unique names, we aren't biased towards authors who have lower productivity. If anything, they may actually have higher productivity -- which could reduce the generalizability of our analysis."
   ]
  }
 ],
 "metadata": {
  "anaconda-cloud": {},
  "kernelspec": {
   "display_name": "Python [default]",
   "language": "python",
   "name": "python2"
  },
  "language_info": {
   "codemirror_mode": {
    "name": "ipython",
    "version": 2
   },
   "file_extension": ".py",
   "mimetype": "text/x-python",
   "name": "python",
   "nbconvert_exporter": "python",
   "pygments_lexer": "ipython2",
   "version": "2.7.12"
  }
 },
 "nbformat": 4,
 "nbformat_minor": 2
}
